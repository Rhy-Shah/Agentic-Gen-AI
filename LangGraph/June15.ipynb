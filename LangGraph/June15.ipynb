{
 "cells": [
  {
   "cell_type": "code",
   "execution_count": 79,
   "id": "77a54e41",
   "metadata": {},
   "outputs": [],
   "source": [
    "from langchain_groq import ChatGroq\n",
    "llm = ChatGroq(model_name = \"deepseek-r1-distill-llama-70b\", temperature=0)"
   ]
  },
  {
   "cell_type": "code",
   "execution_count": 80,
   "id": "ead827e8",
   "metadata": {},
   "outputs": [],
   "source": [
    "response = llm.invoke(\"What is the length of the Great Wall of China in kilometers?\")"
   ]
  },
  {
   "cell_type": "code",
   "execution_count": 81,
   "id": "cc3861b5",
   "metadata": {},
   "outputs": [
    {
     "data": {
      "text/plain": [
       "AIMessage(content=\"<think>\\nOkay, so I need to figure out the length of the Great Wall of China in kilometers. I remember hearing that it's a really long wall, but I'm not exactly sure how long. I think it's somewhere in the thousands of kilometers, but I'm not certain about the exact number.\\n\\nFirst, I should probably consider where I might have heard about this before. Maybe in school or from a documentary. I recall that the Great Wall is one of the longest structures ever built, so it's definitely more than a thousand kilometers. But how much more?\\n\\nI think I've heard different numbers before. Some people say it's around 13,000 kilometers, while others claim it's longer, maybe even 21,000 kilometers. I'm not sure which one is correct. Maybe it depends on how they measure it—whether they include all the branches and sections or just the main part.\\n\\nI should also think about the history of the wall. It was built over many centuries, with different dynasties contributing to its construction. That means the wall isn't a single, continuous structure but rather a series of separate sections built at different times. Some parts are better known and more touristy, like the sections near Beijing, while others are more remote and less visited.\\n\\nI wonder if the length includes all the watchtowers, beacon towers, and other structures, or just the wall itself. That could affect the total measurement. Also, some sections have been damaged or eroded over time, so maybe the original length was longer than what exists today.\\n\\nI think the most recent measurements might have used more accurate methods, like satellite imaging or GPS, to calculate the length. That could explain why some sources give a longer figure than others. If they used older, less precise methods, the estimate might have been lower.\\n\\nAnother thing to consider is the definition of the wall. Does it include all the parallel structures and the paths that connect them, or is it just the main wall? If they include all the smaller walls and fortifications, the total length would be significantly longer.\\n\\nI also remember that the Great Wall is not just in one place; it stretches across multiple provinces in China. So, measuring its length would involve adding up all the sections in each province, which might complicate the total.\\n\\nI should check if there's an official figure from a reliable source, like UNESCO or the Chinese government. They might have conducted official surveys to determine the exact length. I think UNESCO has recognized the Great Wall as a World Heritage site, so they might have some data on it.\\n\\nWait, I think I read somewhere that the National Cultural Heritage Administration of China conducted a survey and found the wall to be about 13,170 miles long. But I'm not sure if that's the most recent figure or if it's been updated since then.\\n\\nConverting miles to kilometers, since the question asks for kilometers, I know that 1 mile is approximately 1.60934 kilometers. So, if it's 13,170 miles, that would be roughly 13,170 * 1.60934. Let me do that calculation: 13,170 * 1.6 is 21,072, and 13,170 * 0.00934 is about 123, so adding those together gives roughly 21,195 kilometers. That seems really long, but I think that's what some sources suggest.\\n\\nHowever, I also recall that some sources say the wall is about 21,196 kilometers long, which matches the calculation I just did. So maybe that's the accurate figure. But I'm still a bit confused because I've heard both 13,000 and 21,000 kilometers before.\\n\\nI think the discrepancy comes from whether they're measuring just the main wall or all the branches and parallel structures. The longer figure likely includes all the smaller sections and fortifications, making the total length much longer.\\n\\nSo, putting it all together, the Great Wall of China is approximately 21,196 kilometers long when all sections are included. That makes sense because it's a series of walls built over centuries, covering a vast area across China.\\n</think>\\n\\nThe Great Wall of China is approximately 21,196 kilometers long when all sections, including branches and parallel structures, are considered. This figure accounts for the various segments built over centuries across different regions of China.\", additional_kwargs={}, response_metadata={'token_usage': {'completion_tokens': 887, 'prompt_tokens': 16, 'total_tokens': 903, 'completion_time': 3.744123589, 'prompt_time': 0.000947097, 'queue_time': 0.218347024, 'total_time': 3.745070686}, 'model_name': 'deepseek-r1-distill-llama-70b', 'system_fingerprint': 'fp_1bbe7845ec', 'finish_reason': 'stop', 'logprobs': None}, id='run--c4657a23-0f52-4fc2-a40b-8d572452a52f-0', usage_metadata={'input_tokens': 16, 'output_tokens': 887, 'total_tokens': 903})"
      ]
     },
     "execution_count": 81,
     "metadata": {},
     "output_type": "execute_result"
    }
   ],
   "source": [
    "response"
   ]
  },
  {
   "cell_type": "code",
   "execution_count": 82,
   "id": "2cd4363e",
   "metadata": {},
   "outputs": [],
   "source": [
    "from langchain.tools import tool"
   ]
  },
  {
   "cell_type": "code",
   "execution_count": 83,
   "id": "dbe1bcec",
   "metadata": {},
   "outputs": [],
   "source": [
    "@tool\n",
    "def multiply(a: int, b: int) -> int:\n",
    "    \"\"\"Multiply two numbers.\"\"\"\n",
    "    return a * b\n",
    "\n",
    "def add(a: int, b: int) -> int:\n",
    "    \"\"\"Add two numbers.\"\"\"\n",
    "    return a + b\n",
    "\n",
    "def divide(a: int, b: int) -> float:\n",
    "    \"\"\"Divide two numbers.\"\"\"\n",
    "    \n",
    "    if b==0:\n",
    "        raise ValueError(\"Cannot divide by zero.\")\n",
    "    return a / b"
   ]
  },
  {
   "cell_type": "code",
   "execution_count": 84,
   "id": "424cc84b",
   "metadata": {},
   "outputs": [],
   "source": [
    "from langchain_community.tools import DuckDuckGoSearchRun\n",
    "search = DuckDuckGoSearchRun()"
   ]
  },
  {
   "cell_type": "code",
   "execution_count": 85,
   "id": "4f6a893f",
   "metadata": {},
   "outputs": [
    {
     "data": {
      "text/plain": [
       "'AI News reports on the latest artificial intelligence news and insights. Explore industry trends from the frontline of AI. Artificial Intelligence News. Everything on AI including futuristic robots with artificial intelligence, computer models of human intelligence and more. Top 10 AI News Stories You Don\\'t Want to Miss 1. OpenAI Launches Operator. Earlier today, we reported on OpenAI\\'s rollout of Operator, an AI agent that handles tasks directly on the web. Currently available as a \"research preview\" for ChatGPT Pro users in the United States, Operator is designed to perform actions on websites, such as ... Reuters and AI, opens new tab; Reuters Leadership, opens new tab; ... Reuters, the news and media division of Thomson Reuters, is the world\\'s largest multimedia news provider, reaching billions ... All the latest breaking news on Artificial Intelligence. Browse Newsweek archives of photos, videos and articles on Artificial Intelligence.'"
      ]
     },
     "execution_count": 85,
     "metadata": {},
     "output_type": "execute_result"
    }
   ],
   "source": [
    "search.invoke(\"What is the latest news on AI?\")"
   ]
  },
  {
   "cell_type": "code",
   "execution_count": 86,
   "id": "ea1ebfb1",
   "metadata": {},
   "outputs": [],
   "source": [
    "tools = [multiply, add, divide, search]"
   ]
  },
  {
   "cell_type": "code",
   "execution_count": 87,
   "id": "ce6e725d",
   "metadata": {},
   "outputs": [],
   "source": [
    "llm_with_tools = llm.bind_tools(tools)"
   ]
  },
  {
   "cell_type": "code",
   "execution_count": 88,
   "id": "469c2d23",
   "metadata": {},
   "outputs": [
    {
     "data": {
      "text/plain": [
       "'Hello! How can I assist you today?'"
      ]
     },
     "execution_count": 88,
     "metadata": {},
     "output_type": "execute_result"
    }
   ],
   "source": [
    "response = llm_with_tools.invoke(\"Hi\")\n",
    "response.content"
   ]
  },
  {
   "cell_type": "code",
   "execution_count": 89,
   "id": "ea7890d0",
   "metadata": {},
   "outputs": [
    {
     "data": {
      "text/plain": [
       "[]"
      ]
     },
     "execution_count": 89,
     "metadata": {},
     "output_type": "execute_result"
    }
   ],
   "source": [
    "response.tool_calls"
   ]
  },
  {
   "cell_type": "code",
   "execution_count": 90,
   "id": "4a909d75",
   "metadata": {},
   "outputs": [
    {
     "data": {
      "text/plain": [
       "''"
      ]
     },
     "execution_count": 90,
     "metadata": {},
     "output_type": "execute_result"
    }
   ],
   "source": [
    "response = llm_with_tools.invoke(\"What is 2+2?\")\n",
    "response.content"
   ]
  },
  {
   "cell_type": "code",
   "execution_count": 91,
   "id": "e165cac5",
   "metadata": {},
   "outputs": [
    {
     "data": {
      "text/plain": [
       "[{'name': 'add',\n",
       "  'args': {'a': 2, 'b': 2},\n",
       "  'id': 'agzh44e7p',\n",
       "  'type': 'tool_call'}]"
      ]
     },
     "execution_count": 91,
     "metadata": {},
     "output_type": "execute_result"
    }
   ],
   "source": [
    "response.tool_calls"
   ]
  },
  {
   "cell_type": "code",
   "execution_count": 92,
   "id": "c16854fd",
   "metadata": {},
   "outputs": [
    {
     "data": {
      "text/plain": [
       "''"
      ]
     },
     "execution_count": 92,
     "metadata": {},
     "output_type": "execute_result"
    }
   ],
   "source": [
    "response = llm_with_tools.invoke(\"What is 3/2?\")\n",
    "response.content"
   ]
  },
  {
   "cell_type": "code",
   "execution_count": 93,
   "id": "c266e230",
   "metadata": {},
   "outputs": [
    {
     "data": {
      "text/plain": [
       "[{'name': 'divide',\n",
       "  'args': {'a': 3, 'b': 2},\n",
       "  'id': '6j38dpm1c',\n",
       "  'type': 'tool_call'}]"
      ]
     },
     "execution_count": 93,
     "metadata": {},
     "output_type": "execute_result"
    }
   ],
   "source": [
    "response.tool_calls"
   ]
  },
  {
   "cell_type": "code",
   "execution_count": 94,
   "id": "bf3a1ad5",
   "metadata": {},
   "outputs": [
    {
     "data": {
      "text/plain": [
       "''"
      ]
     },
     "execution_count": 94,
     "metadata": {},
     "output_type": "execute_result"
    }
   ],
   "source": [
    "response = llm_with_tools.invoke(\"What is the current age of the universe?\")\n",
    "response.content"
   ]
  },
  {
   "cell_type": "code",
   "execution_count": 95,
   "id": "c619ac54",
   "metadata": {},
   "outputs": [
    {
     "data": {
      "text/plain": [
       "[{'name': 'duckduckgo_search',\n",
       "  'args': {'query': 'current age of the universe 2023'},\n",
       "  'id': '4fpmer1mx',\n",
       "  'type': 'tool_call'}]"
      ]
     },
     "execution_count": 95,
     "metadata": {},
     "output_type": "execute_result"
    }
   ],
   "source": [
    "response.tool_calls"
   ]
  },
  {
   "cell_type": "code",
   "execution_count": null,
   "id": "3061c837",
   "metadata": {},
   "outputs": [],
   "source": []
  },
  {
   "cell_type": "code",
   "execution_count": null,
   "id": "c0d9c47f",
   "metadata": {},
   "outputs": [],
   "source": [
    "from langchain_core.messages import HumanMessage, SystemMessage\n",
    "from langgraph.graph import MessagesState, StateGraph, START, END\n",
    "from langgraph.prebuilt import ToolNode, tools_condition"
   ]
  },
  {
   "cell_type": "code",
   "execution_count": 97,
   "id": "daa33c9e",
   "metadata": {},
   "outputs": [],
   "source": [
    "def function1():\n",
    "    pass"
   ]
  },
  {
   "cell_type": "code",
   "execution_count": null,
   "id": "fd4d2661",
   "metadata": {},
   "outputs": [
    {
     "data": {
      "text/plain": [
       "<langgraph.graph.state.StateGraph at 0x10f642c10>"
      ]
     },
     "execution_count": 98,
     "metadata": {},
     "output_type": "execute_result"
    }
   ],
   "source": [
    "builder = StateGraph(MessagesState)\n",
    "\n",
    "builder.add_node(\"Supervisor\", function1)\n",
    "builder.add_node(\"tools\", ToolNode(tools))\n",
    "\n",
    "builder.add_edge(START, \"Supervisor\")\n",
    "builder.add_conditional_edges(\"Supervisor\", tools_condition)\n",
    "builder.add_edge(\"tools\",\"Supervisor\")\n",
    "\n",
    "reactor = builder.compile()"
   ]
  },
  {
   "cell_type": "code",
   "execution_count": 101,
   "id": "5a16ac44",
   "metadata": {},
   "outputs": [
    {
     "data": {
      "image/png": "[encoded data removed]",
      "text/plain": [
       "<langgraph.graph.state.CompiledStateGraph object at 0x10e46c440>"
      ]
     },
     "execution_count": 101,
     "metadata": {},
     "output_type": "execute_result"
    }
   ],
   "source": [
    "reactor"
   ]
  },
  {
   "cell_type": "code",
   "execution_count": null,
   "id": "a119105f",
   "metadata": {},
   "outputs": [],
   "source": []
  }
 ],
 "metadata": {
  "kernelspec": {
   "display_name": "Python 3",
   "language": "python",
   "name": "python3"
  },
  "language_info": {
   "codemirror_mode": {
    "name": "ipython",
    "version": 3
   },
   "file_extension": ".py",
   "mimetype": "text/x-python",
   "name": "python",
   "nbconvert_exporter": "python",
   "pygments_lexer": "ipython3",
   "version": "3.13.2"
  }
 },
 "nbformat": 4,
 "nbformat_minor": 5
}
