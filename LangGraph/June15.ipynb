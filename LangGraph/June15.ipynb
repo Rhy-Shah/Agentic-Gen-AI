{
 "cells": [
  {
   "cell_type": "code",
   "execution_count": 1,
   "id": "4bb28d6b",
   "metadata": {},
   "outputs": [
    {
     "data": {
      "text/plain": [
       "True"
      ]
     },
     "execution_count": 1,
     "metadata": {},
     "output_type": "execute_result"
    }
   ],
   "source": [
    "import os\n",
    "from dotenv import load_dotenv\n",
    "load_dotenv()"
   ]
  },
  {
   "cell_type": "code",
   "execution_count": 2,
   "id": "2cb4fa03",
   "metadata": {},
   "outputs": [],
   "source": [
    "os.environ[\"GROQ_API_KEY\"] = os.getenv(\"GROQ_API_KEY\")"
   ]
  },
  {
   "cell_type": "code",
   "execution_count": 3,
   "id": "1e28ec71",
   "metadata": {},
   "outputs": [],
   "source": [
    "model = \"deepseek-r1-distill-llama-70b\""
   ]
  },
  {
   "cell_type": "code",
   "execution_count": 4,
   "id": "232f88fb",
   "metadata": {},
   "outputs": [],
   "source": [
    "from langchain_groq import ChatGroq"
   ]
  },
  {
   "cell_type": "code",
   "execution_count": 5,
   "id": "84b33138",
   "metadata": {},
   "outputs": [],
   "source": [
    "llm = ChatGroq(model=model)"
   ]
  },
  {
   "cell_type": "code",
   "execution_count": 6,
   "id": "dcc6fd56",
   "metadata": {},
   "outputs": [
    {
     "data": {
      "text/plain": [
       "AIMessage(content=\"<think>\\n\\n</think>\\n\\nHi there! I suggest getting online to get real-time information. If you have any other questions, please don't hesitate to let me know!\", additional_kwargs={}, response_metadata={'token_usage': {'completion_tokens': 34, 'prompt_tokens': 13, 'total_tokens': 47, 'completion_time': 0.212753428, 'prompt_time': 0.000445725, 'queue_time': 0.21980403199999998, 'total_time': 0.213199153}, 'model_name': 'deepseek-r1-distill-llama-70b', 'system_fingerprint': 'fp_1bbe7845ec', 'finish_reason': 'stop', 'logprobs': None}, id='run--a25a0e21-a23b-4939-a697-3e9c8f180556-0', usage_metadata={'input_tokens': 13, 'output_tokens': 34, 'total_tokens': 47})"
      ]
     },
     "execution_count": 6,
     "metadata": {},
     "output_type": "execute_result"
    }
   ],
   "source": [
    "llm.invoke(\"Hey, what's the weather like in SF?\")"
   ]
  },
  {
   "cell_type": "code",
   "execution_count": 7,
   "id": "724dd87a",
   "metadata": {},
   "outputs": [],
   "source": [
    "import operator\n",
    "from typing import List\n",
    "from langchain_core.messages import AIMessage, BaseMessage, HumanMessage\n",
    "from langgraph.graph.message import add_messages\n",
    "from langchain_core.output_parsers import StrOutputParser\n",
    "from langchain_core.prompts import ChatPromptTemplate, PromptTemplate\n",
    "from langchain_core.runnables import RunnablePassthrough\n",
    "from langgraph.graph import END, StateGraph, MessagesState, START\n",
    "from pydantic import BaseModel, Field"
   ]
  },
  {
   "cell_type": "code",
   "execution_count": 8,
   "id": "18451f3a",
   "metadata": {},
   "outputs": [],
   "source": [
    "def call_model(state):\n",
    "    message = state[\"messages\"]\n",
    "    response = llm.invoke(message)\n",
    "    return {\"messages\": [response]}"
   ]
  },
  {
   "cell_type": "code",
   "execution_count": 9,
   "id": "cb711a4a",
   "metadata": {},
   "outputs": [],
   "source": [
    "state = {\"messages\":[\"Hey, what's the weather like in SF?\"]}"
   ]
  },
  {
   "cell_type": "code",
   "execution_count": 10,
   "id": "b6e61cd1",
   "metadata": {},
   "outputs": [
    {
     "data": {
      "text/plain": [
       "{'messages': [AIMessage(content=\"<think>\\n\\n</think>\\n\\nHi there! I suggest getting online to get real-time information. If you have any other questions, please don't hesitate to let me know!\", additional_kwargs={}, response_metadata={'token_usage': {'completion_tokens': 34, 'prompt_tokens': 13, 'total_tokens': 47, 'completion_time': 0.209516883, 'prompt_time': 0.000429575, 'queue_time': 0.219609827, 'total_time': 0.209946458}, 'model_name': 'deepseek-r1-distill-llama-70b', 'system_fingerprint': 'fp_1bbe7845ec', 'finish_reason': 'stop', 'logprobs': None}, id='run--58b06cbe-1f42-4ea9-85ac-3e1f5da9513c-0', usage_metadata={'input_tokens': 13, 'output_tokens': 34, 'total_tokens': 47})]}"
      ]
     },
     "execution_count": 10,
     "metadata": {},
     "output_type": "execute_result"
    }
   ],
   "source": [
    "call_model(state)"
   ]
  },
  {
   "cell_type": "code",
   "execution_count": 11,
   "id": "98844f66",
   "metadata": {},
   "outputs": [],
   "source": [
    "workflow = StateGraph(MessagesState)"
   ]
  },
  {
   "cell_type": "code",
   "execution_count": 12,
   "id": "f10bcccd",
   "metadata": {},
   "outputs": [
    {
     "data": {
      "text/plain": [
       "<langgraph.graph.state.StateGraph at 0x107dff0e0>"
      ]
     },
     "execution_count": 12,
     "metadata": {},
     "output_type": "execute_result"
    }
   ],
   "source": [
    "workflow.add_node(\"mybot\", call_model)\n",
    "workflow.add_edge(START, \"mybot\")"
   ]
  },
  {
   "cell_type": "code",
   "execution_count": 13,
   "id": "d4d11d0d",
   "metadata": {},
   "outputs": [
    {
     "data": {
      "text/plain": [
       "<langgraph.graph.state.StateGraph at 0x107dff0e0>"
      ]
     },
     "execution_count": 13,
     "metadata": {},
     "output_type": "execute_result"
    }
   ],
   "source": [
    "workflow.add_edge(\"mybot\",END)"
   ]
  },
  {
   "cell_type": "code",
   "execution_count": 14,
   "id": "b5b5e2be",
   "metadata": {},
   "outputs": [],
   "source": [
    "app = workflow.compile()"
   ]
  },
  {
   "cell_type": "code",
   "execution_count": 15,
   "id": "ec8fcf1d",
   "metadata": {},
   "outputs": [
    {
     "data": {
      "image/png": "[encoded data removed]",
      "text/plain": [
       "<IPython.core.display.Image object>"
      ]
     },
     "metadata": {},
     "output_type": "display_data"
    }
   ],
   "source": [
    "from IPython.display import display, Image\n",
    "display(Image(app.get_graph().draw_mermaid_png()))"
   ]
  },
  {
   "cell_type": "code",
   "execution_count": 16,
   "id": "5e4ec27f",
   "metadata": {},
   "outputs": [],
   "source": [
    "input = {\"messages\": [\"Hey, what's the weather like in SF?\"]}"
   ]
  },
  {
   "cell_type": "code",
   "execution_count": 17,
   "id": "f29a3ea5",
   "metadata": {},
   "outputs": [
    {
     "data": {
      "text/plain": [
       "{'messages': [HumanMessage(content=\"Hey, what's the weather like in SF?\", additional_kwargs={}, response_metadata={}, id='ec596208-4031-4471-916f-e3f7c6e6dc17'),\n",
       "  AIMessage(content=\"<think>\\n\\n</think>\\n\\nHi there! I suggest getting online to get real-time information. If you have any other questions, please don't hesitate to let me know!\", additional_kwargs={}, response_metadata={'token_usage': {'completion_tokens': 34, 'prompt_tokens': 13, 'total_tokens': 47, 'completion_time': 0.205394878, 'prompt_time': 0.000421955, 'queue_time': 0.218772637, 'total_time': 0.205816833}, 'model_name': 'deepseek-r1-distill-llama-70b', 'system_fingerprint': 'fp_1bbe7845ec', 'finish_reason': 'stop', 'logprobs': None}, id='run--0786a1cd-c578-4a20-8c5f-2f594922118f-0', usage_metadata={'input_tokens': 13, 'output_tokens': 34, 'total_tokens': 47})]}"
      ]
     },
     "execution_count": 17,
     "metadata": {},
     "output_type": "execute_result"
    }
   ],
   "source": [
    "app.invoke(input)"
   ]
  },
  {
   "cell_type": "code",
   "execution_count": 18,
   "id": "43c49acf",
   "metadata": {},
   "outputs": [
    {
     "name": "stdout",
     "output_type": "stream",
     "text": [
      "mybot: {'messages': [AIMessage(content=\"<think>\\n\\n</think>\\n\\nHi there! I suggest getting online to get real-time information. If you have any other questions, please don't hesitate to let me know!\", additional_kwargs={}, response_metadata={'token_usage': {'completion_tokens': 34, 'prompt_tokens': 13, 'total_tokens': 47, 'completion_time': 0.208584562, 'prompt_time': 0.000410745, 'queue_time': 0.218566007, 'total_time': 0.208995307}, 'model_name': 'deepseek-r1-distill-llama-70b', 'system_fingerprint': 'fp_1bbe7845ec', 'finish_reason': 'stop', 'logprobs': None}, id='run--07e8120e-d525-48fb-bfee-48f5facf6a22-0', usage_metadata={'input_tokens': 13, 'output_tokens': 34, 'total_tokens': 47})]}\n"
     ]
    }
   ],
   "source": [
    "for output in app.stream(input):\n",
    "    for key, value in output.items():\n",
    "        print(f\"{key}: {value}\")"
   ]
  },
  {
   "cell_type": "code",
   "execution_count": 19,
   "id": "403fb582",
   "metadata": {},
   "outputs": [],
   "source": [
    "from langchain_core.tools import tool\n",
    "\n",
    "@tool\n",
    "def search(query: str):\n",
    "    \"\"\"Searches the web for a query and returns the top result.\"\"\"\n",
    "    if \"mumbai\" in query.lower():\n",
    "        return \"Temperature in Mumbai is 30°C with high humidity.\"\n",
    "    \n",
    "    return \"IDK\""
   ]
  },
  {
   "cell_type": "code",
   "execution_count": 20,
   "id": "a7378060",
   "metadata": {},
   "outputs": [
    {
     "data": {
      "text/plain": [
       "'IDK'"
      ]
     },
     "execution_count": 20,
     "metadata": {},
     "output_type": "execute_result"
    }
   ],
   "source": [
    "search.invoke(\"What is the temperature in Kashmir?\")"
   ]
  },
  {
   "cell_type": "code",
   "execution_count": 21,
   "id": "0236c9c7",
   "metadata": {},
   "outputs": [
    {
     "data": {
      "text/plain": [
       "'Temperature in Mumbai is 30°C with high humidity.'"
      ]
     },
     "execution_count": 21,
     "metadata": {},
     "output_type": "execute_result"
    }
   ],
   "source": [
    "search.invoke(\"What is the temperature in Mumbai?\")"
   ]
  },
  {
   "cell_type": "code",
   "execution_count": 22,
   "id": "0d04cf29",
   "metadata": {},
   "outputs": [],
   "source": [
    "tools = [search]\n",
    "llm_with_tool = llm.bind_tools(tools)"
   ]
  },
  {
   "cell_type": "code",
   "execution_count": 23,
   "id": "82bf4d4c",
   "metadata": {},
   "outputs": [],
   "source": [
    "response = llm_with_tool.invoke(\"What is the temperature in Mumbai?\")"
   ]
  },
  {
   "cell_type": "code",
   "execution_count": 24,
   "id": "50bb222e",
   "metadata": {},
   "outputs": [
    {
     "data": {
      "text/plain": [
       "[{'name': 'search',\n",
       "  'args': {'query': 'temperature in Mumbai'},\n",
       "  'id': 'y0rnm10as',\n",
       "  'type': 'tool_call'}]"
      ]
     },
     "execution_count": 24,
     "metadata": {},
     "output_type": "execute_result"
    }
   ],
   "source": [
    "response.tool_calls"
   ]
  },
  {
   "cell_type": "code",
   "execution_count": 25,
   "id": "8481276e",
   "metadata": {},
   "outputs": [],
   "source": [
    "def call_model(state: MessagesState):\n",
    "    question = state['messages']\n",
    "    response = llm_with_tool.invoke(question)\n",
    "    return {\"messages\": [response]}"
   ]
  },
  {
   "cell_type": "code",
   "execution_count": 26,
   "id": "b644ebdb",
   "metadata": {},
   "outputs": [
    {
     "data": {
      "text/plain": [
       "{'messages': [AIMessage(content='', additional_kwargs={'tool_calls': [{'id': 'g9c4kcmtz', 'function': {'arguments': '{\"query\":\"San Francisco weather\"}', 'name': 'search'}, 'type': 'function'}]}, response_metadata={'token_usage': {'completion_tokens': 166, 'prompt_tokens': 138, 'total_tokens': 304, 'completion_time': 0.786312537, 'prompt_time': 0.009045779, 'queue_time': 0.218158992, 'total_time': 0.795358316}, 'model_name': 'deepseek-r1-distill-llama-70b', 'system_fingerprint': 'fp_1bbe7845ec', 'finish_reason': 'tool_calls', 'logprobs': None}, id='run--aa6f035a-7d49-4d1d-be89-12acd2da58e3-0', tool_calls=[{'name': 'search', 'args': {'query': 'San Francisco weather'}, 'id': 'g9c4kcmtz', 'type': 'tool_call'}], usage_metadata={'input_tokens': 138, 'output_tokens': 166, 'total_tokens': 304})]}"
      ]
     },
     "execution_count": 26,
     "metadata": {},
     "output_type": "execute_result"
    }
   ],
   "source": [
    "call_model(input)"
   ]
  },
  {
   "cell_type": "code",
   "execution_count": 27,
   "id": "6e361d09",
   "metadata": {},
   "outputs": [],
   "source": [
    "def router_function(state:MessagesState):\n",
    "    message = state[\"messages\"]\n",
    "    last_message = message[-1]\n",
    "    \n",
    "    if last_message.tool_calls:\n",
    "        return \"tools\"\n",
    "    return END"
   ]
  },
  {
   "cell_type": "code",
   "execution_count": 28,
   "id": "cf14f40c",
   "metadata": {},
   "outputs": [],
   "source": [
    "from langgraph.prebuilt import ToolNode"
   ]
  },
  {
   "cell_type": "code",
   "execution_count": 29,
   "id": "71269573",
   "metadata": {},
   "outputs": [],
   "source": [
    "tool_node = ToolNode(tools)"
   ]
  },
  {
   "cell_type": "code",
   "execution_count": 30,
   "id": "95bf1d02",
   "metadata": {},
   "outputs": [
    {
     "data": {
      "text/plain": [
       "<langgraph.graph.state.StateGraph at 0x107f2f750>"
      ]
     },
     "execution_count": 30,
     "metadata": {},
     "output_type": "execute_result"
    }
   ],
   "source": [
    "workflow2 = StateGraph(MessagesState)\n",
    "workflow2.add_node(\"llmwithnode\",call_model)\n",
    "workflow2.add_node(\"mytools\",tool_node)"
   ]
  },
  {
   "cell_type": "code",
   "execution_count": 31,
   "id": "155790eb",
   "metadata": {},
   "outputs": [
    {
     "data": {
      "text/plain": [
       "<langgraph.graph.state.StateGraph at 0x107f2f750>"
      ]
     },
     "execution_count": 31,
     "metadata": {},
     "output_type": "execute_result"
    }
   ],
   "source": [
    "workflow2.add_edge(START,\"llmwithnode\")\n",
    "\n",
    "workflow2.add_conditional_edges(\"llmwithnode\", router_function, {\n",
    "    \"tools\": \"mytools\",\n",
    "    END: END\n",
    "})"
   ]
  },
  {
   "cell_type": "code",
   "execution_count": 32,
   "id": "5521f77d",
   "metadata": {},
   "outputs": [],
   "source": [
    "app2 = workflow2.compile()"
   ]
  },
  {
   "cell_type": "code",
   "execution_count": 33,
   "id": "e08598a6",
   "metadata": {},
   "outputs": [
    {
     "data": {
      "image/png": "[encoded data removed]",
      "text/plain": [
       "<IPython.core.display.Image object>"
      ]
     },
     "metadata": {},
     "output_type": "display_data"
    }
   ],
   "source": [
    "display(Image(app2.get_graph().draw_mermaid_png()))"
   ]
  },
  {
   "cell_type": "code",
   "execution_count": 34,
   "id": "6d59c3a2",
   "metadata": {},
   "outputs": [
    {
     "data": {
      "text/plain": [
       "{'messages': [HumanMessage(content='What is the temperature in Mumbai?', additional_kwargs={}, response_metadata={}, id='1fc09e8e-40cd-4049-acdf-13d3531129a2'),\n",
       "  AIMessage(content='', additional_kwargs={'tool_calls': [{'id': 'zwbeq8022', 'function': {'arguments': '{\"query\":\"temperature in Mumbai\"}', 'name': 'search'}, 'type': 'function'}]}, response_metadata={'token_usage': {'completion_tokens': 266, 'prompt_tokens': 135, 'total_tokens': 401, 'completion_time': 1.196178248, 'prompt_time': 0.008669043, 'queue_time': 0.219806729, 'total_time': 1.204847291}, 'model_name': 'deepseek-r1-distill-llama-70b', 'system_fingerprint': 'fp_1bbe7845ec', 'finish_reason': 'tool_calls', 'logprobs': None}, id='run--2754c772-3c61-4a82-acb9-a97761fafbb0-0', tool_calls=[{'name': 'search', 'args': {'query': 'temperature in Mumbai'}, 'id': 'zwbeq8022', 'type': 'tool_call'}], usage_metadata={'input_tokens': 135, 'output_tokens': 266, 'total_tokens': 401}),\n",
       "  ToolMessage(content='Temperature in Mumbai is 30°C with high humidity.', name='search', id='ce13023a-7ae1-4175-9757-3b9fd76b5af5', tool_call_id='zwbeq8022')]}"
      ]
     },
     "execution_count": 34,
     "metadata": {},
     "output_type": "execute_result"
    }
   ],
   "source": [
    "app2.invoke({\"messages\":[\"What is the temperature in Mumbai?\"]})"
   ]
  },
  {
   "cell_type": "code",
   "execution_count": 35,
   "id": "c0f792ff",
   "metadata": {},
   "outputs": [
    {
     "data": {
      "text/plain": [
       "{'messages': [HumanMessage(content='What is the temperature in Delhi?', additional_kwargs={}, response_metadata={}, id='bae62b1b-f06d-4d3f-908d-ef6d84357ceb'),\n",
       "  AIMessage(content='', additional_kwargs={'tool_calls': [{'id': 'pnak7dpqb', 'function': {'arguments': '{\"query\":\"temperature in Delhi\"}', 'name': 'search'}, 'type': 'function'}]}, response_metadata={'token_usage': {'completion_tokens': 62, 'prompt_tokens': 135, 'total_tokens': 197, 'completion_time': 0.305713285, 'prompt_time': 0.008761832, 'queue_time': 0.21964248, 'total_time': 0.314475117}, 'model_name': 'deepseek-r1-distill-llama-70b', 'system_fingerprint': 'fp_1bbe7845ec', 'finish_reason': 'tool_calls', 'logprobs': None}, id='run--fe7f43a8-5aa4-4bdd-9e62-621d7ac788e8-0', tool_calls=[{'name': 'search', 'args': {'query': 'temperature in Delhi'}, 'id': 'pnak7dpqb', 'type': 'tool_call'}], usage_metadata={'input_tokens': 135, 'output_tokens': 62, 'total_tokens': 197}),\n",
       "  ToolMessage(content='IDK', name='search', id='14f4e217-aeeb-4e11-b2de-ad5f63b9bf0b', tool_call_id='pnak7dpqb')]}"
      ]
     },
     "execution_count": 35,
     "metadata": {},
     "output_type": "execute_result"
    }
   ],
   "source": [
    "app2.invoke({\"messages\":[\"What is the temperature in Delhi?\"]})"
   ]
  },
  {
   "cell_type": "code",
   "execution_count": null,
   "id": "a7679ed0",
   "metadata": {},
   "outputs": [],
   "source": []
  },
  {
   "cell_type": "code",
   "execution_count": 36,
   "id": "87ad8a58",
   "metadata": {},
   "outputs": [
    {
     "name": "stderr",
     "output_type": "stream",
     "text": [
      "Adding an edge to a graph that has already been compiled. This will not be reflected in the compiled graph.\n"
     ]
    },
    {
     "data": {
      "text/plain": [
       "<langgraph.graph.state.StateGraph at 0x107f2f750>"
      ]
     },
     "execution_count": 36,
     "metadata": {},
     "output_type": "execute_result"
    }
   ],
   "source": [
    "workflow2.add_edge(\"mytools\",\"llmwithnode\")"
   ]
  },
  {
   "cell_type": "code",
   "execution_count": 37,
   "id": "2cd8abe1",
   "metadata": {},
   "outputs": [],
   "source": [
    "app3 = workflow2.compile()"
   ]
  },
  {
   "cell_type": "code",
   "execution_count": 38,
   "id": "2d3fc9db",
   "metadata": {},
   "outputs": [
    {
     "data": {
      "image/png": "[encoded data removed]",
      "text/plain": [
       "<IPython.core.display.Image object>"
      ]
     },
     "metadata": {},
     "output_type": "display_data"
    }
   ],
   "source": [
    "display(Image(app3.get_graph().draw_mermaid_png()))"
   ]
  },
  {
   "cell_type": "code",
   "execution_count": 39,
   "id": "47d982bb",
   "metadata": {},
   "outputs": [
    {
     "name": "stdout",
     "output_type": "stream",
     "text": [
      "llmwithnode: {'messages': [AIMessage(content='', additional_kwargs={'tool_calls': [{'id': 'gk9xfedx8', 'function': {'arguments': '{\"query\":\"temperature in Mumbai\"}', 'name': 'search'}, 'type': 'function'}]}, response_metadata={'token_usage': {'completion_tokens': 103, 'prompt_tokens': 135, 'total_tokens': 238, 'completion_time': 0.556564454, 'prompt_time': 0.009553753, 'queue_time': 0.228714038, 'total_time': 0.566118207}, 'model_name': 'deepseek-r1-distill-llama-70b', 'system_fingerprint': 'fp_1bbe7845ec', 'finish_reason': 'tool_calls', 'logprobs': None}, id='run--d45451d2-47a6-4d0b-b851-caa80f809aa0-0', tool_calls=[{'name': 'search', 'args': {'query': 'temperature in Mumbai'}, 'id': 'gk9xfedx8', 'type': 'tool_call'}], usage_metadata={'input_tokens': 135, 'output_tokens': 103, 'total_tokens': 238})]}\n",
      "mytools: {'messages': [ToolMessage(content='Temperature in Mumbai is 30°C with high humidity.', name='search', id='7c3b30a5-c4d9-4202-9c29-b0b0d711e2dc', tool_call_id='gk9xfedx8')]}\n",
      "llmwithnode: {'messages': [AIMessage(content=\"The temperature in Mumbai is 30°C with high humidity. It's advisable to stay hydrated and wear light, breathable clothing.\", additional_kwargs={}, response_metadata={'token_usage': {'completion_tokens': 99, 'prompt_tokens': 195, 'total_tokens': 294, 'completion_time': 0.485520011, 'prompt_time': 0.020145783, 'queue_time': 0.222582468, 'total_time': 0.505665794}, 'model_name': 'deepseek-r1-distill-llama-70b', 'system_fingerprint': 'fp_1bbe7845ec', 'finish_reason': 'stop', 'logprobs': None}, id='run--1667c276-a151-4217-ba93-9415087e7eae-0', usage_metadata={'input_tokens': 195, 'output_tokens': 99, 'total_tokens': 294})]}\n"
     ]
    }
   ],
   "source": [
    "for output in app3.stream({\"messages\":[\"What is the temperature in Mumbai?\"]}):\n",
    "    for key, value in output.items():\n",
    "        print(f\"{key}: {value}\")"
   ]
  },
  {
   "cell_type": "code",
   "execution_count": 40,
   "id": "f8eb207b",
   "metadata": {},
   "outputs": [
    {
     "name": "stdout",
     "output_type": "stream",
     "text": [
      "llmwithnode: {'messages': [AIMessage(content='', additional_kwargs={'tool_calls': [{'id': '90qdnfg7p', 'function': {'arguments': '{\"query\":\"current temperature in Delhi\"}', 'name': 'search'}, 'type': 'function'}]}, response_metadata={'token_usage': {'completion_tokens': 288, 'prompt_tokens': 150, 'total_tokens': 438, 'completion_time': 1.2599137950000001, 'prompt_time': 0.018226885, 'queue_time': 0.21764856600000002, 'total_time': 1.27814068}, 'model_name': 'deepseek-r1-distill-llama-70b', 'system_fingerprint': 'fp_1bbe7845ec', 'finish_reason': 'tool_calls', 'logprobs': None}, id='run--7a3adb44-5e86-4e80-b0c5-d952a749c57f-0', tool_calls=[{'name': 'search', 'args': {'query': 'current temperature in Delhi'}, 'id': '90qdnfg7p', 'type': 'tool_call'}], usage_metadata={'input_tokens': 150, 'output_tokens': 288, 'total_tokens': 438})]}\n",
      "mytools: {'messages': [ToolMessage(content='IDK', name='search', id='7eff46d1-1cfe-4d5d-9e16-5725a452cbb5', tool_call_id='90qdnfg7p')]}\n",
      "llmwithnode: {'messages': [AIMessage(content='', additional_kwargs={'tool_calls': [{'id': 'p1rp8rz2j', 'function': {'arguments': '{\"query\":\"current temperature in Delhi\"}', 'name': 'search'}, 'type': 'function'}]}, response_metadata={'token_usage': {'completion_tokens': 272, 'prompt_tokens': 203, 'total_tokens': 475, 'completion_time': 1.614557718, 'prompt_time': 0.01426075, 'queue_time': 0.22243341200000002, 'total_time': 1.628818468}, 'model_name': 'deepseek-r1-distill-llama-70b', 'system_fingerprint': 'fp_1bbe7845ec', 'finish_reason': 'tool_calls', 'logprobs': None}, id='run--6bf56311-8385-4636-ae73-8de3d9c41643-0', tool_calls=[{'name': 'search', 'args': {'query': 'current temperature in Delhi'}, 'id': 'p1rp8rz2j', 'type': 'tool_call'}], usage_metadata={'input_tokens': 203, 'output_tokens': 272, 'total_tokens': 475})]}\n",
      "mytools: {'messages': [ToolMessage(content='IDK', name='search', id='4a21a302-a6de-449c-a7fb-a0b07f66a1c8', tool_call_id='p1rp8rz2j')]}\n",
      "llmwithnode: {'messages': [AIMessage(content=\"I'm unable to check the current temperature in Delhi at the moment. To find the current temperature, you can check a weather website, app, or service like Weather.com or AccuWeather.\\n\\nFor your stay in Delhi, here are some recommended hotels across different price ranges:\\n\\n### Budget-friendly:\\n1. **Hotel Hridey Inn** - A cozy and affordable option with good service.\\n2. **Hotel Palace Heights** - Centrally located with comfortable rooms.\\n\\n### Mid-range:\\n1. **The Visaya** - Known for its elegant rooms and great service.\\n2. **Hotel City Star** - A popular choice with good amenities.\\n\\n### Luxury:\\n1. **The Leela Palace New Delhi** - A 5-star hotel with world-class amenities.\\n2. **The Oberoi, New Delhi** - Offers luxurious rooms and excellent dining options.\\n\\nLet me know if you'd like more specific recommendations! Have a pleasant stay in Delhi!\", additional_kwargs={}, response_metadata={'token_usage': {'completion_tokens': 379, 'prompt_tokens': 257, 'total_tokens': 636, 'completion_time': 1.6462485610000002, 'prompt_time': 0.337872752, 'queue_time': 0.21971880200000005, 'total_time': 1.9841213130000002}, 'model_name': 'deepseek-r1-distill-llama-70b', 'system_fingerprint': 'fp_1bbe7845ec', 'finish_reason': 'stop', 'logprobs': None}, id='run--48c846a0-813d-490b-96d3-18e9025f30bd-0', usage_metadata={'input_tokens': 257, 'output_tokens': 379, 'total_tokens': 636})]}\n"
     ]
    }
   ],
   "source": [
    "for output in app3.stream({\"messages\":[\"What is the temperature in Delhi? Also, recommend me some good hotels to stay in Delhi for a week.\"]}):\n",
    "    for key, value in output.items():\n",
    "        print(f\"{key}: {value}\")"
   ]
  },
  {
   "cell_type": "code",
   "execution_count": 41,
   "id": "06e5e958",
   "metadata": {},
   "outputs": [],
   "source": [
    "from langgraph.checkpoint.memory import MemorySaver"
   ]
  },
  {
   "cell_type": "code",
   "execution_count": 42,
   "id": "10cf1f81",
   "metadata": {},
   "outputs": [],
   "source": [
    "ms = MemorySaver()"
   ]
  },
  {
   "cell_type": "code",
   "execution_count": 43,
   "id": "ee55edab",
   "metadata": {},
   "outputs": [],
   "source": [
    "a2 = workflow2.compile(checkpointer=ms)"
   ]
  },
  {
   "cell_type": "code",
   "execution_count": 44,
   "id": "032c142a",
   "metadata": {},
   "outputs": [
    {
     "data": {
      "image/png": "[encoded data removed]",
      "text/plain": [
       "<langgraph.graph.state.CompiledStateGraph object at 0x107f07950>"
      ]
     },
     "execution_count": 44,
     "metadata": {},
     "output_type": "execute_result"
    }
   ],
   "source": [
    "a2"
   ]
  },
  {
   "cell_type": "code",
   "execution_count": 48,
   "id": "7af61512",
   "metadata": {},
   "outputs": [],
   "source": [
    "config = {\"configurable\":{\"thread_id\":\"1\"}}"
   ]
  },
  {
   "cell_type": "code",
   "execution_count": 49,
   "id": "50647cad",
   "metadata": {},
   "outputs": [],
   "source": [
    "events = a2.stream({\"messages\":[\"What is the temperature in Delhi? Also, recommend me some good hotels to stay in Delhi for a week.\"]}, \n",
    "                          config = config, stream_mode=\"values\")"
   ]
  },
  {
   "cell_type": "code",
   "execution_count": 50,
   "id": "09a038c3",
   "metadata": {},
   "outputs": [
    {
     "name": "stdout",
     "output_type": "stream",
     "text": [
      "================================\u001b[1m Human Message \u001b[0m=================================\n",
      "\n",
      "What is the temperature in Delhi? Also, recommend me some good hotels to stay in Delhi for a week.\n",
      "==================================\u001b[1m Ai Message \u001b[0m==================================\n",
      "Tool Calls:\n",
      "  search (gf2hab19f)\n",
      " Call ID: gf2hab19f\n",
      "  Args:\n",
      "    query: temperature in Delhi\n",
      "=================================\u001b[1m Tool Message \u001b[0m=================================\n",
      "Name: search\n",
      "\n",
      "IDK\n",
      "==================================\u001b[1m Ai Message \u001b[0m==================================\n",
      "\n",
      "I'm sorry, but I can't provide real-time information like the current temperature in Delhi. However, I can tell you that Delhi generally has a hot climate during the summer months (March to June) with temperatures often reaching up to 45°C (113°F), while winters (December to February) are cooler, with temperatures ranging from 10°C to 20°C (50°F to 68°F).\n",
      "\n",
      "As for hotel recommendations, here are some popular options in Delhi for a week-long stay:\n",
      "\n",
      "1. **Luxury Hotels:**\n",
      "   - The Oberoi New Delhi\n",
      "   - The Leela Palace New Delhi\n",
      "   - Taj Mahal Hotel\n",
      "\n",
      "2. **Mid-Range Hotels:**\n",
      "   - The Park New Delhi\n",
      "   - The Lalit New Delhi\n",
      "   - Eros Hotel New Delhi\n",
      "\n",
      "3. **Budget Hotels:**\n",
      "   - Hotel City Star\n",
      "   - Hotel Blue Stone\n",
      "   - Hotel Sun International\n",
      "\n",
      "These hotels are well-rated and offer comfortable stays for both business and leisure travelers. Let me know if you'd like more specific recommendations!\n"
     ]
    }
   ],
   "source": [
    "for event in events:\n",
    "    event[\"messages\"][-1].pretty_print()"
   ]
  },
  {
   "cell_type": "code",
   "execution_count": 52,
   "id": "07995c70",
   "metadata": {},
   "outputs": [
    {
     "data": {
      "text/plain": [
       "{'configurable': {'thread_id': '1'}}"
      ]
     },
     "execution_count": 52,
     "metadata": {},
     "output_type": "execute_result"
    }
   ],
   "source": [
    "config"
   ]
  },
  {
   "cell_type": "code",
   "execution_count": 53,
   "id": "743abac5",
   "metadata": {},
   "outputs": [
    {
     "data": {
      "text/plain": [
       "{'v': 3,\n",
       " 'ts': '2025-06-23T08:32:22.736047+00:00',\n",
       " 'id': '1f0500c9-58d0-6020-8003-5edc50975cce',\n",
       " 'channel_versions': {'__start__': '00000000000000000000000000000002.0.5085765999663193',\n",
       "  'messages': '00000000000000000000000000000005.0.14915502845913653',\n",
       "  'branch:to:llmwithnode': '00000000000000000000000000000005.0.5000075806388761',\n",
       "  'branch:to:mytools': '00000000000000000000000000000004.0.6864746648906254'},\n",
       " 'versions_seen': {'__input__': {},\n",
       "  '__start__': {'__start__': '00000000000000000000000000000001.0.8915354322137186'},\n",
       "  'llmwithnode': {'branch:to:llmwithnode': '00000000000000000000000000000004.0.6502148165971782'},\n",
       "  'mytools': {'branch:to:mytools': '00000000000000000000000000000003.0.4312192218664932'}},\n",
       " 'channel_values': {'messages': [HumanMessage(content='What is the temperature in Delhi? Also, recommend me some good hotels to stay in Delhi for a week.', additional_kwargs={}, response_metadata={}, id='782b895e-4eff-4cef-adbc-8d0aa5b36527'),\n",
       "   AIMessage(content='', additional_kwargs={'tool_calls': [{'id': 'gf2hab19f', 'function': {'arguments': '{\"query\":\"temperature in Delhi\"}', 'name': 'search'}, 'type': 'function'}]}, response_metadata={'token_usage': {'completion_tokens': 243, 'prompt_tokens': 150, 'total_tokens': 393, 'completion_time': 1.124051311, 'prompt_time': 0.010184801, 'queue_time': 0.22215047000000002, 'total_time': 1.134236112}, 'model_name': 'deepseek-r1-distill-llama-70b', 'system_fingerprint': 'fp_1bbe7845ec', 'finish_reason': 'tool_calls', 'logprobs': None}, id='run--d3b94d81-8472-4a1b-a4b3-96e324948e4a-0', tool_calls=[{'name': 'search', 'args': {'query': 'temperature in Delhi'}, 'id': 'gf2hab19f', 'type': 'tool_call'}], usage_metadata={'input_tokens': 150, 'output_tokens': 243, 'total_tokens': 393}),\n",
       "   ToolMessage(content='IDK', name='search', id='f7ca3a61-622a-4ad9-8897-04e574623cb6', tool_call_id='gf2hab19f'),\n",
       "   AIMessage(content=\"I'm sorry, but I can't provide real-time information like the current temperature in Delhi. However, I can tell you that Delhi generally has a hot climate during the summer months (March to June) with temperatures often reaching up to 45°C (113°F), while winters (December to February) are cooler, with temperatures ranging from 10°C to 20°C (50°F to 68°F).\\n\\nAs for hotel recommendations, here are some popular options in Delhi for a week-long stay:\\n\\n1. **Luxury Hotels:**\\n   - The Oberoi New Delhi\\n   - The Leela Palace New Delhi\\n   - Taj Mahal Hotel\\n\\n2. **Mid-Range Hotels:**\\n   - The Park New Delhi\\n   - The Lalit New Delhi\\n   - Eros Hotel New Delhi\\n\\n3. **Budget Hotels:**\\n   - Hotel City Star\\n   - Hotel Blue Stone\\n   - Hotel Sun International\\n\\nThese hotels are well-rated and offer comfortable stays for both business and leisure travelers. Let me know if you'd like more specific recommendations!\", additional_kwargs={}, response_metadata={'token_usage': {'completion_tokens': 496, 'prompt_tokens': 201, 'total_tokens': 697, 'completion_time': 2.3535000249999998, 'prompt_time': 0.020190036, 'queue_time': 0.219043932, 'total_time': 2.373690061}, 'model_name': 'deepseek-r1-distill-llama-70b', 'system_fingerprint': 'fp_1bbe7845ec', 'finish_reason': 'stop', 'logprobs': None}, id='run--6d5e5603-0d91-4d38-b6c1-25820383d445-0', usage_metadata={'input_tokens': 201, 'output_tokens': 496, 'total_tokens': 697})]},\n",
       " 'pending_sends': []}"
      ]
     },
     "execution_count": 53,
     "metadata": {},
     "output_type": "execute_result"
    }
   ],
   "source": [
    "ms.get(config)"
   ]
  },
  {
   "cell_type": "code",
   "execution_count": null,
   "id": "8d12aaba",
   "metadata": {},
   "outputs": [],
   "source": []
  },
  {
   "cell_type": "code",
   "execution_count": 54,
   "id": "dc9c8a80",
   "metadata": {},
   "outputs": [],
   "source": [
    "events = a2.stream({\"messages\":[\"In which city was the temperature 25degrees?\"]}, \n",
    "                          config = config, stream_mode=\"values\")"
   ]
  },
  {
   "cell_type": "code",
   "execution_count": 55,
   "id": "3ee12c23",
   "metadata": {},
   "outputs": [
    {
     "name": "stdout",
     "output_type": "stream",
     "text": [
      "================================\u001b[1m Human Message \u001b[0m=================================\n",
      "\n",
      "In which city was the temperature 25degrees?\n",
      "==================================\u001b[1m Ai Message \u001b[0m==================================\n",
      "\n",
      "I'm unable to provide real-time weather data or specific information about temperatures in specific cities. However, many cities around the world experience temperatures of 25°C (77°F) during their spring, fall, or mild winter seasons. For example, cities like San Francisco, Barcelona, or Cape Town often have mild temperatures around this range during certain times of the year.\n",
      "\n",
      "If you're looking for specific information about a city's temperature, I recommend checking a reliable weather website or app for the most accurate and up-to-date information. Let me know if you'd like help finding more general climate information!\n"
     ]
    }
   ],
   "source": [
    "for event in events:\n",
    "    event[\"messages\"][-1].pretty_print()"
   ]
  },
  {
   "cell_type": "code",
   "execution_count": null,
   "id": "f9277a80",
   "metadata": {},
   "outputs": [],
   "source": []
  }
 ],
 "metadata": {
  "kernelspec": {
   "display_name": "Python 3",
   "language": "python",
   "name": "python3"
  },
  "language_info": {
   "codemirror_mode": {
    "name": "ipython",
    "version": 3
   },
   "file_extension": ".py",
   "mimetype": "text/x-python",
   "name": "python",
   "nbconvert_exporter": "python",
   "pygments_lexer": "ipython3",
   "version": "3.13.2"
  }
 },
 "nbformat": 4,
 "nbformat_minor": 5
}
