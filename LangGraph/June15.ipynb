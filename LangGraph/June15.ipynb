{
 "cells": [
  {
   "cell_type": "code",
   "execution_count": 24,
   "id": "77a54e41",
   "metadata": {},
   "outputs": [],
   "source": [
    "from langchain_groq import ChatGroq\n",
    "llm = ChatGroq(model_name = \"deepseek-r1-distill-llama-70b\", temperature=0)"
   ]
  },
  {
   "cell_type": "code",
   "execution_count": 25,
   "id": "ead827e8",
   "metadata": {},
   "outputs": [],
   "source": [
    "response = llm.invoke(\"What is the length of the Great Wall of China in kilometers?\")"
   ]
  },
  {
   "cell_type": "code",
   "execution_count": 26,
   "id": "cc3861b5",
   "metadata": {},
   "outputs": [
    {
     "data": {
      "text/plain": [
       "AIMessage(content=\"<think>\\nOkay, so I need to figure out the length of the Great Wall of China in kilometers. I remember hearing that it's a really long wall, but I'm not exactly sure how long. I think it's somewhere in the thousands of kilometers, but I'm not certain about the exact number.\\n\\nFirst, I should probably consider where I might have heard about this before. Maybe in school or from a documentary. I recall that the Great Wall is one of the longest structures ever built, so it's definitely more than a thousand kilometers. But how much more?\\n\\nI think I've heard different numbers before. Some people say it's around 13,000 kilometers, while others claim it's longer, maybe even 21,000 kilometers. I'm not sure which one is correct. Maybe it depends on how they measure it—whether they include all the branches and sections or just the main part.\\n\\nI should also think about the history of the wall. It was built over many centuries, with different dynasties contributing to its construction. That means the wall isn't a single, continuous structure but rather a series of separate sections built at different times. Some parts are better known and more touristy, like the sections near Beijing, while others are more remote and less visited.\\n\\nI wonder if the length includes all the watchtowers, beacon towers, and other structures, or just the wall itself. That could affect the total measurement. Also, some sections have been damaged or eroded over time, so maybe the original length was longer than what exists today.\\n\\nI think the most recent measurements might have used more accurate methods, like satellite imaging or GPS, to calculate the length. That could explain why some sources give a longer figure than others. If they used older, less precise methods, the estimate might have been lower.\\n\\nAnother thing to consider is the definition of the wall. Does it include all the parallel structures and the paths that connect them, or is it just the main wall? If they include all the smaller walls and fortifications, the total length would be significantly longer.\\n\\nI also remember that the Great Wall is not just in one place; it stretches across multiple provinces in China. So, measuring its length would involve adding up all the sections in each province, which might complicate the total.\\n\\nI should check if there's an official figure from a reliable source, like UNESCO or the Chinese government. They might have conducted official surveys to determine the exact length. I think UNESCO has recognized the Great Wall as a World Heritage site, so they might have some data on it.\\n\\nWait, I think I read somewhere that the National Cultural Heritage Administration of China conducted a survey and found the wall to be about 13,170 miles long. But I'm not sure if that's the most recent figure or if it's been updated since then.\\n\\nConverting miles to kilometers, since the question asks for kilometers, I know that 1 mile is approximately 1.60934 kilometers. So, if it's 13,170 miles, that would be roughly 13,170 * 1.60934. Let me do that calculation: 13,170 * 1.6 is 21,072, and 13,170 * 0.00934 is about 123, so adding those together gives roughly 21,195 kilometers. That seems really long, but I think that's what some sources suggest.\\n\\nHowever, I also recall that some sources say the wall is about 21,196 kilometers long, which matches the calculation I just did. So maybe that's the accurate figure. But I'm still a bit confused because I've heard both 13,000 and 21,000 kilometers before.\\n\\nI think the discrepancy comes from whether they're measuring just the main wall or all the branches and parallel structures. The longer figure likely includes all the smaller sections and fortifications, making the total length much longer.\\n\\nSo, putting it all together, the Great Wall of China is approximately 21,196 kilometers long when all sections are included. That makes sense because it's a series of walls built over centuries, covering a vast area across China.\\n</think>\\n\\nThe Great Wall of China is approximately 21,196 kilometers long when all sections, including branches and parallel structures, are considered. This figure accounts for the various segments built over centuries across different regions of China.\", additional_kwargs={}, response_metadata={'token_usage': {'completion_tokens': 887, 'prompt_tokens': 16, 'total_tokens': 903, 'completion_time': 3.850860633, 'prompt_time': 0.001550208, 'queue_time': 0.219635949, 'total_time': 3.852410841}, 'model_name': 'deepseek-r1-distill-llama-70b', 'system_fingerprint': 'fp_1bbe7845ec', 'finish_reason': 'stop', 'logprobs': None}, id='run--ac39c311-e3d7-40e4-b8e6-1f1a1fb24cf4-0', usage_metadata={'input_tokens': 16, 'output_tokens': 887, 'total_tokens': 903})"
      ]
     },
     "execution_count": 26,
     "metadata": {},
     "output_type": "execute_result"
    }
   ],
   "source": [
    "response"
   ]
  },
  {
   "cell_type": "code",
   "execution_count": 27,
   "id": "2cd4363e",
   "metadata": {},
   "outputs": [],
   "source": [
    "from langchain.tools import tool"
   ]
  },
  {
   "cell_type": "code",
   "execution_count": 28,
   "id": "dbe1bcec",
   "metadata": {},
   "outputs": [],
   "source": [
    "@tool\n",
    "def multiply(a: int, b: int) -> int:\n",
    "    \"\"\"Multiply two numbers.\"\"\"\n",
    "    return a * b\n",
    "\n",
    "def add(a: int, b: int) -> int:\n",
    "    \"\"\"Add two numbers.\"\"\"\n",
    "    return a + b\n",
    "\n",
    "def divide(a: int, b: int) -> float:\n",
    "    \"\"\"Divide two numbers.\"\"\"\n",
    "    \n",
    "    if b==0:\n",
    "        raise ValueError(\"Cannot divide by zero.\")\n",
    "    return a / b"
   ]
  },
  {
   "cell_type": "code",
   "execution_count": 29,
   "id": "424cc84b",
   "metadata": {},
   "outputs": [],
   "source": [
    "from langchain_community.tools import DuckDuckGoSearchRun\n",
    "search = DuckDuckGoSearchRun()"
   ]
  },
  {
   "cell_type": "code",
   "execution_count": 30,
   "id": "4f6a893f",
   "metadata": {},
   "outputs": [
    {
     "data": {
      "text/plain": [
       "\"AI News reports on the latest artificial intelligence news and insights. Explore industry trends from the frontline of AI. Artificial Intelligence News. Everything on AI including futuristic robots with artificial intelligence, computer models of human intelligence and more. All the latest breaking news on Artificial Intelligence. Browse Newsweek archives of photos, videos and articles on Artificial Intelligence. Oracle said on Tuesday that its cloud computing division is working with Elon Musk's artificial intelligence firm xAI to offer the startup's latest AI model to business customers. Researchers present bold ideas for AI at MIT Generative AI Impact Consortium kickoff event Presentations targeted high-impact intersections of AI and other areas, such as health care, business, and education.\""
      ]
     },
     "execution_count": 30,
     "metadata": {},
     "output_type": "execute_result"
    }
   ],
   "source": [
    "search.invoke(\"What is the latest news on AI?\")"
   ]
  },
  {
   "cell_type": "code",
   "execution_count": 31,
   "id": "ea1ebfb1",
   "metadata": {},
   "outputs": [],
   "source": [
    "tools = [multiply, add, divide, search]"
   ]
  },
  {
   "cell_type": "code",
   "execution_count": 32,
   "id": "ce6e725d",
   "metadata": {},
   "outputs": [],
   "source": [
    "llm_with_tools = llm.bind_tools(tools)"
   ]
  },
  {
   "cell_type": "code",
   "execution_count": 33,
   "id": "469c2d23",
   "metadata": {},
   "outputs": [
    {
     "data": {
      "text/plain": [
       "'Hello! How can I assist you today?'"
      ]
     },
     "execution_count": 33,
     "metadata": {},
     "output_type": "execute_result"
    }
   ],
   "source": [
    "response = llm_with_tools.invoke(\"Hi\")\n",
    "response.content"
   ]
  },
  {
   "cell_type": "code",
   "execution_count": 34,
   "id": "ea7890d0",
   "metadata": {},
   "outputs": [
    {
     "data": {
      "text/plain": [
       "[]"
      ]
     },
     "execution_count": 34,
     "metadata": {},
     "output_type": "execute_result"
    }
   ],
   "source": [
    "response.tool_calls"
   ]
  },
  {
   "cell_type": "code",
   "execution_count": 35,
   "id": "4a909d75",
   "metadata": {},
   "outputs": [
    {
     "data": {
      "text/plain": [
       "''"
      ]
     },
     "execution_count": 35,
     "metadata": {},
     "output_type": "execute_result"
    }
   ],
   "source": [
    "response = llm_with_tools.invoke(\"What is 2+2?\")\n",
    "response.content"
   ]
  },
  {
   "cell_type": "code",
   "execution_count": 36,
   "id": "e165cac5",
   "metadata": {},
   "outputs": [
    {
     "data": {
      "text/plain": [
       "[{'name': 'add',\n",
       "  'args': {'a': 2, 'b': 2},\n",
       "  'id': '4g9wwpw26',\n",
       "  'type': 'tool_call'}]"
      ]
     },
     "execution_count": 36,
     "metadata": {},
     "output_type": "execute_result"
    }
   ],
   "source": [
    "response.tool_calls"
   ]
  },
  {
   "cell_type": "code",
   "execution_count": 37,
   "id": "c16854fd",
   "metadata": {},
   "outputs": [
    {
     "data": {
      "text/plain": [
       "''"
      ]
     },
     "execution_count": 37,
     "metadata": {},
     "output_type": "execute_result"
    }
   ],
   "source": [
    "response = llm_with_tools.invoke(\"What is 3/2?\")\n",
    "response.content"
   ]
  },
  {
   "cell_type": "code",
   "execution_count": 38,
   "id": "c266e230",
   "metadata": {},
   "outputs": [
    {
     "data": {
      "text/plain": [
       "[{'name': 'divide',\n",
       "  'args': {'a': 3, 'b': 2},\n",
       "  'id': '9gf2z8dx9',\n",
       "  'type': 'tool_call'}]"
      ]
     },
     "execution_count": 38,
     "metadata": {},
     "output_type": "execute_result"
    }
   ],
   "source": [
    "response.tool_calls"
   ]
  },
  {
   "cell_type": "code",
   "execution_count": 39,
   "id": "bf3a1ad5",
   "metadata": {},
   "outputs": [
    {
     "data": {
      "text/plain": [
       "''"
      ]
     },
     "execution_count": 39,
     "metadata": {},
     "output_type": "execute_result"
    }
   ],
   "source": [
    "response = llm_with_tools.invoke(\"What is the current age of the universe?\")\n",
    "response.content"
   ]
  },
  {
   "cell_type": "code",
   "execution_count": 40,
   "id": "c619ac54",
   "metadata": {},
   "outputs": [
    {
     "data": {
      "text/plain": [
       "[{'name': 'duckduckgo_search',\n",
       "  'args': {'query': 'current age of the universe'},\n",
       "  'id': 'x8bswn8c9',\n",
       "  'type': 'tool_call'}]"
      ]
     },
     "execution_count": 40,
     "metadata": {},
     "output_type": "execute_result"
    }
   ],
   "source": [
    "response.tool_calls"
   ]
  },
  {
   "cell_type": "code",
   "execution_count": 42,
   "id": "c0d9c47f",
   "metadata": {},
   "outputs": [],
   "source": [
    "from langchain_core.messages import HumanMessage, SystemMessage\n",
    "from langgraph.graph import MessagesState, StateGraph, START, END"
   ]
  },
  {
   "cell_type": "code",
   "execution_count": 43,
   "id": "fd4d2661",
   "metadata": {},
   "outputs": [],
   "source": [
    "builder = StateGraph(MessagesState)"
   ]
  },
  {
   "cell_type": "code",
   "execution_count": null,
   "id": "ca016fb2",
   "metadata": {},
   "outputs": [],
   "source": []
  }
 ],
 "metadata": {
  "kernelspec": {
   "display_name": "Python 3",
   "language": "python",
   "name": "python3"
  },
  "language_info": {
   "codemirror_mode": {
    "name": "ipython",
    "version": 3
   },
   "file_extension": ".py",
   "mimetype": "text/x-python",
   "name": "python",
   "nbconvert_exporter": "python",
   "pygments_lexer": "ipython3",
   "version": "3.13.2"
  }
 },
 "nbformat": 4,
 "nbformat_minor": 5
}
