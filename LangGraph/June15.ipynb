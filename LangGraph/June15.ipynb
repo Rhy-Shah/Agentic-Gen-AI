{
 "cells": [
  {
   "cell_type": "code",
   "execution_count": 36,
   "id": "4bb28d6b",
   "metadata": {},
   "outputs": [
    {
     "data": {
      "text/plain": [
       "True"
      ]
     },
     "execution_count": 36,
     "metadata": {},
     "output_type": "execute_result"
    }
   ],
   "source": [
    "import os\n",
    "from dotenv import load_dotenv\n",
    "load_dotenv()"
   ]
  },
  {
   "cell_type": "code",
   "execution_count": 37,
   "id": "2cb4fa03",
   "metadata": {},
   "outputs": [],
   "source": [
    "os.environ[\"GROQ_API_KEY\"] = os.getenv(\"GROQ_API_KEY\")"
   ]
  },
  {
   "cell_type": "code",
   "execution_count": 38,
   "id": "1e28ec71",
   "metadata": {},
   "outputs": [],
   "source": [
    "model = \"deepseek-r1-distill-llama-70b\""
   ]
  },
  {
   "cell_type": "code",
   "execution_count": 39,
   "id": "232f88fb",
   "metadata": {},
   "outputs": [],
   "source": [
    "from langchain_groq import ChatGroq"
   ]
  },
  {
   "cell_type": "code",
   "execution_count": 40,
   "id": "84b33138",
   "metadata": {},
   "outputs": [],
   "source": [
    "llm = ChatGroq(model=model)"
   ]
  },
  {
   "cell_type": "code",
   "execution_count": 41,
   "id": "dcc6fd56",
   "metadata": {},
   "outputs": [
    {
     "data": {
      "text/plain": [
       "AIMessage(content=\"<think>\\n\\n</think>\\n\\nHi there! I suggest getting online to get real-time information. If you have any other questions, please don't hesitate to let me know!\", additional_kwargs={}, response_metadata={'token_usage': {'completion_tokens': 34, 'prompt_tokens': 13, 'total_tokens': 47, 'completion_time': 0.202658835, 'prompt_time': 0.000408616, 'queue_time': 0.219712921, 'total_time': 0.203067451}, 'model_name': 'deepseek-r1-distill-llama-70b', 'system_fingerprint': 'fp_1bbe7845ec', 'finish_reason': 'stop', 'logprobs': None}, id='run--a2ed6890-dab1-47a9-9fdd-f2de07443230-0', usage_metadata={'input_tokens': 13, 'output_tokens': 34, 'total_tokens': 47})"
      ]
     },
     "execution_count": 41,
     "metadata": {},
     "output_type": "execute_result"
    }
   ],
   "source": [
    "llm.invoke(\"Hey, what's the weather like in SF?\")"
   ]
  },
  {
   "cell_type": "code",
   "execution_count": 42,
   "id": "724dd87a",
   "metadata": {},
   "outputs": [],
   "source": [
    "import operator\n",
    "from typing import List\n",
    "from langchain_core.messages import AIMessage, BaseMessage, HumanMessage\n",
    "from langgraph.graph.message import add_messages\n",
    "from langchain_core.output_parsers import StrOutputParser\n",
    "from langchain_core.prompts import ChatPromptTemplate, PromptTemplate\n",
    "from langchain_core.runnables import RunnablePassthrough\n",
    "from langgraph.graph import END, StateGraph, MessagesState, START\n",
    "from pydantic import BaseModel, Field"
   ]
  },
  {
   "cell_type": "code",
   "execution_count": 43,
   "id": "18451f3a",
   "metadata": {},
   "outputs": [],
   "source": [
    "def call_model(state):\n",
    "    message = state[\"messages\"]\n",
    "    response = llm.invoke(message)\n",
    "    return {\"messages\": [response]}"
   ]
  },
  {
   "cell_type": "code",
   "execution_count": 44,
   "id": "cb711a4a",
   "metadata": {},
   "outputs": [],
   "source": [
    "state = {\"messages\":[\"Hey, what's the weather like in SF?\"]}"
   ]
  },
  {
   "cell_type": "code",
   "execution_count": 45,
   "id": "b6e61cd1",
   "metadata": {},
   "outputs": [
    {
     "data": {
      "text/plain": [
       "{'messages': [AIMessage(content=\"<think>\\n\\n</think>\\n\\nHi there! I suggest getting online to get real-time information. If you have any other questions, please don't hesitate to let me know!\", additional_kwargs={}, response_metadata={'token_usage': {'completion_tokens': 34, 'prompt_tokens': 13, 'total_tokens': 47, 'completion_time': 0.236127529, 'prompt_time': 0.000405476, 'queue_time': 0.21980159600000002, 'total_time': 0.236533005}, 'model_name': 'deepseek-r1-distill-llama-70b', 'system_fingerprint': 'fp_1bbe7845ec', 'finish_reason': 'stop', 'logprobs': None}, id='run--40164003-45ee-4ef9-9ad6-fb551aefae6c-0', usage_metadata={'input_tokens': 13, 'output_tokens': 34, 'total_tokens': 47})]}"
      ]
     },
     "execution_count": 45,
     "metadata": {},
     "output_type": "execute_result"
    }
   ],
   "source": [
    "call_model(state)"
   ]
  },
  {
   "cell_type": "code",
   "execution_count": 46,
   "id": "98844f66",
   "metadata": {},
   "outputs": [],
   "source": [
    "workflow = StateGraph(MessagesState)"
   ]
  },
  {
   "cell_type": "code",
   "execution_count": 47,
   "id": "f10bcccd",
   "metadata": {},
   "outputs": [
    {
     "data": {
      "text/plain": [
       "<langgraph.graph.state.StateGraph at 0x10e0bfd90>"
      ]
     },
     "execution_count": 47,
     "metadata": {},
     "output_type": "execute_result"
    }
   ],
   "source": [
    "workflow.add_node(\"mybot\", call_model)\n",
    "workflow.add_edge(START, \"mybot\")"
   ]
  },
  {
   "cell_type": "code",
   "execution_count": 48,
   "id": "d4d11d0d",
   "metadata": {},
   "outputs": [
    {
     "data": {
      "text/plain": [
       "<langgraph.graph.state.StateGraph at 0x10e0bfd90>"
      ]
     },
     "execution_count": 48,
     "metadata": {},
     "output_type": "execute_result"
    }
   ],
   "source": [
    "workflow.add_edge(\"mybot\",END)"
   ]
  },
  {
   "cell_type": "code",
   "execution_count": 49,
   "id": "b5b5e2be",
   "metadata": {},
   "outputs": [],
   "source": [
    "app = workflow.compile()"
   ]
  },
  {
   "cell_type": "code",
   "execution_count": 50,
   "id": "ec8fcf1d",
   "metadata": {},
   "outputs": [
    {
     "data": {
      "image/png": "[encoded data removed]",
      "text/plain": [
       "<IPython.core.display.Image object>"
      ]
     },
     "metadata": {},
     "output_type": "display_data"
    }
   ],
   "source": [
    "from IPython.display import display, Image\n",
    "display(Image(app.get_graph().draw_mermaid_png()))"
   ]
  },
  {
   "cell_type": "code",
   "execution_count": 51,
   "id": "5e4ec27f",
   "metadata": {},
   "outputs": [],
   "source": [
    "input = {\"messages\": [\"Hey, what's the weather like in SF?\"]}"
   ]
  },
  {
   "cell_type": "code",
   "execution_count": 52,
   "id": "f29a3ea5",
   "metadata": {},
   "outputs": [
    {
     "data": {
      "text/plain": [
       "{'messages': [HumanMessage(content=\"Hey, what's the weather like in SF?\", additional_kwargs={}, response_metadata={}, id='b3ab9c6f-1a90-4f9e-815c-1ea459a6b7eb'),\n",
       "  AIMessage(content=\"<think>\\n\\n</think>\\n\\nHi there! I suggest getting online to get real-time information. If you have any other questions, please don't hesitate to let me know!\", additional_kwargs={}, response_metadata={'token_usage': {'completion_tokens': 34, 'prompt_tokens': 13, 'total_tokens': 47, 'completion_time': 0.232519023, 'prompt_time': 0.000892402, 'queue_time': 0.22702588, 'total_time': 0.233411425}, 'model_name': 'deepseek-r1-distill-llama-70b', 'system_fingerprint': 'fp_1bbe7845ec', 'finish_reason': 'stop', 'logprobs': None}, id='run--fd5c025d-64e8-4c69-b2fa-924940f27bc9-0', usage_metadata={'input_tokens': 13, 'output_tokens': 34, 'total_tokens': 47})]}"
      ]
     },
     "execution_count": 52,
     "metadata": {},
     "output_type": "execute_result"
    }
   ],
   "source": [
    "app.invoke(input)"
   ]
  },
  {
   "cell_type": "code",
   "execution_count": 53,
   "id": "43c49acf",
   "metadata": {},
   "outputs": [
    {
     "name": "stdout",
     "output_type": "stream",
     "text": [
      "mybot: {'messages': [AIMessage(content=\"<think>\\n\\n</think>\\n\\nHi there! I suggest getting online to get real-time information. If you have any other questions, please don't hesitate to let me know!\", additional_kwargs={}, response_metadata={'token_usage': {'completion_tokens': 34, 'prompt_tokens': 13, 'total_tokens': 47, 'completion_time': 0.223406419, 'prompt_time': 0.000407986, 'queue_time': 0.220392116, 'total_time': 0.223814405}, 'model_name': 'deepseek-r1-distill-llama-70b', 'system_fingerprint': 'fp_1bbe7845ec', 'finish_reason': 'stop', 'logprobs': None}, id='run--8c5fa9c1-23f5-4868-86ca-bcd6d5cd7f32-0', usage_metadata={'input_tokens': 13, 'output_tokens': 34, 'total_tokens': 47})]}\n"
     ]
    }
   ],
   "source": [
    "for output in app.stream(input):\n",
    "    for key, value in output.items():\n",
    "        print(f\"{key}: {value}\")"
   ]
  },
  {
   "cell_type": "code",
   "execution_count": 54,
   "id": "403fb582",
   "metadata": {},
   "outputs": [],
   "source": [
    "from langchain_core.tools import tool\n",
    "\n",
    "@tool\n",
    "def search(query: str):\n",
    "    \"\"\"Searches the web for a query and returns the top result.\"\"\"\n",
    "    if \"mumbai\" in query.lower():\n",
    "        return \"Temperature in Mumbai is 30°C with high humidity.\"\n",
    "    \n",
    "    return \"IDK\""
   ]
  },
  {
   "cell_type": "code",
   "execution_count": 55,
   "id": "a7378060",
   "metadata": {},
   "outputs": [
    {
     "data": {
      "text/plain": [
       "'IDK'"
      ]
     },
     "execution_count": 55,
     "metadata": {},
     "output_type": "execute_result"
    }
   ],
   "source": [
    "search.invoke(\"What is the temperature in Kashmir?\")"
   ]
  },
  {
   "cell_type": "code",
   "execution_count": 56,
   "id": "0236c9c7",
   "metadata": {},
   "outputs": [
    {
     "data": {
      "text/plain": [
       "'Temperature in Mumbai is 30°C with high humidity.'"
      ]
     },
     "execution_count": 56,
     "metadata": {},
     "output_type": "execute_result"
    }
   ],
   "source": [
    "search.invoke(\"What is the temperature in Mumbai?\")"
   ]
  },
  {
   "cell_type": "code",
   "execution_count": 57,
   "id": "0d04cf29",
   "metadata": {},
   "outputs": [],
   "source": [
    "tools = [search]\n",
    "llm_with_tool = llm.bind_tools(tools)"
   ]
  },
  {
   "cell_type": "code",
   "execution_count": 58,
   "id": "82bf4d4c",
   "metadata": {},
   "outputs": [],
   "source": [
    "response = llm_with_tool.invoke(\"What is the temperature in Mumbai?\")"
   ]
  },
  {
   "cell_type": "code",
   "execution_count": 59,
   "id": "50bb222e",
   "metadata": {},
   "outputs": [
    {
     "data": {
      "text/plain": [
       "[{'name': 'search',\n",
       "  'args': {'query': 'Mumbai temperature'},\n",
       "  'id': 'zat9aeth0',\n",
       "  'type': 'tool_call'}]"
      ]
     },
     "execution_count": 59,
     "metadata": {},
     "output_type": "execute_result"
    }
   ],
   "source": [
    "response.tool_calls"
   ]
  },
  {
   "cell_type": "code",
   "execution_count": 60,
   "id": "8481276e",
   "metadata": {},
   "outputs": [],
   "source": [
    "def call_model(state: MessagesState):\n",
    "    question = state['messages']\n",
    "    response = llm_with_tool.invoke(question)\n",
    "    return {\"messages\": [response]}"
   ]
  },
  {
   "cell_type": "code",
   "execution_count": 61,
   "id": "b644ebdb",
   "metadata": {},
   "outputs": [
    {
     "data": {
      "text/plain": [
       "{'messages': [AIMessage(content='', additional_kwargs={'tool_calls': [{'id': 'qf4rfhd7j', 'function': {'arguments': '{\"query\":\"San Francisco weather\"}', 'name': 'search'}, 'type': 'function'}]}, response_metadata={'token_usage': {'completion_tokens': 105, 'prompt_tokens': 138, 'total_tokens': 243, 'completion_time': 0.519193561, 'prompt_time': 0.015329041, 'queue_time': 0.21980751, 'total_time': 0.534522602}, 'model_name': 'deepseek-r1-distill-llama-70b', 'system_fingerprint': 'fp_1bbe7845ec', 'finish_reason': 'tool_calls', 'logprobs': None}, id='run--1cd2154c-738b-478d-af53-2aecb64aab22-0', tool_calls=[{'name': 'search', 'args': {'query': 'San Francisco weather'}, 'id': 'qf4rfhd7j', 'type': 'tool_call'}], usage_metadata={'input_tokens': 138, 'output_tokens': 105, 'total_tokens': 243})]}"
      ]
     },
     "execution_count": 61,
     "metadata": {},
     "output_type": "execute_result"
    }
   ],
   "source": [
    "call_model(input)"
   ]
  },
  {
   "cell_type": "code",
   "execution_count": 62,
   "id": "6e361d09",
   "metadata": {},
   "outputs": [],
   "source": [
    "def router_function(state:MessagesState):\n",
    "    message = state[\"messages\"]\n",
    "    last_message = message[-1]\n",
    "    \n",
    "    if last_message.tool_calls:\n",
    "        return \"tools\"\n",
    "    return END"
   ]
  },
  {
   "cell_type": "code",
   "execution_count": 63,
   "id": "cf14f40c",
   "metadata": {},
   "outputs": [],
   "source": [
    "from langgraph.prebuilt import ToolNode"
   ]
  },
  {
   "cell_type": "code",
   "execution_count": 64,
   "id": "71269573",
   "metadata": {},
   "outputs": [],
   "source": [
    "tool_node = ToolNode(tools)"
   ]
  },
  {
   "cell_type": "code",
   "execution_count": null,
   "id": "95bf1d02",
   "metadata": {},
   "outputs": [
    {
     "data": {
      "text/plain": [
       "<langgraph.graph.state.StateGraph at 0x10c08f5c0>"
      ]
     },
     "execution_count": 65,
     "metadata": {},
     "output_type": "execute_result"
    }
   ],
   "source": [
    "workflow2 = StateGraph(MessagesState)\n",
    "workflow2.add_node(\"llmwithnode\",call_model)\n",
    "workflow2.add_node(\"mytools\",tool_node)"
   ]
  },
  {
   "cell_type": "code",
   "execution_count": null,
   "id": "155790eb",
   "metadata": {},
   "outputs": [
    {
     "data": {
      "text/plain": [
       "<langgraph.graph.state.StateGraph at 0x10c08f5c0>"
      ]
     },
     "execution_count": 66,
     "metadata": {},
     "output_type": "execute_result"
    }
   ],
   "source": [
    "workflow2.add_edge(START,\"llmwithnode\")\n",
    "\n",
    "workflow2.add_conditional_edges(\"llmwithnode\", router_function, {\n",
    "    \"tools\": \"mytools\",\n",
    "    END: END\n",
    "})"
   ]
  },
  {
   "cell_type": "code",
   "execution_count": 67,
   "id": "5521f77d",
   "metadata": {},
   "outputs": [],
   "source": [
    "app2 = workflow2.compile()"
   ]
  },
  {
   "cell_type": "code",
   "execution_count": 68,
   "id": "e08598a6",
   "metadata": {},
   "outputs": [
    {
     "data": {
      "image/png": "[encoded data removed]",
      "text/plain": [
       "<IPython.core.display.Image object>"
      ]
     },
     "metadata": {},
     "output_type": "display_data"
    }
   ],
   "source": [
    "display(Image(app2.get_graph().draw_mermaid_png()))"
   ]
  },
  {
   "cell_type": "code",
   "execution_count": 69,
   "id": "6d59c3a2",
   "metadata": {},
   "outputs": [
    {
     "data": {
      "text/plain": [
       "{'messages': [HumanMessage(content='What is the temperature in Mumbai?', additional_kwargs={}, response_metadata={}, id='1ebe01f5-8a80-4ed0-bbe1-9373c27daf8f'),\n",
       "  AIMessage(content='', additional_kwargs={'tool_calls': [{'id': 'gb7ksrd3w', 'function': {'arguments': '{\"query\":\"temperature in Mumbai\"}', 'name': 'search'}, 'type': 'function'}]}, response_metadata={'token_usage': {'completion_tokens': 124, 'prompt_tokens': 135, 'total_tokens': 259, 'completion_time': 0.499182192, 'prompt_time': 0.015226801, 'queue_time': 0.21973351, 'total_time': 0.514408993}, 'model_name': 'deepseek-r1-distill-llama-70b', 'system_fingerprint': 'fp_1bbe7845ec', 'finish_reason': 'tool_calls', 'logprobs': None}, id='run--4f7748bb-cbe3-4660-8833-efdf5a4cd24c-0', tool_calls=[{'name': 'search', 'args': {'query': 'temperature in Mumbai'}, 'id': 'gb7ksrd3w', 'type': 'tool_call'}], usage_metadata={'input_tokens': 135, 'output_tokens': 124, 'total_tokens': 259}),\n",
       "  ToolMessage(content='Temperature in Mumbai is 30°C with high humidity.', name='search', id='014c0d65-acdf-4e53-bccb-38eea8f886f2', tool_call_id='gb7ksrd3w')]}"
      ]
     },
     "execution_count": 69,
     "metadata": {},
     "output_type": "execute_result"
    }
   ],
   "source": [
    "app2.invoke({\"messages\":[\"What is the temperature in Mumbai?\"]})"
   ]
  },
  {
   "cell_type": "code",
   "execution_count": 70,
   "id": "c0f792ff",
   "metadata": {},
   "outputs": [
    {
     "data": {
      "text/plain": [
       "{'messages': [HumanMessage(content='What is the temperature in Delhi?', additional_kwargs={}, response_metadata={}, id='1db1e2b4-bbc0-4927-9796-cfad74942df5'),\n",
       "  AIMessage(content='', additional_kwargs={'tool_calls': [{'id': 'hv1ab0f58', 'function': {'arguments': '{\"query\":\"temperature in Delhi\"}', 'name': 'search'}, 'type': 'function'}]}, response_metadata={'token_usage': {'completion_tokens': 92, 'prompt_tokens': 135, 'total_tokens': 227, 'completion_time': 0.684853235, 'prompt_time': 0.015228813, 'queue_time': 0.230607485, 'total_time': 0.700082048}, 'model_name': 'deepseek-r1-distill-llama-70b', 'system_fingerprint': 'fp_1bbe7845ec', 'finish_reason': 'tool_calls', 'logprobs': None}, id='run--427d3885-3f29-42fd-8862-ae5607a09840-0', tool_calls=[{'name': 'search', 'args': {'query': 'temperature in Delhi'}, 'id': 'hv1ab0f58', 'type': 'tool_call'}], usage_metadata={'input_tokens': 135, 'output_tokens': 92, 'total_tokens': 227}),\n",
       "  ToolMessage(content='IDK', name='search', id='60b47167-635e-4b19-b35e-6715ac2352a3', tool_call_id='hv1ab0f58')]}"
      ]
     },
     "execution_count": 70,
     "metadata": {},
     "output_type": "execute_result"
    }
   ],
   "source": [
    "app2.invoke({\"messages\":[\"What is the temperature in Delhi?\"]})"
   ]
  },
  {
   "cell_type": "code",
   "execution_count": null,
   "id": "a7679ed0",
   "metadata": {},
   "outputs": [],
   "source": []
  }
 ],
 "metadata": {
  "kernelspec": {
   "display_name": "Python 3",
   "language": "python",
   "name": "python3"
  },
  "language_info": {
   "codemirror_mode": {
    "name": "ipython",
    "version": 3
   },
   "file_extension": ".py",
   "mimetype": "text/x-python",
   "name": "python",
   "nbconvert_exporter": "python",
   "pygments_lexer": "ipython3",
   "version": "3.13.2"
  }
 },
 "nbformat": 4,
 "nbformat_minor": 5
}
