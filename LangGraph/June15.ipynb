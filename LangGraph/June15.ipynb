{
 "cells": [
  {
   "cell_type": "code",
   "execution_count": 2,
   "id": "4bb28d6b",
   "metadata": {},
   "outputs": [
    {
     "data": {
      "text/plain": [
       "True"
      ]
     },
     "execution_count": 2,
     "metadata": {},
     "output_type": "execute_result"
    }
   ],
   "source": [
    "import os\n",
    "from dotenv import load_dotenv\n",
    "load_dotenv()"
   ]
  },
  {
   "cell_type": "code",
   "execution_count": 3,
   "id": "2cb4fa03",
   "metadata": {},
   "outputs": [],
   "source": [
    "os.environ[\"GROQ_API_KEY\"] = os.getenv(\"GROQ_API_KEY\")"
   ]
  },
  {
   "cell_type": "code",
   "execution_count": 4,
   "id": "1e28ec71",
   "metadata": {},
   "outputs": [],
   "source": [
    "model = \"deepseek-r1-distill-llama-70b\""
   ]
  },
  {
   "cell_type": "code",
   "execution_count": 5,
   "id": "232f88fb",
   "metadata": {},
   "outputs": [],
   "source": [
    "from langchain_groq import ChatGroq"
   ]
  },
  {
   "cell_type": "code",
   "execution_count": 6,
   "id": "84b33138",
   "metadata": {},
   "outputs": [],
   "source": [
    "llm = ChatGroq(model=model)"
   ]
  },
  {
   "cell_type": "code",
   "execution_count": 7,
   "id": "dcc6fd56",
   "metadata": {},
   "outputs": [
    {
     "data": {
      "text/plain": [
       "AIMessage(content=\"<think>\\n\\n</think>\\n\\nHi there! I suggest getting online to get real-time information. If you have any other questions, please don't hesitate to let me know!\", additional_kwargs={}, response_metadata={'token_usage': {'completion_tokens': 34, 'prompt_tokens': 13, 'total_tokens': 47, 'completion_time': 0.207900184, 'prompt_time': 0.000400496, 'queue_time': 0.219120476, 'total_time': 0.20830068}, 'model_name': 'deepseek-r1-distill-llama-70b', 'system_fingerprint': 'fp_1bbe7845ec', 'finish_reason': 'stop', 'logprobs': None}, id='run--f1396fb1-f155-43c4-be6b-d2012b9ccd71-0', usage_metadata={'input_tokens': 13, 'output_tokens': 34, 'total_tokens': 47})"
      ]
     },
     "execution_count": 7,
     "metadata": {},
     "output_type": "execute_result"
    }
   ],
   "source": [
    "llm.invoke(\"Hey, what's the weather like in SF?\")"
   ]
  },
  {
   "cell_type": "code",
   "execution_count": 16,
   "id": "724dd87a",
   "metadata": {},
   "outputs": [],
   "source": [
    "import operator\n",
    "from typing import List\n",
    "from langchain_core.messages import AIMessage, BaseMessage, HumanMessage\n",
    "from langgraph.graph.message import add_messages\n",
    "from langchain_core.output_parsers import StrOutputParser\n",
    "from langchain_core.prompts import ChatPromptTemplate, PromptTemplate\n",
    "from langchain_core.runnables import RunnablePassthrough\n",
    "from langgraph.graph import END, StateGraph, MessagesState, START\n",
    "from pydantic import BaseModel, Field"
   ]
  },
  {
   "cell_type": "code",
   "execution_count": 19,
   "id": "18451f3a",
   "metadata": {},
   "outputs": [],
   "source": [
    "def call_model(state):\n",
    "    message = state[\"messages\"]\n",
    "    response = llm.invoke(message)\n",
    "    return {\"messages\": [response]}"
   ]
  },
  {
   "cell_type": "code",
   "execution_count": 20,
   "id": "cb711a4a",
   "metadata": {},
   "outputs": [],
   "source": [
    "state = {\"messages\":[\"Hey, what's the weather like in SF?\"]}"
   ]
  },
  {
   "cell_type": "code",
   "execution_count": 21,
   "id": "b6e61cd1",
   "metadata": {},
   "outputs": [
    {
     "data": {
      "text/plain": [
       "{'messages': [AIMessage(content=\"<think>\\n\\n</think>\\n\\nHi there! I suggest getting online to get real-time information. If you have any other questions, please don't hesitate to let me know!\", additional_kwargs={}, response_metadata={'token_usage': {'completion_tokens': 34, 'prompt_tokens': 13, 'total_tokens': 47, 'completion_time': 0.206309408, 'prompt_time': 0.000415285, 'queue_time': 0.217778038, 'total_time': 0.206724693}, 'model_name': 'deepseek-r1-distill-llama-70b', 'system_fingerprint': 'fp_1bbe7845ec', 'finish_reason': 'stop', 'logprobs': None}, id='run--82754643-7e16-4358-acd5-a8f7d3b7e2bf-0', usage_metadata={'input_tokens': 13, 'output_tokens': 34, 'total_tokens': 47})]}"
      ]
     },
     "execution_count": 21,
     "metadata": {},
     "output_type": "execute_result"
    }
   ],
   "source": [
    "call_model(state)"
   ]
  },
  {
   "cell_type": "code",
   "execution_count": null,
   "id": "98844f66",
   "metadata": {},
   "outputs": [],
   "source": []
  }
 ],
 "metadata": {
  "kernelspec": {
   "display_name": "Python 3",
   "language": "python",
   "name": "python3"
  },
  "language_info": {
   "codemirror_mode": {
    "name": "ipython",
    "version": 3
   },
   "file_extension": ".py",
   "mimetype": "text/x-python",
   "name": "python",
   "nbconvert_exporter": "python",
   "pygments_lexer": "ipython3",
   "version": "3.13.2"
  }
 },
 "nbformat": 4,
 "nbformat_minor": 5
}
