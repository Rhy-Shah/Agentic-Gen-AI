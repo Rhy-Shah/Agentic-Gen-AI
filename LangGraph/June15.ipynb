{
 "cells": [
  {
   "cell_type": "code",
   "execution_count": 102,
   "id": "77a54e41",
   "metadata": {},
   "outputs": [],
   "source": [
    "from langchain_groq import ChatGroq\n",
    "llm = ChatGroq(model_name = \"deepseek-r1-distill-llama-70b\", temperature=0)"
   ]
  },
  {
   "cell_type": "code",
   "execution_count": 103,
   "id": "ead827e8",
   "metadata": {},
   "outputs": [],
   "source": [
    "response = llm.invoke(\"What is the length of the Great Wall of China in kilometers?\")"
   ]
  },
  {
   "cell_type": "code",
   "execution_count": 104,
   "id": "cc3861b5",
   "metadata": {},
   "outputs": [
    {
     "data": {
      "text/plain": [
       "AIMessage(content=\"<think>\\nOkay, so I need to figure out the length of the Great Wall of China in kilometers. I remember hearing that it's a really long wall, but I'm not exactly sure how long. I think it's somewhere in the thousands of kilometers, but I'm not certain about the exact number.\\n\\nFirst, I should probably consider where I might have heard about this before. Maybe in school or from a documentary. I recall that the Great Wall is one of the longest structures ever built, so it's definitely more than a thousand kilometers. But how much more?\\n\\nI think I've heard different numbers before. Some people say it's around 13,000 kilometers, while others claim it's longer, maybe even 21,000 kilometers. I'm not sure which one is correct. Maybe it depends on how they measure it—whether they include all the branches and sections or just the main part.\\n\\nI should also think about the history of the wall. It was built over many centuries, with different dynasties contributing to its construction. That means the wall isn't a single, continuous structure but rather a series of separate sections built at different times. Some parts are better known and more touristy, like the sections near Beijing, while others are more remote and less visited.\\n\\nI wonder if the length includes all the watchtowers, beacon towers, and other structures, or just the wall itself. That could affect the total measurement. Also, some sections have been damaged or eroded over time, so maybe the original length was longer than what exists today.\\n\\nI think the most recent measurements might have used more accurate methods, like satellite imaging or GPS, to calculate the length. That could explain why some sources give a longer figure than others. If they used older, less precise methods, the estimate might have been lower.\\n\\nAnother thing to consider is the definition of the wall. Does it include all the parallel structures and the paths that connect them, or is it just the main wall? If they include all the smaller walls and fortifications, the total length would be significantly longer.\\n\\nI also remember that the Great Wall is not just in one place; it stretches across multiple provinces in China. So, measuring its length would involve adding up all the sections in each province, which might complicate the total.\\n\\nI should check if there's an official figure from a reliable source, like UNESCO or the Chinese government. They might have conducted official surveys to determine the exact length. I think UNESCO has recognized the Great Wall as a World Heritage site, so they might have some data on it.\\n\\nWait, I think I read somewhere that the National Cultural Heritage Administration of China conducted a survey and found the wall to be about 13,170 miles long. But I need to convert that to kilometers because the question asks for kilometers. Let me do that calculation.\\n\\nSo, 1 mile is approximately 1.60934 kilometers. If I take 13,170 miles and multiply by 1.60934, that should give me the length in kilometers. Let me do the math:\\n\\n13,170 * 1.60934 ≈ 21,196.24 kilometers.\\n\\nHmm, that's interesting. So, if the length is 13,170 miles, that converts to roughly 21,196 kilometers. That seems really long, but I guess considering all the branches and sections, it adds up.\\n\\nBut I also remember hearing that some sources say it's about 13,000 kilometers. Maybe that's a more conservative estimate that only includes the main sections without all the smaller branches and parallel walls.\\n\\nI think the key here is that the exact length can vary depending on how it's measured and what's included. The more comprehensive the measurement, the longer the total length. So, the 21,196 kilometers figure is probably the most accurate when considering all parts of the wall.\\n\\nTherefore, the length of the Great Wall of China is approximately 21,196 kilometers.\\n</think>\\n\\nThe length of the Great Wall of China is approximately 21,196 kilometers. This figure accounts for all sections, including branches and parallel structures, as determined by comprehensive surveys.\", additional_kwargs={}, response_metadata={'token_usage': {'completion_tokens': 839, 'prompt_tokens': 16, 'total_tokens': 855, 'completion_time': 5.69028742, 'prompt_time': 0.000777828, 'queue_time': 0.221220685, 'total_time': 5.691065248}, 'model_name': 'deepseek-r1-distill-llama-70b', 'system_fingerprint': 'fp_1bbe7845ec', 'finish_reason': 'stop', 'logprobs': None}, id='run--5b12de9e-4d94-4fdb-a34a-a42488496a8a-0', usage_metadata={'input_tokens': 16, 'output_tokens': 839, 'total_tokens': 855})"
      ]
     },
     "execution_count": 104,
     "metadata": {},
     "output_type": "execute_result"
    }
   ],
   "source": [
    "response"
   ]
  },
  {
   "cell_type": "code",
   "execution_count": 105,
   "id": "2cd4363e",
   "metadata": {},
   "outputs": [],
   "source": [
    "from langchain.tools import tool"
   ]
  },
  {
   "cell_type": "code",
   "execution_count": 106,
   "id": "dbe1bcec",
   "metadata": {},
   "outputs": [],
   "source": [
    "@tool\n",
    "def multiply(a: int, b: int) -> int:\n",
    "    \"\"\"Multiply two numbers.\"\"\"\n",
    "    return a * b\n",
    "\n",
    "def add(a: int, b: int) -> int:\n",
    "    \"\"\"Add two numbers.\"\"\"\n",
    "    return a + b\n",
    "\n",
    "def divide(a: int, b: int) -> float:\n",
    "    \"\"\"Divide two numbers.\"\"\"\n",
    "    \n",
    "    if b==0:\n",
    "        raise ValueError(\"Cannot divide by zero.\")\n",
    "    return a / b"
   ]
  },
  {
   "cell_type": "code",
   "execution_count": 107,
   "id": "424cc84b",
   "metadata": {},
   "outputs": [],
   "source": [
    "from langchain_community.tools import DuckDuckGoSearchRun\n",
    "search = DuckDuckGoSearchRun()"
   ]
  },
  {
   "cell_type": "code",
   "execution_count": 108,
   "id": "4f6a893f",
   "metadata": {},
   "outputs": [
    {
     "data": {
      "text/plain": [
       "'AI News reports on the latest artificial intelligence news and insights. Explore industry trends from the frontline of AI. Artificial Intelligence News. Everything on AI including futuristic robots with artificial intelligence, computer models of human intelligence and more. Top 10 AI News Stories You Don\\'t Want to Miss 1. OpenAI Launches Operator. Earlier today, we reported on OpenAI\\'s rollout of Operator, an AI agent that handles tasks directly on the web. Currently available as a \"research preview\" for ChatGPT Pro users in the United States, Operator is designed to perform actions on websites, such as ... Reuters and AI, opens new tab; Reuters Leadership, opens new tab; ... Reuters, the news and media division of Thomson Reuters, is the world\\'s largest multimedia news provider, reaching billions ... All the latest breaking news on Artificial Intelligence. Browse Newsweek archives of photos, videos and articles on Artificial Intelligence.'"
      ]
     },
     "execution_count": 108,
     "metadata": {},
     "output_type": "execute_result"
    }
   ],
   "source": [
    "search.invoke(\"What is the latest news on AI?\")"
   ]
  },
  {
   "cell_type": "code",
   "execution_count": 109,
   "id": "ea1ebfb1",
   "metadata": {},
   "outputs": [],
   "source": [
    "tools = [multiply, add, divide, search]"
   ]
  },
  {
   "cell_type": "code",
   "execution_count": 110,
   "id": "ce6e725d",
   "metadata": {},
   "outputs": [],
   "source": [
    "llm_with_tools = llm.bind_tools(tools)"
   ]
  },
  {
   "cell_type": "code",
   "execution_count": 111,
   "id": "469c2d23",
   "metadata": {},
   "outputs": [
    {
     "data": {
      "text/plain": [
       "'Hello! How can I assist you today?'"
      ]
     },
     "execution_count": 111,
     "metadata": {},
     "output_type": "execute_result"
    }
   ],
   "source": [
    "response = llm_with_tools.invoke(\"Hi\")\n",
    "response.content"
   ]
  },
  {
   "cell_type": "code",
   "execution_count": 112,
   "id": "ea7890d0",
   "metadata": {},
   "outputs": [
    {
     "data": {
      "text/plain": [
       "[]"
      ]
     },
     "execution_count": 112,
     "metadata": {},
     "output_type": "execute_result"
    }
   ],
   "source": [
    "response.tool_calls"
   ]
  },
  {
   "cell_type": "code",
   "execution_count": 113,
   "id": "4a909d75",
   "metadata": {},
   "outputs": [
    {
     "data": {
      "text/plain": [
       "''"
      ]
     },
     "execution_count": 113,
     "metadata": {},
     "output_type": "execute_result"
    }
   ],
   "source": [
    "response = llm_with_tools.invoke(\"What is 2+2?\")\n",
    "response.content"
   ]
  },
  {
   "cell_type": "code",
   "execution_count": 114,
   "id": "e165cac5",
   "metadata": {},
   "outputs": [
    {
     "data": {
      "text/plain": [
       "[{'name': 'add',\n",
       "  'args': {'a': 2, 'b': 2},\n",
       "  'id': 'rxhy0kvc3',\n",
       "  'type': 'tool_call'}]"
      ]
     },
     "execution_count": 114,
     "metadata": {},
     "output_type": "execute_result"
    }
   ],
   "source": [
    "response.tool_calls"
   ]
  },
  {
   "cell_type": "code",
   "execution_count": 115,
   "id": "c16854fd",
   "metadata": {},
   "outputs": [
    {
     "data": {
      "text/plain": [
       "''"
      ]
     },
     "execution_count": 115,
     "metadata": {},
     "output_type": "execute_result"
    }
   ],
   "source": [
    "response = llm_with_tools.invoke(\"What is 3/2?\")\n",
    "response.content"
   ]
  },
  {
   "cell_type": "code",
   "execution_count": 116,
   "id": "c266e230",
   "metadata": {},
   "outputs": [
    {
     "data": {
      "text/plain": [
       "[{'name': 'divide',\n",
       "  'args': {'a': 3, 'b': 2},\n",
       "  'id': 'hrtqbpc8n',\n",
       "  'type': 'tool_call'}]"
      ]
     },
     "execution_count": 116,
     "metadata": {},
     "output_type": "execute_result"
    }
   ],
   "source": [
    "response.tool_calls"
   ]
  },
  {
   "cell_type": "code",
   "execution_count": 117,
   "id": "bf3a1ad5",
   "metadata": {},
   "outputs": [
    {
     "data": {
      "text/plain": [
       "''"
      ]
     },
     "execution_count": 117,
     "metadata": {},
     "output_type": "execute_result"
    }
   ],
   "source": [
    "response = llm_with_tools.invoke(\"What is the current age of the universe?\")\n",
    "response.content"
   ]
  },
  {
   "cell_type": "code",
   "execution_count": 118,
   "id": "c619ac54",
   "metadata": {},
   "outputs": [
    {
     "data": {
      "text/plain": [
       "[{'name': 'duckduckgo_search',\n",
       "  'args': {'query': 'current age of the universe'},\n",
       "  'id': 'qa5xrdad7',\n",
       "  'type': 'tool_call'}]"
      ]
     },
     "execution_count": 118,
     "metadata": {},
     "output_type": "execute_result"
    }
   ],
   "source": [
    "response.tool_calls"
   ]
  },
  {
   "cell_type": "code",
   "execution_count": null,
   "id": "c2a7aba1",
   "metadata": {},
   "outputs": [],
   "source": []
  },
  {
   "cell_type": "code",
   "execution_count": 119,
   "id": "c0d9c47f",
   "metadata": {},
   "outputs": [],
   "source": [
    "from langchain_core.messages import HumanMessage, SystemMessage\n",
    "from langgraph.graph import MessagesState, StateGraph, START, END\n",
    "from langgraph.prebuilt import ToolNode, tools_condition"
   ]
  },
  {
   "cell_type": "code",
   "execution_count": 120,
   "id": "3061c837",
   "metadata": {},
   "outputs": [],
   "source": [
    "SYSTEM_PROMPT = \"You are a helpful assistant that can perform calculations and search the web for information.\""
   ]
  },
  {
   "cell_type": "code",
   "execution_count": 121,
   "id": "daa33c9e",
   "metadata": {},
   "outputs": [],
   "source": [
    "def function1(state:MessagesState):\n",
    "    user_query = state[\"messages\"]\n",
    "    \n",
    "    query = [SYSTEM_PROMPT] + user_query\n",
    "    \n",
    "    response = llm_with_tools.invoke(query)\n",
    "    \n",
    "    return{\"messages\":[response]}\n",
    "    "
   ]
  },
  {
   "cell_type": "code",
   "execution_count": 122,
   "id": "fd4d2661",
   "metadata": {},
   "outputs": [],
   "source": [
    "builder = StateGraph(MessagesState)\n",
    "\n",
    "builder.add_node(\"Supervisor\", function1)\n",
    "builder.add_node(\"tools\", ToolNode(tools))\n",
    "\n",
    "builder.add_edge(START, \"Supervisor\")\n",
    "builder.add_conditional_edges(\"Supervisor\", tools_condition)\n",
    "builder.add_edge(\"tools\",\"Supervisor\")\n",
    "\n",
    "reactor = builder.compile()"
   ]
  },
  {
   "cell_type": "code",
   "execution_count": 123,
   "id": "5a16ac44",
   "metadata": {},
   "outputs": [
    {
     "data": {
      "image/png": "[encoded data removed]",
      "text/plain": [
       "<langgraph.graph.state.CompiledStateGraph object at 0x10f925f90>"
      ]
     },
     "execution_count": 123,
     "metadata": {},
     "output_type": "execute_result"
    }
   ],
   "source": [
    "reactor"
   ]
  },
  {
   "cell_type": "code",
   "execution_count": 124,
   "id": "a119105f",
   "metadata": {},
   "outputs": [
    {
     "data": {
      "text/plain": [
       "{'messages': [HumanMessage(content='What is the 2x of length of the Great Wall of China in kilometers?', additional_kwargs={}, response_metadata={}, id='ead83f87-d8fb-4cf3-8243-a2fe62625441'),\n",
       "  AIMessage(content='', additional_kwargs={'tool_calls': [{'id': 'rcf3sdskz', 'function': {'arguments': '{\"query\":\"length of the Great Wall of China in kilometers\"}', 'name': 'duckduckgo_search'}, 'type': 'function'}]}, response_metadata={'token_usage': {'completion_tokens': 209, 'prompt_tokens': 611, 'total_tokens': 820, 'completion_time': 0.868706835, 'prompt_time': 0.040117919, 'queue_time': -1.294925305, 'total_time': 0.908824754}, 'model_name': 'deepseek-r1-distill-llama-70b', 'system_fingerprint': 'fp_1bbe7845ec', 'finish_reason': 'tool_calls', 'logprobs': None}, id='run--c1412855-e084-4027-9f77-461b59c5170d-0', tool_calls=[{'name': 'duckduckgo_search', 'args': {'query': 'length of the Great Wall of China in kilometers'}, 'id': 'rcf3sdskz', 'type': 'tool_call'}], usage_metadata={'input_tokens': 611, 'output_tokens': 209, 'total_tokens': 820}),\n",
       "  ToolMessage(content=\"The total length of all sections of the Great Wall of China ever built adds up to about 21,196 kilometers (13,171 miles), including overlapping sections that were rebuilt. The wall constructed during the Ming dynasty, the most well-preserved section, is about 8,850 kilometers (5,499 miles) long. The total length of the Great Wall of China built in different dynasties is 21,196.18 kilometers (13,170.70 miles), announced by China's State Administration of Cultural Relics in 2012. The length of the Great Wall of the Ming Dynasty (1368-1644) is 8,851.8 kilometers (5,500.3 miles), and there is about 526 kilometers (327 miles) lying in Beijing. The Great Wall of China's length measures over 13,000 miles. This measurement includes all of its branches, trenches, and natural barriers integrated into the structure. According to a 2012 survey conducted by the Chinese government, the wall's total length is approximately 21,196 kilometers, which is about 13,171 miles. 1. Official Total Length: 21,196.18 km (13,171 miles) According to China's State Administration of Cultural Heritage (2012 survey), the total length of all known sections of the Great Wall—including walls, trenches, natural defenses, and watchtowers—is approximately 21,196 kilometers.. That's roughly: Map created by the.world.in.maps The map above shows how long the Great Wall of China is compared to Europe's coastline. Stretching approximately 21,196 kilometers (13,170 miles), the Great Wall of China stands as an extraordinary testament to ancient engineering and human ambition.. To visualize the impressive scale of this ancient fortification, consider a comparison with Europe's ...\", name='duckduckgo_search', id='8c5233b4-18f4-4047-a38a-7ed1a0c78509', tool_call_id='rcf3sdskz'),\n",
       "  AIMessage(content='The length of the Great Wall of China is approximately 21,196 kilometers. Multiplying this by 2 gives:\\n\\n21,196 km × 2 = 42,392 km\\n\\nSo, the 2x of the length of the Great Wall of China is **42,392 kilometers**.', additional_kwargs={}, response_metadata={'token_usage': {'completion_tokens': 203, 'prompt_tokens': 736, 'total_tokens': 939, 'completion_time': 0.738181818, 'prompt_time': 0.055108681, 'queue_time': 0.22088198600000003, 'total_time': 0.793290499}, 'model_name': 'deepseek-r1-distill-llama-70b', 'system_fingerprint': 'fp_1bbe7845ec', 'finish_reason': 'stop', 'logprobs': None}, id='run--760939e8-bc51-4e8b-ac69-daa9515c3915-0', usage_metadata={'input_tokens': 736, 'output_tokens': 203, 'total_tokens': 939})]}"
      ]
     },
     "execution_count": 124,
     "metadata": {},
     "output_type": "execute_result"
    }
   ],
   "source": [
    "reactor.invoke({\"messages\":[HumanMessage(\"What is the 2x of length of the Great Wall of China in kilometers?\")]})"
   ]
  },
  {
   "cell_type": "code",
   "execution_count": 128,
   "id": "63dbd3b7",
   "metadata": {},
   "outputs": [
    {
     "data": {
      "text/plain": [
       "'The speed of light in a vacuum is **299,792,458 m/s**. Dividing this by 2 gives:\\n\\n\\\\[\\n\\\\frac{299,792,458 \\\\, \\\\text{m/s}}{2} = 149,896,229 \\\\, \\\\text{m/s}\\n\\\\]'"
      ]
     },
     "execution_count": 128,
     "metadata": {},
     "output_type": "execute_result"
    }
   ],
   "source": [
    "response = reactor.invoke({\"messages\":[HumanMessage(\"What is the speed of light in m/s? and divide it by 2?\")]})\n",
    "response[\"messages\"][-1].content"
   ]
  },
  {
   "cell_type": "code",
   "execution_count": 130,
   "id": "909ef617",
   "metadata": {},
   "outputs": [
    {
     "name": "stdout",
     "output_type": "stream",
     "text": [
      "================================\u001b[1m Human Message \u001b[0m=================================\n",
      "\n",
      "What is the speed of light in m/s? and divide it by 2?\n",
      "None\n",
      "==================================\u001b[1m Ai Message \u001b[0m==================================\n",
      "Tool Calls:\n",
      "  duckduckgo_search (4bz6skjqb)\n",
      " Call ID: 4bz6skjqb\n",
      "  Args:\n",
      "    query: speed of light in m/s\n",
      "None\n",
      "=================================\u001b[1m Tool Message \u001b[0m=================================\n",
      "Name: duckduckgo_search\n",
      "\n",
      "The speed of light in vacuum, commonly denoted c, is a universal physical constant exactly equal to 299,792,458 metres per second (approximately 300,000 kilometres per second; ... [97] fixing the value of the speed of light at 299 792 458 m/s by definition, as described below. Learn what is the speed of light in a vacuum and how it affects physics and space travel. Find out how to measure distances in light-years and what is faster than light. The speed of light is the fastest known speed in the universe and is a cosmic limit. Light travels at 299,792,458 meters per second in a vacuum, but it slows in different materials. The speed of light is equal to the distance light travels, d, divided by the time it takes, ∆t : c = d/∆t . ... Defining the meter in terms of the speed of light basically fixes the speed of light at 299,792,458 m/s. If an experiment yields a different result, it just means the apparatus is faulty. Rather than conducting more experiments to ... The speed of light thus stands as a natural barrier woven into the fabric of physics. Speed of Light in Different Mediums. While c is the speed of light in vacuum, light travels slower in materials like glass or water. This slowing occurs because photons interact with the atoms in the medium, being absorbed and re-emitted, effectively causing a ...\n",
      "None\n",
      "==================================\u001b[1m Ai Message \u001b[0m==================================\n",
      "\n",
      "The speed of light in a vacuum is **299,792,458 m/s**. Dividing this by 2 gives:\n",
      "\n",
      "\\[\n",
      "\\frac{299,792,458 \\, \\text{m/s}}{2} = 149,896,229 \\, \\text{m/s}\n",
      "\\]\n",
      "None\n"
     ]
    }
   ],
   "source": [
    "for i in response[\"messages\"]:\n",
    "    print(i.pretty_print())"
   ]
  },
  {
   "cell_type": "code",
   "execution_count": null,
   "id": "8d6234bc",
   "metadata": {},
   "outputs": [],
   "source": []
  },
  {
   "cell_type": "code",
   "execution_count": 132,
   "id": "be9d50d1",
   "metadata": {},
   "outputs": [],
   "source": [
    "import yfinance as yf"
   ]
  },
  {
   "cell_type": "code",
   "execution_count": null,
   "id": "a1a5d4b5",
   "metadata": {},
   "outputs": [],
   "source": [
    "@tool\n",
    "def get_stock_price(ticker: str) -> str:\n",
    "    \"\"\"Get the current stock price of a company.\"\"\"\n",
    "    try:\n",
    "        stock = yf.Ticker(ticker)\n",
    "        price = stock.info.get('previousClose')\n",
    "        if price is not None:\n",
    "            return f\"The current stock price of {ticker} is ${price:.2f}.\"\n",
    "    except Exception as e:\n",
    "        return f\"Error retrieving stock price: {e}\"        "
   ]
  },
  {
   "cell_type": "code",
   "execution_count": 134,
   "id": "e3e13d37",
   "metadata": {},
   "outputs": [
    {
     "name": "stderr",
     "output_type": "stream",
     "text": [
      "/var/folders/c4/kvf3th_j15lf5cq2pybvfgjm0000gn/T/ipykernel_46104/1558992921.py:1: LangChainDeprecationWarning: The method `BaseTool.__call__` was deprecated in langchain-core 0.1.47 and will be removed in 1.0. Use :meth:`~invoke` instead.\n",
      "  get_stock_price(\"AAPL\")\n"
     ]
    },
    {
     "data": {
      "text/plain": [
       "'The current stock price of AAPL is $201.50.'"
      ]
     },
     "execution_count": 134,
     "metadata": {},
     "output_type": "execute_result"
    }
   ],
   "source": [
    "get_stock_price(\"AAPL\")"
   ]
  },
  {
   "cell_type": "code",
   "execution_count": 135,
   "id": "159f80e1",
   "metadata": {},
   "outputs": [
    {
     "data": {
      "text/plain": [
       "'The current stock price of TSLA is $348.68.'"
      ]
     },
     "execution_count": 135,
     "metadata": {},
     "output_type": "execute_result"
    }
   ],
   "source": [
    "get_stock_price(\"TSLA\")"
   ]
  },
  {
   "cell_type": "code",
   "execution_count": 136,
   "id": "ede3dc5f",
   "metadata": {},
   "outputs": [],
   "source": [
    "tools = [multiply, add, divide, search, get_stock_price]\n",
    "llm_with_tools = llm.bind_tools(tools)"
   ]
  },
  {
   "cell_type": "code",
   "execution_count": null,
   "id": "a9c686f6",
   "metadata": {},
   "outputs": [],
   "source": []
  }
 ],
 "metadata": {
  "kernelspec": {
   "display_name": "Python 3",
   "language": "python",
   "name": "python3"
  },
  "language_info": {
   "codemirror_mode": {
    "name": "ipython",
    "version": 3
   },
   "file_extension": ".py",
   "mimetype": "text/x-python",
   "name": "python",
   "nbconvert_exporter": "python",
   "pygments_lexer": "ipython3",
   "version": "3.13.2"
  }
 },
 "nbformat": 4,
 "nbformat_minor": 5
}
