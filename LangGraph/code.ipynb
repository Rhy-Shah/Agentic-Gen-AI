{
 "cells": [
  {
   "cell_type": "code",
   "execution_count": 1,
   "id": "8e7e0cf0",
   "metadata": {},
   "outputs": [],
   "source": [
    "from langchain_community.tools import WikipediaQueryRun\n",
    "from langchain_community.utilities import WikipediaAPIWrapper\n",
    "import os"
   ]
  },
  {
   "cell_type": "code",
   "execution_count": 2,
   "id": "aca24b74",
   "metadata": {},
   "outputs": [],
   "source": [
    "wiki = WikipediaAPIWrapper(top_k_results=5, doc_content_chars_max=500)"
   ]
  },
  {
   "cell_type": "code",
   "execution_count": 3,
   "id": "193a67b2",
   "metadata": {},
   "outputs": [],
   "source": [
    "wiki_tool = WikipediaQueryRun(api_wrapper=wiki)"
   ]
  },
  {
   "cell_type": "code",
   "execution_count": 4,
   "id": "cca8cee9",
   "metadata": {},
   "outputs": [
    {
     "data": {
      "text/plain": [
       "'Page: List of unsolved problems in mathematics\\nSummary: Many mathematical problems have been stated but not yet solved. These problems come from many areas of mathematics, such as theoretical physics, computer science, algebra, analysis, combinatorics, algebraic, differential, discrete and Euclidean geometries, graph theory, group theory, model theory, number theory, set theory, Ramsey theory, dynamical systems, and partial differential equations. Some problems belong to more than one discipline'"
      ]
     },
     "execution_count": 4,
     "metadata": {},
     "output_type": "execute_result"
    }
   ],
   "source": [
    "wiki_tool.run(\"What is LangGraph?\")"
   ]
  },
  {
   "cell_type": "code",
   "execution_count": 5,
   "id": "e1955606",
   "metadata": {},
   "outputs": [
    {
     "data": {
      "text/plain": [
       "{'query': {'description': 'query to look up on wikipedia',\n",
       "  'title': 'Query',\n",
       "  'type': 'string'}}"
      ]
     },
     "execution_count": 5,
     "metadata": {},
     "output_type": "execute_result"
    }
   ],
   "source": [
    "wiki_tool.args"
   ]
  },
  {
   "cell_type": "code",
   "execution_count": 6,
   "id": "d5778a61",
   "metadata": {},
   "outputs": [
    {
     "data": {
      "text/plain": [
       "'wikipedia'"
      ]
     },
     "execution_count": 6,
     "metadata": {},
     "output_type": "execute_result"
    }
   ],
   "source": [
    "wiki_tool.name"
   ]
  },
  {
   "cell_type": "code",
   "execution_count": 7,
   "id": "27753d1e",
   "metadata": {},
   "outputs": [],
   "source": [
    "from langchain_community.tools import YouTubeSearchTool"
   ]
  },
  {
   "cell_type": "code",
   "execution_count": 8,
   "id": "75278c94",
   "metadata": {},
   "outputs": [
    {
     "data": {
      "text/plain": [
       "\"['https://www.youtube.com/watch?v=1w5cCXlh7JQ&pp=ygUSTGFuZ0dyYXBoIHR1dG9yaWFs', 'https://www.youtube.com/watch?v=jGg_1h0qzaM&pp=ygUSTGFuZ0dyYXBoIHR1dG9yaWFs0gcJCbIJAYcqIYzv']\""
      ]
     },
     "execution_count": 8,
     "metadata": {},
     "output_type": "execute_result"
    }
   ],
   "source": [
    "yt_tool = YouTubeSearchTool()\n",
    "yt_tool.run(\"LangGraph tutorial\")"
   ]
  },
  {
   "cell_type": "code",
   "execution_count": 9,
   "id": "49582713",
   "metadata": {},
   "outputs": [],
   "source": [
    "TAVILY_API_KEY = os.getenv(\"TAVILY_API_KEY\")"
   ]
  },
  {
   "cell_type": "code",
   "execution_count": 10,
   "id": "350f1510",
   "metadata": {},
   "outputs": [],
   "source": [
    "from langchain_community.tools.tavily_search import TavilySearchResults\n",
    "\n",
    "tavily_tool = TavilySearchResults(tavily_api_key=TAVILY_API_KEY)"
   ]
  },
  {
   "cell_type": "code",
   "execution_count": 11,
   "id": "5a2b0f09",
   "metadata": {},
   "outputs": [
    {
     "data": {
      "text/plain": [
       "[{'title': 'What Is LangGraph and How to Use It? - DataCamp',\n",
       "  'url': 'https://www.datacamp.com/tutorial/langgraph-tutorial',\n",
       "  'content': \"[Browse Courses](https://www.datacamp.com/courses-all)\\n\\ncategory\\n\\n1.  [Home](https://www.datacamp.com/)\\n2.  [Tutorials](https://www.datacamp.com/tutorial)\\n\\nLangGraph Tutorial: What Is LangGraph and How to Use It?\\n========================================================\\n\\nLangGraph is a library within the LangChain ecosystem that provides a framework for defining, coordinating, and executing multiple LLM agents (or chains) in a structured and efficient manner.\\n\\n Contents [...] [Tutorial ### LangGraph Studio Guide: Installation, Set Up, Use Cases](https://www.datacamp.com/tutorial/langgraph-studio)\\n\\nLangGraph Studio is a visual development environment for LangChain’s LangGraph framework, simplifying the development of complex agentic applications built with LangChain components.\\n\\n![Image 9: Dr Ana Rojo-Echeburúa's photo](https://media.datacamp.com/cms/ana_rojo.png?w=48)\\n\\nDr Ana Rojo-Echeburúa\\n\\n8 min [...] Jun 26, 2024 \\xa0· 12 min read\\n\\nContents\\n\\n*   [What Is LangGraph?](https://www.datacamp.com/tutorial/langgraph-tutorial#what-is-langgraph?-%3Cspan)\\n*   [Graph structure](https://www.datacamp.com/tutorial/langgraph-tutorial#graph-structure-%3Cspan)\\n*   [State management](https://www.datacamp.com/tutorial/langgraph-tutorial#state-management-%3Cspan)\\n*   [Coordination](https://www.datacamp.com/tutorial/langgraph-tutorial#coordination-%3Cspan)\",\n",
       "  'score': 0.8969848},\n",
       " {'title': 'LangGraph Tutorial: A Comprehensive Guide for Beginners',\n",
       "  'url': 'https://blog.futuresmart.ai/langgraph-tutorial-for-beginners',\n",
       "  'content': \"This concludes our LangGraph tutorial! As you've learned, LangGraph enables the creation of AI applications that go beyond simple input-output loops by offering a framework for building stateful, agent-driven systems. You've gained hands-on experience defining graphs, managing state, and incorporating tools.\\n\\nIf you found this guide helpful and you're looking to learn more then don’t forget to [follow us](https://www.youtube.com/@AIDemosVideos). [...] [LangGraph](https://www.langchain.com/langgraph), a powerful library within the LangChain ecosystem, provides an elegant solution for building and managing multi-agent LLM applications. By representing workflows as cyclical graphs, LangGraph allows developers to orchestrate the interactions of multiple LLM agents, ensuring smooth communication and efficient execution of complex tasks. [...] ![](https://cdn.hashnode.com/res/hashnode/image/upload/v1727696985571/2923f97e-bd70-4a31-b294-5cf679cd1a0a.jpeg?auto=compress,format&format=webp)\\n\\n![](https://cdn.hashnode.com/res/hashnode/image/upload/v1727696985571/2923f97e-bd70-4a31-b294-5cf679cd1a0a.jpeg?auto=compress,format&format=webp)\\n\\n**Explanation:**\",\n",
       "  'score': 0.8745175},\n",
       " {'title': 'Tutorial 1-Getting Started With LangGraph- Building Stateful Multi AI ...',\n",
       "  'url': 'https://www.youtube.com/watch?v=gqvFmK7LpDo&pp=0gcJCdgAo7VqN5tD',\n",
       "  'content': '# Tutorial 1-Getting Started With LangGraph- Building Stateful Multi AI Agents\\n\\nKrish Naik\\n1766 likes\\n105327 views\\n20 Aug 2024\\nLangGraph enables us to create stateful, multi-actor applications utilizing LLMs as easily as possible. It extends the capabilities of LangChain, introducing the ability to create and manage cyclical graphs, which are pivotal for developing sophisticated agent runtimes. The core concepts of LangGraph include: graph structure, state management, and coordination.',\n",
       "  'score': 0.8703443},\n",
       " {'title': 'Learn LangGraph basics - Overview',\n",
       "  'url': 'https://langchain-ai.github.io/langgraph/concepts/why-langgraph/',\n",
       "  'content': '1.   [Build a basic chatbot](https://langchain-ai.github.io/langgraph/tutorials/get-started/1-build-basic-chatbot/)\\n2.   [Add tools](https://langchain-ai.github.io/langgraph/tutorials/get-started/2-add-tools/)\\n3.   [Add memory](https://langchain-ai.github.io/langgraph/tutorials/get-started/3-add-memory/)\\n4.   [Add human-in-the-loop controls](https://langchain-ai.github.io/langgraph/tutorials/get-started/4-human-in-the-loop/) [...] In completing this series of tutorials, you will build a support chatbot in LangGraph that can:\\n\\n*   ✅ **Answer common questions** by searching the web\\n*   ✅ **Maintain conversation state** across calls \\n*   ✅ **Route complex queries** to a human for review \\n*   ✅ **Use custom state** to control its behavior \\n*   ✅ **Rewind and explore** alternative conversation paths \\n\\n Was this page helpful? \\n\\n Thanks for your feedback! [...] *   [Build a basic chatbot](https://langchain-ai.github.io/langgraph/tutorials/get-started/1-build-basic-chatbot/)\\n            *   [Add tools](https://langchain-ai.github.io/langgraph/tutorials/get-started/2-add-tools/)\\n            *   [Add memory](https://langchain-ai.github.io/langgraph/tutorials/get-started/3-add-memory/)\\n            *   [Add human-in-the-loop](https://langchain-ai.github.io/langgraph/tutorials/get-started/4-human-in-the-loop/)',\n",
       "  'score': 0.7730283},\n",
       " {'title': 'LangGraph - LangChain',\n",
       "  'url': 'https://www.langchain.com/langgraph',\n",
       "  'content': \"![Image 1](https://cdn.prod.website-files.com/65b8cd72835ceeacd4449a53/66db8c2317fe5b9ad2b84ea0_lcacademylogo.png)\\nIntroduction to LangGraph\\n-------------------------\\n\\nLearn the basics of LangGraph in this LangChain Academy Course. You'll learn how to build agents that automate real-world tasks with LangGraph orchestration.\\n\\n[Enroll for free](https://academy.langchain.com/courses/intro-to-langgraph)[Book enterprise training](https://airtable.com/appGjCAN6126Jm7K8/pagNAp7niHQzRH8zk/form)\",\n",
       "  'score': 0.7409441}]"
      ]
     },
     "execution_count": 11,
     "metadata": {},
     "output_type": "execute_result"
    }
   ],
   "source": [
    "tavily_tool.run(\"LangGraph tutorial\")"
   ]
  },
  {
   "cell_type": "code",
   "execution_count": 14,
   "id": "ece3cef7",
   "metadata": {},
   "outputs": [],
   "source": [
    "from langgraph.graph import graph"
   ]
  },
  {
   "cell_type": "code",
   "execution_count": null,
   "id": "f839077f",
   "metadata": {},
   "outputs": [],
   "source": []
  }
 ],
 "metadata": {
  "kernelspec": {
   "display_name": "Python 3",
   "language": "python",
   "name": "python3"
  },
  "language_info": {
   "codemirror_mode": {
    "name": "ipython",
    "version": 3
   },
   "file_extension": ".py",
   "mimetype": "text/x-python",
   "name": "python",
   "nbconvert_exporter": "python",
   "pygments_lexer": "ipython3",
   "version": "3.13.2"
  }
 },
 "nbformat": 4,
 "nbformat_minor": 5
}
