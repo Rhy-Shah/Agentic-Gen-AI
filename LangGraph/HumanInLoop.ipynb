{
 "cells": [
  {
   "cell_type": "code",
   "execution_count": 43,
   "id": "7b0365de",
   "metadata": {},
   "outputs": [],
   "source": [
    "from dotenv import load_dotenv\n",
    "import os\n",
    "from langchain_groq import ChatGroq\n",
    "from langchain_core.tools import tool\n",
    "from langchain_community.tools.tavily_search import TavilySearchResults\n",
    "from typing import TypedDict, Sequence, Annotated\n",
    "import operator\n",
    "from langchain_core.messages import BaseMessage, HumanMessage, AIMessage\n",
    "from langgraph.graph import StateGraph, START,END\n",
    "from langgraph.checkpoint.memory import MemorySaver\n",
    "from langgraph.prebuilt import ToolNode, tools_condition"
   ]
  },
  {
   "cell_type": "code",
   "execution_count": 44,
   "id": "406d16d2",
   "metadata": {},
   "outputs": [
    {
     "data": {
      "text/plain": [
       "True"
      ]
     },
     "execution_count": 44,
     "metadata": {},
     "output_type": "execute_result"
    }
   ],
   "source": [
    "load_dotenv()"
   ]
  },
  {
   "cell_type": "code",
   "execution_count": 45,
   "id": "06511ae3",
   "metadata": {},
   "outputs": [
    {
     "data": {
      "text/plain": [
       "AIMessage(content=\"<think>\\nOkay, so I need to figure out what the capital of France is. Hmm, I'm not entirely sure, but I think it's a city that starts with a 'P'. Wait, no, that's maybe another country. Let me think. I remember learning about some European capitals in school. France is a big country in Western Europe, right? They speak French there. I've heard of cities like Paris and Lyon. Paris sounds familiar as a capital. But wait, I'm not 100% certain. Maybe I should recall some landmarks. The Eiffel Tower is in Paris, and I think that's the capital. Yeah, that makes sense. So I guess the capital of France is Paris.\\n</think>\\n\\nThe capital of France is Paris.\", additional_kwargs={}, response_metadata={'token_usage': {'completion_tokens': 157, 'prompt_tokens': 10, 'total_tokens': 167, 'completion_time': 0.850999002, 'prompt_time': 0.000186477, 'queue_time': 0.21743414, 'total_time': 0.851185479}, 'model_name': 'deepseek-r1-distill-llama-70b', 'system_fingerprint': 'fp_1bbe7845ec', 'finish_reason': 'stop', 'logprobs': None}, id='run--fa4e0dc4-de82-48a1-a943-541026deb554-0', usage_metadata={'input_tokens': 10, 'output_tokens': 157, 'total_tokens': 167})"
      ]
     },
     "execution_count": 45,
     "metadata": {},
     "output_type": "execute_result"
    }
   ],
   "source": [
    "llm = ChatGroq(model_name = \"deepseek-r1-distill-llama-70b\")\n",
    "llm.invoke(\"What is the capital of France?\")"
   ]
  },
  {
   "cell_type": "markdown",
   "id": "1e012843",
   "metadata": {},
   "source": [
    "Implementing Human in Loop from scratch"
   ]
  },
  {
   "cell_type": "code",
   "execution_count": 46,
   "id": "d924b9d4",
   "metadata": {},
   "outputs": [],
   "source": [
    "@tool\n",
    "def multiply(x: int, y: int) -> int:\n",
    "    \"\"\"Multiplies two numbers.\"\"\"\n",
    "    return x * y"
   ]
  },
  {
   "cell_type": "code",
   "execution_count": 47,
   "id": "9e7d34f1",
   "metadata": {},
   "outputs": [],
   "source": [
    "@tool\n",
    "def search(query: str) -> TavilySearchResults:\n",
    "    \"\"\"Searches the web for a query and return the results\"\"\"\n",
    "    tavily_search = TavilySearchResults()\n",
    "    result = tavily_search.invoke(query)\n",
    "    \n",
    "    return f\"Result for {query} in \\n{result}\""
   ]
  },
  {
   "cell_type": "code",
   "execution_count": 48,
   "id": "470056ff",
   "metadata": {},
   "outputs": [],
   "source": [
    "tools = [multiply, search]\n",
    "llm_with_tools = llm.bind_tools(tools)"
   ]
  },
  {
   "cell_type": "code",
   "execution_count": 49,
   "id": "e5580aeb",
   "metadata": {},
   "outputs": [],
   "source": [
    "tool_mapping={tool.name:tool for tool in tools}"
   ]
  },
  {
   "cell_type": "code",
   "execution_count": 50,
   "id": "6acbd7ff",
   "metadata": {},
   "outputs": [],
   "source": [
    "class AgentState(TypedDict):\n",
    "    \"\"\"State of the agent.\"\"\"\n",
    "    messages: Annotated[Sequence[BaseMessage],operator.add]\n",
    "    \n",
    "def invoke_model(state:AgentState):\n",
    "    messages=state[\"messages\"]\n",
    "    question=messages[-1]\n",
    "    response=llm_with_tools.invoke(question)\n",
    "    return {\"messages\":[response]}\n",
    "    \n",
    "def router(state:AgentState):\n",
    "    tool_calls=state[\"messages\"][-1].tool_calls\n",
    "    if len(tool_calls)>0:\n",
    "        return \"tool\" #key name\n",
    "    else:\n",
    "        return \"end\" #key name\n",
    "def invoke_tool(state:AgentState):\n",
    "    tool_details=state[\"messages\"][-1].tool_calls\n",
    "    \n",
    "    if tool_details is None:\n",
    "        return Exception(\"No tool calls found in the last message.\")\n",
    "    \n",
    "    print(f\"Seleted tool: {tool_details[0]['name']}\")\n",
    "    \n",
    "    if tool_details[0][\"name\"]==\"search\":\n",
    "        response=input(prompt=f\"[yes/no] do you want to continue with this expensive web search\")\n",
    "        if response.lower()==\"no\":\n",
    "            print(\"web search discarded by the user. exiting gracefully\")\n",
    "            raise Exception(\"Web search discarded by the user.\")\n",
    "            \n",
    "    \n",
    "    response=tool_mapping[tool_details[0][\"name\"]].invoke(tool_details[0][\"args\"])\n",
    "    return {\"messages\":[response]}"
   ]
  },
  {
   "cell_type": "code",
   "execution_count": 51,
   "id": "9c6dd24a",
   "metadata": {},
   "outputs": [
    {
     "data": {
      "image/png": "[encoded data removed]",
      "text/plain": [
       "<langgraph.graph.state.CompiledStateGraph object at 0x120139d90>"
      ]
     },
     "execution_count": 51,
     "metadata": {},
     "output_type": "execute_result"
    }
   ],
   "source": [
    "graph=StateGraph(AgentState)\n",
    "\n",
    "graph.add_node(\"ai_assistant\", invoke_model)\n",
    "graph.add_node(\"tool\", invoke_tool)\n",
    "graph.add_conditional_edges(\"ai_assistant\", router,{\"tool\":\"tool\",\"end\":END})\n",
    "graph.add_edge(\"tool\", END)\n",
    "graph.set_entry_point(\"ai_assistant\")\n",
    "\n",
    "app=graph.compile()                           \n",
    "app "
   ]
  },
  {
   "cell_type": "markdown",
   "id": "3991b114",
   "metadata": {},
   "source": [
    "Inbuilt Human In Loop in LangGraph"
   ]
  },
  {
   "cell_type": "code",
   "execution_count": 52,
   "id": "cc5d1d10",
   "metadata": {},
   "outputs": [],
   "source": [
    "llm_with_tools = llm.bind_tools(tools)"
   ]
  },
  {
   "cell_type": "code",
   "execution_count": 53,
   "id": "382095e2",
   "metadata": {},
   "outputs": [],
   "source": [
    "memory = MemorySaver()\n",
    "tool_node = ToolNode(tools)"
   ]
  },
  {
   "cell_type": "code",
   "execution_count": 54,
   "id": "858e08df",
   "metadata": {},
   "outputs": [],
   "source": [
    "class AgentState(TypedDict):\n",
    "    \"\"\"State of the agent.\"\"\"\n",
    "    messages: Annotated[Sequence[BaseMessage],operator.add]"
   ]
  },
  {
   "cell_type": "code",
   "execution_count": 55,
   "id": "3bf0ee27",
   "metadata": {},
   "outputs": [],
   "source": [
    "def ai_assistant(state:AgentState):\n",
    "    response=llm_with_tools.invoke(state[\"messages\"])\n",
    "    return {\"messages\":[response]}"
   ]
  },
  {
   "cell_type": "code",
   "execution_count": 56,
   "id": "07633d22",
   "metadata": {},
   "outputs": [
    {
     "data": {
      "image/png": "[encoded data removed]",
      "text/plain": [
       "<langgraph.graph.state.CompiledStateGraph object at 0x12013ae70>"
      ]
     },
     "execution_count": 56,
     "metadata": {},
     "output_type": "execute_result"
    }
   ],
   "source": [
    "graph_builder = StateGraph(AgentState)\n",
    "\n",
    "graph_builder.add_node(\"ai_assistant\", ai_assistant)\n",
    "graph_builder.add_node(\"tools\", tool_node)\n",
    "graph_builder.add_edge(START, \"ai_assistant\")\n",
    "graph_builder.add_conditional_edges(\"ai_assistant\", tools_condition)\n",
    "graph_builder.add_edge(\"tools\", \"ai_assistant\")\n",
    "\n",
    "app1 = graph_builder.compile(checkpointer=memory, interrupt_before=[\"tools\"])\n",
    "app1"
   ]
  },
  {
   "cell_type": "code",
   "execution_count": 57,
   "id": "670f4edf",
   "metadata": {},
   "outputs": [
    {
     "data": {
      "text/plain": [
       "{'messages': [HumanMessage(content='What is the capital of France?', additional_kwargs={}, response_metadata={}),\n",
       "  AIMessage(content='', additional_kwargs={'tool_calls': [{'id': 'tt3t3r5bj', 'function': {'arguments': '{\"query\":\"capital of France\"}', 'name': 'search'}, 'type': 'function'}]}, response_metadata={'token_usage': {'completion_tokens': 136, 'prompt_tokens': 174, 'total_tokens': 310, 'completion_time': 0.504011382, 'prompt_time': 0.01082972, 'queue_time': 0.218359997, 'total_time': 0.514841102}, 'model_name': 'deepseek-r1-distill-llama-70b', 'system_fingerprint': 'fp_1bbe7845ec', 'finish_reason': 'tool_calls', 'logprobs': None}, id='run--88c2e82e-e104-4d31-8efb-40fa9ad50a5c-0', tool_calls=[{'name': 'search', 'args': {'query': 'capital of France'}, 'id': 'tt3t3r5bj', 'type': 'tool_call'}], usage_metadata={'input_tokens': 174, 'output_tokens': 136, 'total_tokens': 310})]}"
      ]
     },
     "execution_count": 57,
     "metadata": {},
     "output_type": "execute_result"
    }
   ],
   "source": [
    "response = app1.invoke({\"messages\": [HumanMessage(\"What is the capital of France?\")]}, config={\"configurable\": {\"thread_id\": \"1\"}})\n",
    "\n",
    "response"
   ]
  },
  {
   "cell_type": "code",
   "execution_count": 59,
   "id": "db43e84a",
   "metadata": {},
   "outputs": [
    {
     "data": {
      "text/plain": [
       "StateSnapshot(values={'messages': [HumanMessage(content='What is the capital of France?', additional_kwargs={}, response_metadata={}), AIMessage(content='', additional_kwargs={'tool_calls': [{'id': 'tt3t3r5bj', 'function': {'arguments': '{\"query\":\"capital of France\"}', 'name': 'search'}, 'type': 'function'}]}, response_metadata={'token_usage': {'completion_tokens': 136, 'prompt_tokens': 174, 'total_tokens': 310, 'completion_time': 0.504011382, 'prompt_time': 0.01082972, 'queue_time': 0.218359997, 'total_time': 0.514841102}, 'model_name': 'deepseek-r1-distill-llama-70b', 'system_fingerprint': 'fp_1bbe7845ec', 'finish_reason': 'tool_calls', 'logprobs': None}, id='run--88c2e82e-e104-4d31-8efb-40fa9ad50a5c-0', tool_calls=[{'name': 'search', 'args': {'query': 'capital of France'}, 'id': 'tt3t3r5bj', 'type': 'tool_call'}], usage_metadata={'input_tokens': 174, 'output_tokens': 136, 'total_tokens': 310})]}, next=('tools',), config={'configurable': {'thread_id': '1', 'checkpoint_ns': '', 'checkpoint_id': '1f056d2b-1fbe-6c04-8001-8944509a2530'}}, metadata={'source': 'loop', 'writes': {'ai_assistant': {'messages': [AIMessage(content='', additional_kwargs={'tool_calls': [{'id': 'tt3t3r5bj', 'function': {'arguments': '{\"query\":\"capital of France\"}', 'name': 'search'}, 'type': 'function'}]}, response_metadata={'token_usage': {'completion_tokens': 136, 'prompt_tokens': 174, 'total_tokens': 310, 'completion_time': 0.504011382, 'prompt_time': 0.01082972, 'queue_time': 0.218359997, 'total_time': 0.514841102}, 'model_name': 'deepseek-r1-distill-llama-70b', 'system_fingerprint': 'fp_1bbe7845ec', 'finish_reason': 'tool_calls', 'logprobs': None}, id='run--88c2e82e-e104-4d31-8efb-40fa9ad50a5c-0', tool_calls=[{'name': 'search', 'args': {'query': 'capital of France'}, 'id': 'tt3t3r5bj', 'type': 'tool_call'}], usage_metadata={'input_tokens': 174, 'output_tokens': 136, 'total_tokens': 310})]}}, 'step': 1, 'parents': {}, 'thread_id': '1'}, created_at='2025-07-01T23:25:37.768327+00:00', parent_config={'configurable': {'thread_id': '1', 'checkpoint_ns': '', 'checkpoint_id': '1f056d2b-17c6-6f06-8000-8c8d42d3859c'}}, tasks=(PregelTask(id='2cd92cc4-de64-272c-a128-d98ec6c49933', name='tools', path=('__pregel_pull', 'tools'), error=None, interrupts=(), state=None, result=None),), interrupts=())"
      ]
     },
     "execution_count": 59,
     "metadata": {},
     "output_type": "execute_result"
    }
   ],
   "source": [
    "snapshot = app1.get_state(config={\"configurable\": {\"thread_id\": \"1\"}})\n",
    "snapshot"
   ]
  },
  {
   "cell_type": "code",
   "execution_count": 60,
   "id": "ee8faa4b",
   "metadata": {},
   "outputs": [
    {
     "data": {
      "text/plain": [
       "('tools',)"
      ]
     },
     "execution_count": 60,
     "metadata": {},
     "output_type": "execute_result"
    }
   ],
   "source": [
    "snapshot.next"
   ]
  },
  {
   "cell_type": "code",
   "execution_count": 61,
   "id": "7f269796",
   "metadata": {},
   "outputs": [
    {
     "data": {
      "text/plain": [
       "AIMessage(content='', additional_kwargs={'tool_calls': [{'id': 'tt3t3r5bj', 'function': {'arguments': '{\"query\":\"capital of France\"}', 'name': 'search'}, 'type': 'function'}]}, response_metadata={'token_usage': {'completion_tokens': 136, 'prompt_tokens': 174, 'total_tokens': 310, 'completion_time': 0.504011382, 'prompt_time': 0.01082972, 'queue_time': 0.218359997, 'total_time': 0.514841102}, 'model_name': 'deepseek-r1-distill-llama-70b', 'system_fingerprint': 'fp_1bbe7845ec', 'finish_reason': 'tool_calls', 'logprobs': None}, id='run--88c2e82e-e104-4d31-8efb-40fa9ad50a5c-0', tool_calls=[{'name': 'search', 'args': {'query': 'capital of France'}, 'id': 'tt3t3r5bj', 'type': 'tool_call'}], usage_metadata={'input_tokens': 174, 'output_tokens': 136, 'total_tokens': 310})"
      ]
     },
     "execution_count": 61,
     "metadata": {},
     "output_type": "execute_result"
    }
   ],
   "source": [
    "last_message = snapshot.values[\"messages\"][-1]\n",
    "last_message"
   ]
  },
  {
   "cell_type": "code",
   "execution_count": 62,
   "id": "182da842",
   "metadata": {},
   "outputs": [],
   "source": [
    "tool_details = last_message.tool_calls"
   ]
  },
  {
   "cell_type": "code",
   "execution_count": 65,
   "id": "b00bec9c",
   "metadata": {},
   "outputs": [
    {
     "name": "stdout",
     "output_type": "stream",
     "text": [
      "{'messages': [HumanMessage(content='What is the capital of France?', additional_kwargs={}, response_metadata={}), AIMessage(content='', additional_kwargs={'tool_calls': [{'id': 'tt3t3r5bj', 'function': {'arguments': '{\"query\":\"capital of France\"}', 'name': 'search'}, 'type': 'function'}]}, response_metadata={'token_usage': {'completion_tokens': 136, 'prompt_tokens': 174, 'total_tokens': 310, 'completion_time': 0.504011382, 'prompt_time': 0.01082972, 'queue_time': 0.218359997, 'total_time': 0.514841102}, 'model_name': 'deepseek-r1-distill-llama-70b', 'system_fingerprint': 'fp_1bbe7845ec', 'finish_reason': 'tool_calls', 'logprobs': None}, id='run--88c2e82e-e104-4d31-8efb-40fa9ad50a5c-0', tool_calls=[{'name': 'search', 'args': {'query': 'capital of France'}, 'id': 'tt3t3r5bj', 'type': 'tool_call'}], usage_metadata={'input_tokens': 174, 'output_tokens': 136, 'total_tokens': 310}), ToolMessage(content='Result for capital of France in \\n[{\\'title\\': \\'What is the Capital of France? - Mappr\\', \\'url\\': \\'https://www.mappr.co/capital-cities/france/\\', \\'content\\': \\'mappr logo\\\\nmappr logo\\\\n\\\\nHome » Capital Cities » What is the Capital of France?\\\\n\\\\n# What is the Capital of France?\\\\n\\\\nParis is the capital of France. Also known as the “City of Light,” is not only the capital but also the most populous city of France. Paris is renowned globally for its art, fashion, gastronomy, and culture.\\\\n\\\\nA map showing France in yellow with surrounding countries in white, major cities marked, and Paris highlighted with a black dot. [...] However, Paris only became the official capital of France during the reign of Clovis I, in the late 5th and early 6th century. Before Clovis, the Merovingian kings did not rule from a fixed capital, but Clovis established his court in Paris, effectively making it the capital. Since then, with some interruptions, Paris has remained the capital of France.\\', \\'score\\': 0.9055316}, {\\'title\\': \\'Paris facts: the capital of France in history\\', \\'url\\': \\'https://home.adelphi.edu/~ca19535/page%204.html\\', \\'content\\': \\'Before Paris, the capital of France was Lyon (under the Romans). Paris first became the capital of France in 508 under King Clovis. After centuries with no unique capital of France, Paris retrieved its status of capital of France under King Philippe Auguste, who reigned between 1180 and 1223. You can see remains of the Philippe August Paris walls in the passageway between the Louvre parking and Louvre Museum [...] page 4\\\\n\\\\n===============\\\\n\\\\nHomeSpainSydneySan FranciscoParisLas VegasMaui\\\\n\\\\n Paris, France\\\\n\\\\nImage 1\\\\n\\\\nParis facts: Paris, the capital of France\\\\n---------------------------------------------\\\\n\\\\nParis is the capital of France, the largest country of Europe with 550 000 km2 (65 millions inhabitants).\\\\n\\\\nParis has 2.234 million inhabitants end 2011. She is the core of Ile de France region (12 million people). [...] Paris remained the capital of France until today, with one four year interruption. During German occupation (WW2 , 1940-1944), the capital of France was Vichy.\\\\n\\\\ngo to top\\\\n\\\\nReference:\\', \\'score\\': 0.8783249}, {\\'title\\': \\'Paris - Wikipedia\\', \\'url\\': \\'https://en.wikipedia.org/wiki/Paris\\', \\'content\\': \\'As the capital of France, Paris is the seat of France\\\\\\'s national government. For the executive, the two chief officers each have their own official residences, which also serve as their offices. The President of the French Republic resides at the Élysée Palace.( The Prime Minister\\\\\\'s seat is at the Hôtel Matignon.( Government ministries are located in various parts of the city, many near the Hôtel Matignon.( [...] Appearance\\\\n\\\\nmove to sidebar hide\\\\n\\\\nCoordinates: 48°51′24″N 2°21′8″E / 48.85667°N 2.35222°E / 48.85667; 2.35222_region:FR-75C)\\\\n\\\\nImage 4: This is a good article. Click here for more information.\\\\n\\\\nImage 5: Page semi-protected\\\\n\\\\nFrom Wikipedia, the free encyclopedia\\\\n\\\\nCapital and largest city of France\\\\n\\\\nThis article is about the capital city of France. For other uses, see Paris (disambiguation) \"Paris (disambiguation)\"). [...] Paris (French pronunciation:( \"Help:IPA/French\")ⓘ) is the capital and largest city of France. With an estimated population of 2,048,472 residents in January 2025( in an area of more than 105 km 2 (41 sq mi),( Paris is the fourth-most populous city in the European Union and the 30th most densely populated city in the world in 2022.( Since the 17th century, Paris has been one of the world\\\\\\'s major centres of finance, diplomacy, commerce, culture, fashion, and gastronomy. Because of its leading\\', \\'score\\': 0.8591094}, {\\'title\\': \\'List of capitals of France - Wikipedia\\', \\'url\\': \\'https://en.wikipedia.org/wiki/List_of_capitals_of_France\\', \\'content\\': \\'Image 4This article needs additional citations for verification. Please help improve this article by adding citations to reliable sources. Unsourced material may be challenged and removed.\\\\n\\\\n_Find sources:_\"List of capitals of France\"–news·newspapers·books·scholar·JSTOR_(July 2012)_ _(Learn how and when to remove this message)_\\\\n\\\\nThis is a chronological list of capitals of France. The capital of France has been Paris since its liberation in 1944.(\\\\n\\\\nChronology\\\\n----------\\\\n\\\\n[edit] [...] Tours (10–13 June 1940), the city served as the temporary capital of France during World War II after the government fled Paris due to the German advance.\\\\n   Bordeaux (June 1940), the government was relocated from Paris to Tours then Bordeaux very briefly during World War II, when it became apparent that Paris would soon fall into German hands. [...] Bourges (1422–1444), Charles VII was forced to flee from Paris.\\\\n   Tours (1444–1527), Louis XI made the Château de Plessis-lez-Tours his residence.\\\\n   Paris (1528–1589), Francis I had established his court in Paris.\\\\n   Tours (1589–1594), faction of parliamentarians, faithful to King Henry IV sat at Tours.\\\\n   Paris (1594–1682)_[citation needed_]\\\\n   Versailles (1682–1789), from 1682 to 1715, Louis XIV made Versailles his residence and the seat of the French court.\\', \\'score\\': 0.8585411}, {\\'title\\': \\'What is the Capital of France? Paris - Countryaah.com\\', \\'url\\': \\'https://www.countryaah.com/france-faqs/\\', \\'content\\': \\'France, officially known as the French Republic, is one of the largest and most influential countries in Europe and the world. With a rich cultural history, a global presence in politics, economics, and the arts, and a strong role in the European Union, France is known for its contributions to world civilization. Paris, its capital, is not only the political center but also a cultural and financial epicenter with global influence. [...] Paris, the capital city of France, is one of the most famous and influential cities in the world. Located in the northern part of the country along the Seine River, Paris has been a center of culture, art, fashion, and intellectual thought for centuries. The city is often referred to as “The City of Light” due to its historical role as a hub of education and the Enlightenment in the 18th century, as well as the early adoption of street lighting. See Rrrjewelry for other major cities in France. [...] Countryaah.com\\\\n\\\\nCountryaah.com\\\\n\\\\nCountryaah.com\\\\n\\\\nCountryaah.com\\\\n\\\\n# What is the Capital of France? Paris\\\\n\\\\nby \\\\ncountryaah\\\\n ·\\\\nPublished June 2, 2019\\\\n· Updated November 6, 2024\\\\n\\\\nFrance Paris\\\\n\\\\nFrance Paris\\\\n\\\\n## Capital City of France: Paris\\\\n\\\\n### City Overview\\', \\'score\\': 0.85509074}]', name='search', tool_call_id='tt3t3r5bj'), AIMessage(content=\"The capital of France is Paris. Paris has been the capital for most of France's history, serving as the political, cultural, and historical center. It is home to the government, including the President's office, and is a global hub for fashion, art, and culture. While there have been temporary relocations, such as during World War II, Paris has consistently been re-established as the capital.\", additional_kwargs={}, response_metadata={'token_usage': {'completion_tokens': 541, 'prompt_tokens': 1836, 'total_tokens': 2377, 'completion_time': 2.279594335, 'prompt_time': 0.133314974, 'queue_time': 0.22607313599999998, 'total_time': 2.412909309}, 'model_name': 'deepseek-r1-distill-llama-70b', 'system_fingerprint': 'fp_1bbe7845ec', 'finish_reason': 'stop', 'logprobs': None}, id='run--c98959a1-ffb2-4d01-9ce4-d9ddf79e7c15-0', usage_metadata={'input_tokens': 1836, 'output_tokens': 541, 'total_tokens': 2377})]}\n"
     ]
    }
   ],
   "source": [
    "if tool_details[0][\"name\"] == \"search\":\n",
    "    if input(prompt=f\"[yes/no] do you want to continue with {tool_details[0]['name']}? \").lower() == \"no\":\n",
    "        print(\"Web search tool selected.\")\n",
    "        raise Exception(\"Discarded web search by user.\")\n",
    "    else:\n",
    "        response = app1.invoke(None, {\"configurable\": {\"thread_id\": \"1\"}})\n",
    "        print(response)\n",
    "else:\n",
    "    response = app1.invoke(None, {\"configurable\": {\"thread_id\": \"1\"}})\n",
    "    print(response)"
   ]
  },
  {
   "cell_type": "code",
   "execution_count": 67,
   "id": "2b5adb2f",
   "metadata": {},
   "outputs": [],
   "source": [
    "tool_call_id=last_message.tool_calls[0][\"id\"]"
   ]
  },
  {
   "cell_type": "code",
   "execution_count": 68,
   "id": "a6a1db6b",
   "metadata": {},
   "outputs": [
    {
     "data": {
      "text/plain": [
       "{'configurable': {'thread_id': '1',\n",
       "  'checkpoint_ns': '',\n",
       "  'checkpoint_id': '1f056d83-35ce-69ce-8004-f6d82a04fe58'}}"
      ]
     },
     "execution_count": 68,
     "metadata": {},
     "output_type": "execute_result"
    }
   ],
   "source": [
    "from langchain_core.messages import AIMessage,ToolMessage\n",
    "\n",
    "new_message=[\n",
    "    ToolMessage(content=\"according to the latest data 4.1 trillion USD\",tool_call_id=tool_call_id),\n",
    "    AIMessage(content=\"GDP is 4.1 Trillion USD.\")\n",
    "    \n",
    "]\n",
    "\n",
    "config = {\"configurable\": {\"thread_id\": \"1\"}}\n",
    "app1.update_state(config, \n",
    "                  {\n",
    "                      \"messages\":new_message\n",
    "                   }\n",
    "                  )"
   ]
  },
  {
   "cell_type": "code",
   "execution_count": 69,
   "id": "293f9d99",
   "metadata": {},
   "outputs": [
    {
     "data": {
      "text/plain": [
       "AIMessage(content='GDP is 4.1 Trillion USD.', additional_kwargs={}, response_metadata={})"
      ]
     },
     "execution_count": 69,
     "metadata": {},
     "output_type": "execute_result"
    }
   ],
   "source": [
    "app1.get_state(config).values[\"messages\"][-1]"
   ]
  },
  {
   "cell_type": "code",
   "execution_count": 70,
   "id": "b65c81f2",
   "metadata": {},
   "outputs": [
    {
     "data": {
      "text/plain": [
       "{'messages': [HumanMessage(content='What is the capital of France?', additional_kwargs={}, response_metadata={}),\n",
       "  AIMessage(content='', additional_kwargs={'tool_calls': [{'id': 'tt3t3r5bj', 'function': {'arguments': '{\"query\":\"capital of France\"}', 'name': 'search'}, 'type': 'function'}]}, response_metadata={'token_usage': {'completion_tokens': 136, 'prompt_tokens': 174, 'total_tokens': 310, 'completion_time': 0.504011382, 'prompt_time': 0.01082972, 'queue_time': 0.218359997, 'total_time': 0.514841102}, 'model_name': 'deepseek-r1-distill-llama-70b', 'system_fingerprint': 'fp_1bbe7845ec', 'finish_reason': 'tool_calls', 'logprobs': None}, id='run--88c2e82e-e104-4d31-8efb-40fa9ad50a5c-0', tool_calls=[{'name': 'search', 'args': {'query': 'capital of France'}, 'id': 'tt3t3r5bj', 'type': 'tool_call'}], usage_metadata={'input_tokens': 174, 'output_tokens': 136, 'total_tokens': 310}),\n",
       "  ToolMessage(content='Result for capital of France in \\n[{\\'title\\': \\'What is the Capital of France? - Mappr\\', \\'url\\': \\'https://www.mappr.co/capital-cities/france/\\', \\'content\\': \\'mappr logo\\\\nmappr logo\\\\n\\\\nHome » Capital Cities » What is the Capital of France?\\\\n\\\\n# What is the Capital of France?\\\\n\\\\nParis is the capital of France. Also known as the “City of Light,” is not only the capital but also the most populous city of France. Paris is renowned globally for its art, fashion, gastronomy, and culture.\\\\n\\\\nA map showing France in yellow with surrounding countries in white, major cities marked, and Paris highlighted with a black dot. [...] However, Paris only became the official capital of France during the reign of Clovis I, in the late 5th and early 6th century. Before Clovis, the Merovingian kings did not rule from a fixed capital, but Clovis established his court in Paris, effectively making it the capital. Since then, with some interruptions, Paris has remained the capital of France.\\', \\'score\\': 0.9055316}, {\\'title\\': \\'Paris facts: the capital of France in history\\', \\'url\\': \\'https://home.adelphi.edu/~ca19535/page%204.html\\', \\'content\\': \\'Before Paris, the capital of France was Lyon (under the Romans). Paris first became the capital of France in 508 under King Clovis. After centuries with no unique capital of France, Paris retrieved its status of capital of France under King Philippe Auguste, who reigned between 1180 and 1223. You can see remains of the Philippe August Paris walls in the passageway between the Louvre parking and Louvre Museum [...] page 4\\\\n\\\\n===============\\\\n\\\\nHomeSpainSydneySan FranciscoParisLas VegasMaui\\\\n\\\\n Paris, France\\\\n\\\\nImage 1\\\\n\\\\nParis facts: Paris, the capital of France\\\\n---------------------------------------------\\\\n\\\\nParis is the capital of France, the largest country of Europe with 550 000 km2 (65 millions inhabitants).\\\\n\\\\nParis has 2.234 million inhabitants end 2011. She is the core of Ile de France region (12 million people). [...] Paris remained the capital of France until today, with one four year interruption. During German occupation (WW2 , 1940-1944), the capital of France was Vichy.\\\\n\\\\ngo to top\\\\n\\\\nReference:\\', \\'score\\': 0.8783249}, {\\'title\\': \\'Paris - Wikipedia\\', \\'url\\': \\'https://en.wikipedia.org/wiki/Paris\\', \\'content\\': \\'As the capital of France, Paris is the seat of France\\\\\\'s national government. For the executive, the two chief officers each have their own official residences, which also serve as their offices. The President of the French Republic resides at the Élysée Palace.( The Prime Minister\\\\\\'s seat is at the Hôtel Matignon.( Government ministries are located in various parts of the city, many near the Hôtel Matignon.( [...] Appearance\\\\n\\\\nmove to sidebar hide\\\\n\\\\nCoordinates: 48°51′24″N 2°21′8″E / 48.85667°N 2.35222°E / 48.85667; 2.35222_region:FR-75C)\\\\n\\\\nImage 4: This is a good article. Click here for more information.\\\\n\\\\nImage 5: Page semi-protected\\\\n\\\\nFrom Wikipedia, the free encyclopedia\\\\n\\\\nCapital and largest city of France\\\\n\\\\nThis article is about the capital city of France. For other uses, see Paris (disambiguation) \"Paris (disambiguation)\"). [...] Paris (French pronunciation:( \"Help:IPA/French\")ⓘ) is the capital and largest city of France. With an estimated population of 2,048,472 residents in January 2025( in an area of more than 105 km 2 (41 sq mi),( Paris is the fourth-most populous city in the European Union and the 30th most densely populated city in the world in 2022.( Since the 17th century, Paris has been one of the world\\\\\\'s major centres of finance, diplomacy, commerce, culture, fashion, and gastronomy. Because of its leading\\', \\'score\\': 0.8591094}, {\\'title\\': \\'List of capitals of France - Wikipedia\\', \\'url\\': \\'https://en.wikipedia.org/wiki/List_of_capitals_of_France\\', \\'content\\': \\'Image 4This article needs additional citations for verification. Please help improve this article by adding citations to reliable sources. Unsourced material may be challenged and removed.\\\\n\\\\n_Find sources:_\"List of capitals of France\"–news·newspapers·books·scholar·JSTOR_(July 2012)_ _(Learn how and when to remove this message)_\\\\n\\\\nThis is a chronological list of capitals of France. The capital of France has been Paris since its liberation in 1944.(\\\\n\\\\nChronology\\\\n----------\\\\n\\\\n[edit] [...] Tours (10–13 June 1940), the city served as the temporary capital of France during World War II after the government fled Paris due to the German advance.\\\\n   Bordeaux (June 1940), the government was relocated from Paris to Tours then Bordeaux very briefly during World War II, when it became apparent that Paris would soon fall into German hands. [...] Bourges (1422–1444), Charles VII was forced to flee from Paris.\\\\n   Tours (1444–1527), Louis XI made the Château de Plessis-lez-Tours his residence.\\\\n   Paris (1528–1589), Francis I had established his court in Paris.\\\\n   Tours (1589–1594), faction of parliamentarians, faithful to King Henry IV sat at Tours.\\\\n   Paris (1594–1682)_[citation needed_]\\\\n   Versailles (1682–1789), from 1682 to 1715, Louis XIV made Versailles his residence and the seat of the French court.\\', \\'score\\': 0.8585411}, {\\'title\\': \\'What is the Capital of France? Paris - Countryaah.com\\', \\'url\\': \\'https://www.countryaah.com/france-faqs/\\', \\'content\\': \\'France, officially known as the French Republic, is one of the largest and most influential countries in Europe and the world. With a rich cultural history, a global presence in politics, economics, and the arts, and a strong role in the European Union, France is known for its contributions to world civilization. Paris, its capital, is not only the political center but also a cultural and financial epicenter with global influence. [...] Paris, the capital city of France, is one of the most famous and influential cities in the world. Located in the northern part of the country along the Seine River, Paris has been a center of culture, art, fashion, and intellectual thought for centuries. The city is often referred to as “The City of Light” due to its historical role as a hub of education and the Enlightenment in the 18th century, as well as the early adoption of street lighting. See Rrrjewelry for other major cities in France. [...] Countryaah.com\\\\n\\\\nCountryaah.com\\\\n\\\\nCountryaah.com\\\\n\\\\nCountryaah.com\\\\n\\\\n# What is the Capital of France? Paris\\\\n\\\\nby \\\\ncountryaah\\\\n ·\\\\nPublished June 2, 2019\\\\n· Updated November 6, 2024\\\\n\\\\nFrance Paris\\\\n\\\\nFrance Paris\\\\n\\\\n## Capital City of France: Paris\\\\n\\\\n### City Overview\\', \\'score\\': 0.85509074}]', name='search', tool_call_id='tt3t3r5bj'),\n",
       "  AIMessage(content=\"The capital of France is Paris. Paris has been the capital for most of France's history, serving as the political, cultural, and historical center. It is home to the government, including the President's office, and is a global hub for fashion, art, and culture. While there have been temporary relocations, such as during World War II, Paris has consistently been re-established as the capital.\", additional_kwargs={}, response_metadata={'token_usage': {'completion_tokens': 541, 'prompt_tokens': 1836, 'total_tokens': 2377, 'completion_time': 2.279594335, 'prompt_time': 0.133314974, 'queue_time': 0.22607313599999998, 'total_time': 2.412909309}, 'model_name': 'deepseek-r1-distill-llama-70b', 'system_fingerprint': 'fp_1bbe7845ec', 'finish_reason': 'stop', 'logprobs': None}, id='run--c98959a1-ffb2-4d01-9ce4-d9ddf79e7c15-0', usage_metadata={'input_tokens': 1836, 'output_tokens': 541, 'total_tokens': 2377}),\n",
       "  ToolMessage(content='according to the latest data 4.1 trillion USD', tool_call_id='tt3t3r5bj'),\n",
       "  AIMessage(content='GDP is 4.1 Trillion USD.', additional_kwargs={}, response_metadata={})]}"
      ]
     },
     "execution_count": 70,
     "metadata": {},
     "output_type": "execute_result"
    }
   ],
   "source": [
    "app1.invoke(None,config=config)"
   ]
  },
  {
   "cell_type": "code",
   "execution_count": 71,
   "id": "a7996557",
   "metadata": {
    "notebookRunGroups": {
     "groupValue": "2"
    }
   },
   "outputs": [
    {
     "data": {
      "text/plain": [
       "{'messages': [HumanMessage(content='What is the capital of France?', additional_kwargs={}, response_metadata={}),\n",
       "  AIMessage(content='', additional_kwargs={'tool_calls': [{'id': 'tt3t3r5bj', 'function': {'arguments': '{\"query\":\"capital of France\"}', 'name': 'search'}, 'type': 'function'}]}, response_metadata={'token_usage': {'completion_tokens': 136, 'prompt_tokens': 174, 'total_tokens': 310, 'completion_time': 0.504011382, 'prompt_time': 0.01082972, 'queue_time': 0.218359997, 'total_time': 0.514841102}, 'model_name': 'deepseek-r1-distill-llama-70b', 'system_fingerprint': 'fp_1bbe7845ec', 'finish_reason': 'tool_calls', 'logprobs': None}, id='run--88c2e82e-e104-4d31-8efb-40fa9ad50a5c-0', tool_calls=[{'name': 'search', 'args': {'query': 'capital of France'}, 'id': 'tt3t3r5bj', 'type': 'tool_call'}], usage_metadata={'input_tokens': 174, 'output_tokens': 136, 'total_tokens': 310}),\n",
       "  ToolMessage(content='Result for capital of France in \\n[{\\'title\\': \\'What is the Capital of France? - Mappr\\', \\'url\\': \\'https://www.mappr.co/capital-cities/france/\\', \\'content\\': \\'mappr logo\\\\nmappr logo\\\\n\\\\nHome » Capital Cities » What is the Capital of France?\\\\n\\\\n# What is the Capital of France?\\\\n\\\\nParis is the capital of France. Also known as the “City of Light,” is not only the capital but also the most populous city of France. Paris is renowned globally for its art, fashion, gastronomy, and culture.\\\\n\\\\nA map showing France in yellow with surrounding countries in white, major cities marked, and Paris highlighted with a black dot. [...] However, Paris only became the official capital of France during the reign of Clovis I, in the late 5th and early 6th century. Before Clovis, the Merovingian kings did not rule from a fixed capital, but Clovis established his court in Paris, effectively making it the capital. Since then, with some interruptions, Paris has remained the capital of France.\\', \\'score\\': 0.9055316}, {\\'title\\': \\'Paris facts: the capital of France in history\\', \\'url\\': \\'https://home.adelphi.edu/~ca19535/page%204.html\\', \\'content\\': \\'Before Paris, the capital of France was Lyon (under the Romans). Paris first became the capital of France in 508 under King Clovis. After centuries with no unique capital of France, Paris retrieved its status of capital of France under King Philippe Auguste, who reigned between 1180 and 1223. You can see remains of the Philippe August Paris walls in the passageway between the Louvre parking and Louvre Museum [...] page 4\\\\n\\\\n===============\\\\n\\\\nHomeSpainSydneySan FranciscoParisLas VegasMaui\\\\n\\\\n Paris, France\\\\n\\\\nImage 1\\\\n\\\\nParis facts: Paris, the capital of France\\\\n---------------------------------------------\\\\n\\\\nParis is the capital of France, the largest country of Europe with 550 000 km2 (65 millions inhabitants).\\\\n\\\\nParis has 2.234 million inhabitants end 2011. She is the core of Ile de France region (12 million people). [...] Paris remained the capital of France until today, with one four year interruption. During German occupation (WW2 , 1940-1944), the capital of France was Vichy.\\\\n\\\\ngo to top\\\\n\\\\nReference:\\', \\'score\\': 0.8783249}, {\\'title\\': \\'Paris - Wikipedia\\', \\'url\\': \\'https://en.wikipedia.org/wiki/Paris\\', \\'content\\': \\'As the capital of France, Paris is the seat of France\\\\\\'s national government. For the executive, the two chief officers each have their own official residences, which also serve as their offices. The President of the French Republic resides at the Élysée Palace.( The Prime Minister\\\\\\'s seat is at the Hôtel Matignon.( Government ministries are located in various parts of the city, many near the Hôtel Matignon.( [...] Appearance\\\\n\\\\nmove to sidebar hide\\\\n\\\\nCoordinates: 48°51′24″N 2°21′8″E / 48.85667°N 2.35222°E / 48.85667; 2.35222_region:FR-75C)\\\\n\\\\nImage 4: This is a good article. Click here for more information.\\\\n\\\\nImage 5: Page semi-protected\\\\n\\\\nFrom Wikipedia, the free encyclopedia\\\\n\\\\nCapital and largest city of France\\\\n\\\\nThis article is about the capital city of France. For other uses, see Paris (disambiguation) \"Paris (disambiguation)\"). [...] Paris (French pronunciation:( \"Help:IPA/French\")ⓘ) is the capital and largest city of France. With an estimated population of 2,048,472 residents in January 2025( in an area of more than 105 km 2 (41 sq mi),( Paris is the fourth-most populous city in the European Union and the 30th most densely populated city in the world in 2022.( Since the 17th century, Paris has been one of the world\\\\\\'s major centres of finance, diplomacy, commerce, culture, fashion, and gastronomy. Because of its leading\\', \\'score\\': 0.8591094}, {\\'title\\': \\'List of capitals of France - Wikipedia\\', \\'url\\': \\'https://en.wikipedia.org/wiki/List_of_capitals_of_France\\', \\'content\\': \\'Image 4This article needs additional citations for verification. Please help improve this article by adding citations to reliable sources. Unsourced material may be challenged and removed.\\\\n\\\\n_Find sources:_\"List of capitals of France\"–news·newspapers·books·scholar·JSTOR_(July 2012)_ _(Learn how and when to remove this message)_\\\\n\\\\nThis is a chronological list of capitals of France. The capital of France has been Paris since its liberation in 1944.(\\\\n\\\\nChronology\\\\n----------\\\\n\\\\n[edit] [...] Tours (10–13 June 1940), the city served as the temporary capital of France during World War II after the government fled Paris due to the German advance.\\\\n   Bordeaux (June 1940), the government was relocated from Paris to Tours then Bordeaux very briefly during World War II, when it became apparent that Paris would soon fall into German hands. [...] Bourges (1422–1444), Charles VII was forced to flee from Paris.\\\\n   Tours (1444–1527), Louis XI made the Château de Plessis-lez-Tours his residence.\\\\n   Paris (1528–1589), Francis I had established his court in Paris.\\\\n   Tours (1589–1594), faction of parliamentarians, faithful to King Henry IV sat at Tours.\\\\n   Paris (1594–1682)_[citation needed_]\\\\n   Versailles (1682–1789), from 1682 to 1715, Louis XIV made Versailles his residence and the seat of the French court.\\', \\'score\\': 0.8585411}, {\\'title\\': \\'What is the Capital of France? Paris - Countryaah.com\\', \\'url\\': \\'https://www.countryaah.com/france-faqs/\\', \\'content\\': \\'France, officially known as the French Republic, is one of the largest and most influential countries in Europe and the world. With a rich cultural history, a global presence in politics, economics, and the arts, and a strong role in the European Union, France is known for its contributions to world civilization. Paris, its capital, is not only the political center but also a cultural and financial epicenter with global influence. [...] Paris, the capital city of France, is one of the most famous and influential cities in the world. Located in the northern part of the country along the Seine River, Paris has been a center of culture, art, fashion, and intellectual thought for centuries. The city is often referred to as “The City of Light” due to its historical role as a hub of education and the Enlightenment in the 18th century, as well as the early adoption of street lighting. See Rrrjewelry for other major cities in France. [...] Countryaah.com\\\\n\\\\nCountryaah.com\\\\n\\\\nCountryaah.com\\\\n\\\\nCountryaah.com\\\\n\\\\n# What is the Capital of France? Paris\\\\n\\\\nby \\\\ncountryaah\\\\n ·\\\\nPublished June 2, 2019\\\\n· Updated November 6, 2024\\\\n\\\\nFrance Paris\\\\n\\\\nFrance Paris\\\\n\\\\n## Capital City of France: Paris\\\\n\\\\n### City Overview\\', \\'score\\': 0.85509074}]', name='search', tool_call_id='tt3t3r5bj'),\n",
       "  AIMessage(content=\"The capital of France is Paris. Paris has been the capital for most of France's history, serving as the political, cultural, and historical center. It is home to the government, including the President's office, and is a global hub for fashion, art, and culture. While there have been temporary relocations, such as during World War II, Paris has consistently been re-established as the capital.\", additional_kwargs={}, response_metadata={'token_usage': {'completion_tokens': 541, 'prompt_tokens': 1836, 'total_tokens': 2377, 'completion_time': 2.279594335, 'prompt_time': 0.133314974, 'queue_time': 0.22607313599999998, 'total_time': 2.412909309}, 'model_name': 'deepseek-r1-distill-llama-70b', 'system_fingerprint': 'fp_1bbe7845ec', 'finish_reason': 'stop', 'logprobs': None}, id='run--c98959a1-ffb2-4d01-9ce4-d9ddf79e7c15-0', usage_metadata={'input_tokens': 1836, 'output_tokens': 541, 'total_tokens': 2377}),\n",
       "  ToolMessage(content='according to the latest data 4.1 trillion USD', tool_call_id='tt3t3r5bj'),\n",
       "  AIMessage(content='GDP is 4.1 Trillion USD.', additional_kwargs={}, response_metadata={}),\n",
       "  HumanMessage(content='What is the current gdp of the japan?', additional_kwargs={}, response_metadata={}),\n",
       "  AIMessage(content='', additional_kwargs={'tool_calls': [{'id': 'rpfz46zws', 'function': {'arguments': '{\"query\":\"current GDP of Japan\"}', 'name': 'search'}, 'type': 'function'}]}, response_metadata={'token_usage': {'completion_tokens': 162, 'prompt_tokens': 1976, 'total_tokens': 2138, 'completion_time': 0.925671271, 'prompt_time': 0.157461348, 'queue_time': 0.218853144, 'total_time': 1.083132619}, 'model_name': 'deepseek-r1-distill-llama-70b', 'system_fingerprint': 'fp_1bbe7845ec', 'finish_reason': 'tool_calls', 'logprobs': None}, id='run--0b11e0bd-a6ec-4047-a5ea-af09af81916e-0', tool_calls=[{'name': 'search', 'args': {'query': 'current GDP of Japan'}, 'id': 'rpfz46zws', 'type': 'tool_call'}], usage_metadata={'input_tokens': 1976, 'output_tokens': 162, 'total_tokens': 2138})]}"
      ]
     },
     "execution_count": 71,
     "metadata": {},
     "output_type": "execute_result"
    }
   ],
   "source": [
    "app1.invoke({\"messages\":[HumanMessage(\"What is the current gdp of the japan?\")]},config=config)"
   ]
  },
  {
   "cell_type": "code",
   "execution_count": null,
   "id": "e94a51d5",
   "metadata": {},
   "outputs": [],
   "source": []
  }
 ],
 "metadata": {
  "kernelspec": {
   "display_name": "Python 3",
   "language": "python",
   "name": "python3"
  },
  "language_info": {
   "codemirror_mode": {
    "name": "ipython",
    "version": 3
   },
   "file_extension": ".py",
   "mimetype": "text/x-python",
   "name": "python",
   "nbconvert_exporter": "python",
   "pygments_lexer": "ipython3",
   "version": "3.13.2"
  }
 },
 "nbformat": 4,
 "nbformat_minor": 5
}
