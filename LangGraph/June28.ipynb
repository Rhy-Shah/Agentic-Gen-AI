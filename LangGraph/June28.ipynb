{
 "cells": [
  {
   "cell_type": "code",
   "execution_count": 52,
   "id": "37e822b6",
   "metadata": {},
   "outputs": [],
   "source": [
    "from dotenv import load_dotenv\n",
    "from langchain_openai import ChatOpenAI\n",
    "import os\n",
    "from langgraph.types import Command\n",
    "from langgraph.prebuilt import create_react_agent\n",
    "from langchain.tools import tool\n",
    "from typing_extensions import Literal\n",
    "from langgraph.graph import MessagesState, StateGraph, START, END\n",
    "\n",
    "from typing import Annotated, Literal, List, Dict, Any\n",
    "from typing_extensions import TypedDict\n",
    "from langchain_community.tools.tavily_search import TavilySearchResults\n",
    "from langchain_core.messages import HumanMessage"
   ]
  },
  {
   "cell_type": "code",
   "execution_count": 53,
   "id": "664aeeef",
   "metadata": {},
   "outputs": [
    {
     "data": {
      "text/plain": [
       "AIMessage(content=\"Hello! I'm just a computer program, so I don't have feelings, but I'm here and ready to assist you. How can I help you today?\", additional_kwargs={'refusal': None}, response_metadata={'token_usage': {'completion_tokens': 33, 'prompt_tokens': 14, 'total_tokens': 47, 'completion_tokens_details': {'accepted_prediction_tokens': 0, 'audio_tokens': 0, 'reasoning_tokens': 0, 'rejected_prediction_tokens': 0}, 'prompt_tokens_details': {'audio_tokens': 0, 'cached_tokens': 0}}, 'model_name': 'gpt-3.5-turbo-0125', 'system_fingerprint': None, 'id': 'chatcmpl-BoM5VNVN7EEDz5d9nl3aLv9TI65Ap', 'service_tier': 'default', 'finish_reason': 'stop', 'logprobs': None}, id='run--f5d06ae1-fd9f-444a-b80a-a23ecd87b6ab-0', usage_metadata={'input_tokens': 14, 'output_tokens': 33, 'total_tokens': 47, 'input_token_details': {'audio': 0, 'cache_read': 0}, 'output_token_details': {'audio': 0, 'reasoning': 0}})"
      ]
     },
     "execution_count": 53,
     "metadata": {},
     "output_type": "execute_result"
    }
   ],
   "source": [
    "load_dotenv()\n",
    "os.environ[\"OPENAI_API_KEY\"] = os.getenv(\"OPENAI_API_KEY\")\n",
    "\n",
    "llm = ChatOpenAI()\n",
    "llm.invoke(\"Hey there, how are you?\")"
   ]
  },
  {
   "cell_type": "code",
   "execution_count": 54,
   "id": "b5598b12",
   "metadata": {},
   "outputs": [],
   "source": [
    "TAVILY_API_KEY = os.getenv(\"TAVILY_API_KEY\")\n",
    "search_tool = TavilySearchResults(tavily_api_key=TAVILY_API_KEY)"
   ]
  },
  {
   "cell_type": "code",
   "execution_count": 55,
   "id": "241a78e3",
   "metadata": {},
   "outputs": [],
   "source": [
    "members=[\"researcher\",\"coder\"]\n",
    "options = members+[\"FINISH\"]"
   ]
  },
  {
   "cell_type": "code",
   "execution_count": 56,
   "id": "f62a7992",
   "metadata": {},
   "outputs": [],
   "source": [
    "class Router(TypedDict):\n",
    "    next: Literal[\"researcher\", \"coder\", \"FINISH\"]"
   ]
  },
  {
   "cell_type": "code",
   "execution_count": 57,
   "id": "bd5f474b",
   "metadata": {},
   "outputs": [],
   "source": [
    "class State(MessagesState):\n",
    "    next:str"
   ]
  },
  {
   "cell_type": "code",
   "execution_count": 58,
   "id": "221ec256",
   "metadata": {},
   "outputs": [],
   "source": [
    "system_prompt = f\"\"\"\"\n",
    "You are a supervisor, tasked with managing a conversation between the following workers: {members}. \n",
    "Given the following user request, respond with the worker to act next. \n",
    "Each worker will perform a task and respond with their results and status. \n",
    "When finished, respond with FINISH.\n",
    "\"\"\""
   ]
  },
  {
   "cell_type": "code",
   "execution_count": 59,
   "id": "d76fa16b",
   "metadata": {},
   "outputs": [
    {
     "name": "stderr",
     "output_type": "stream",
     "text": [
      "<>:10: SyntaxWarning: invalid escape sequence '\\`'\n",
      "<>:10: SyntaxWarning: invalid escape sequence '\\`'\n",
      "<>:10: SyntaxWarning: invalid escape sequence '\\`'\n",
      "<>:10: SyntaxWarning: invalid escape sequence '\\`'\n",
      "/var/folders/c4/kvf3th_j15lf5cq2pybvfgjm0000gn/T/ipykernel_54649/2387125992.py:10: SyntaxWarning: invalid escape sequence '\\`'\n",
      "  result_str = f\"Successfully executed:\\n\\`\\`\\`python\\n{code}\\n\\`\\`\\`\\nStdout: {result}\"\n",
      "/var/folders/c4/kvf3th_j15lf5cq2pybvfgjm0000gn/T/ipykernel_54649/2387125992.py:10: SyntaxWarning: invalid escape sequence '\\`'\n",
      "  result_str = f\"Successfully executed:\\n\\`\\`\\`python\\n{code}\\n\\`\\`\\`\\nStdout: {result}\"\n"
     ]
    }
   ],
   "source": [
    "def python_repl_tool(code: Annotated[str, \"The python code to execute to generate your chart.\"]):\n",
    "    \"\"\"Use this to execute python code and do math. If you want to see the output of a value,\n",
    "    you should print it out with `print(...)`. This is visible to the user.\"\"\"\n",
    "    \n",
    "    try:\n",
    "        result = repl.run(code)\n",
    "    except BaseException as e:\n",
    "        return f\"Failed to execute. Error: {repr(e)}\"\n",
    "    \n",
    "    result_str = f\"Successfully executed:\\n\\`\\`\\`python\\n{code}\\n\\`\\`\\`\\nStdout: {result}\"\n",
    "    return result_str"
   ]
  },
  {
   "cell_type": "code",
   "execution_count": 60,
   "id": "0ca79308",
   "metadata": {},
   "outputs": [],
   "source": [
    "def supervisor(state:State)->Command[Literal['researcher', 'coder', '__end__']]:\n",
    "    \n",
    "    messages = [{\"role\": \"system\", \"content\": system_prompt},] + state[\"messages\"]\n",
    "    \n",
    "    llm_with_structure_output = llm.with_structured_output(Router)\n",
    "    response = llm_with_structure_output.invoke(messages)\n",
    "    goto=response[\"next\"]\n",
    "    \n",
    "    print(\"**********BELOW IS MY GOTO***************\")    \n",
    "    print(goto)\n",
    "    \n",
    "    if goto == \"FINISH\":\n",
    "        goto=END\n",
    "    \n",
    "    return Command(goto=goto, update={\"next\":goto})"
   ]
  },
  {
   "cell_type": "code",
   "execution_count": 61,
   "id": "07c54af1",
   "metadata": {},
   "outputs": [],
   "source": [
    "def researcher(state: State) -> Command[Literal['supervisor']]:\n",
    "    \n",
    "    research = create_react_agent(llm, tools=[search_tool], prompt = \"You are just a researcher, tasked with finding information based on the user request. Do not do any math\")\n",
    "    result = research.invoke(state)\n",
    "\n",
    "    return Command(update = {\"messages\":[HumanMessage(content=result[\"messages\"][-1].content, name=\"researcher\")]}, goto=\"supervisor\")"
   ]
  },
  {
   "cell_type": "code",
   "execution_count": 62,
   "id": "38daa67b",
   "metadata": {},
   "outputs": [],
   "source": [
    "def coder(state: State) -> Command[Literal['supervisor']]:\n",
    "    code_agent = create_react_agent(llm, tools = [python_repl_tool], prompt = \"You are just a code, do not do any research.\")\n",
    "    \n",
    "    return Command(update = {\"messages\":[HumanMessage(content=code_agent.invoke(state)[\"messages\"][-1].content, name=\"coder\")]}, goto=\"supervisor\")"
   ]
  },
  {
   "cell_type": "code",
   "execution_count": 63,
   "id": "85fbc97d",
   "metadata": {},
   "outputs": [
    {
     "data": {
      "image/png": "[encoded data removed]",
      "text/plain": [
       "<langgraph.graph.state.CompiledStateGraph object at 0x10e29ed50>"
      ]
     },
     "execution_count": 63,
     "metadata": {},
     "output_type": "execute_result"
    }
   ],
   "source": [
    "graph = StateGraph(MessagesState)\n",
    "\n",
    "graph.add_node('supervisor', supervisor)\n",
    "graph.add_node('researcher', researcher)\n",
    "graph.add_node('coder', coder)\n",
    "\n",
    "graph.add_edge(START, 'supervisor')\n",
    "\n",
    "app = graph.compile()\n",
    "\n",
    "app"
   ]
  },
  {
   "cell_type": "code",
   "execution_count": 66,
   "id": "c853449a",
   "metadata": {},
   "outputs": [
    {
     "name": "stderr",
     "output_type": "stream",
     "text": [
      "/Users/rhy/Library/CloudStorage/OneDrive-ArizonaStateUniversity/SelfStudy/Agentic & Gen AI with Cloud/agenticai/lib/python3.13/site-packages/langchain_openai/chat_models/base.py:1669: UserWarning: Cannot use method='json_schema' with model gpt-3.5-turbo since it doesn't support OpenAI's Structured Output API. You can see supported models here: https://platform.openai.com/docs/guides/structured-outputs#supported-models. To fix this warning, set `method='function_calling'. Overriding to method='function_calling'.\n",
      "  warnings.warn(\n"
     ]
    },
    {
     "name": "stdout",
     "output_type": "stream",
     "text": [
      "**********BELOW IS MY GOTO***************\n",
      "researcher\n",
      "((), {'supervisor': {'next': 'researcher'}})\n",
      "(('researcher:7f690e03-1a2a-f81e-c3b9-6b4a4099ee4f',), {'agent': {'messages': [AIMessage(content='', additional_kwargs={'tool_calls': [{'id': 'call_Yy69dLYpy4uhIRufoJObX6Bf', 'function': {'arguments': '{\"query\":\"csquare root of 42\"}', 'name': 'tavily_search_results_json'}, 'type': 'function'}], 'refusal': None}, response_metadata={'token_usage': {'completion_tokens': 23, 'prompt_tokens': 112, 'total_tokens': 135, 'completion_tokens_details': {'accepted_prediction_tokens': 0, 'audio_tokens': 0, 'reasoning_tokens': 0, 'rejected_prediction_tokens': 0}, 'prompt_tokens_details': {'audio_tokens': 0, 'cached_tokens': 0}}, 'model_name': 'gpt-3.5-turbo-0125', 'system_fingerprint': None, 'id': 'chatcmpl-BoMJv741Q3EpVXEP55oHeNoJnecDq', 'service_tier': 'default', 'finish_reason': 'tool_calls', 'logprobs': None}, id='run--543093d0-95e5-4758-94d3-921db6895ec2-0', tool_calls=[{'name': 'tavily_search_results_json', 'args': {'query': 'csquare root of 42'}, 'id': 'call_Yy69dLYpy4uhIRufoJObX6Bf', 'type': 'tool_call'}], usage_metadata={'input_tokens': 112, 'output_tokens': 23, 'total_tokens': 135, 'input_token_details': {'audio': 0, 'cache_read': 0}, 'output_token_details': {'audio': 0, 'reasoning': 0}})]}})\n",
      "(('researcher:7f690e03-1a2a-f81e-c3b9-6b4a4099ee4f',), {'tools': {'messages': [ToolMessage(content='[{\"title\": \"Find Square Root of 42 by Prime Factorization & Long Division\", \"url\": \"https://testbook.com/maths/square-root-of-42\", \"content\": \"The square root of 42 42 is a quantity that when multiplied by itself will equal 42 42.\\\\n   The square root of 42 42 is 42−−√=6.48074 42=6.48074.\\\\n   The square root of 42 42 in exponential form is written as (42)1 2(42)1 2.\\\\n   The square root of 42 42 in radical form is written as 42−−√42.\\\\n   The square root of 42 42 can be found by using prime factorization method, long division method, approximation method, and Newton raphson method.\\\\n   The square root of 42 42 is an irrational number. [...] (Given number – Smaller perfect square) / (Greater perfect square – smaller perfect square) = =42−36 49−36=6 13=0.461=42−36 49−36=6 13=0.461.\\\\n\\\\nStep 3: So, the square root of 42 42 is 6.461 6.461.\\\\n\\\\nTherefore, the estimated square root of 42 42 by the approximation method is 6.461 6.461.\\\\n\\\\n### Square Root of 42 by Long Division Method [...] We know that the value of 2–√=1.41421 2=1.41421, 3–√=1.73205 3=1.73205 and 7–√=2.64575 7=2.64575.\\\\n\\\\nSimplify this further by substituting the value of 2–√2, 3–√3, and 7–√7, we get\\\\n\\\\n⇒⇒42−−√=1.41421×1.73205×2.64575 42=1.41421×1.73205×2.64575\\\\n\\\\n⇒⇒42−−√≈6.48074 42≈6.48074\\\\n\\\\nThe image given below shows the prime factorization method to find the square root of 42 42.\\\\n\\\\nImage 8: Square Root of 42 by Prime Factorization Method\\\\n\\\\nHence, the square root of 42−−√42 is approximately equal to 6.48074 6.48074.\", \"score\": 0.8747745}, {\"title\": \"What is the Square Root of 42? Information and Calculator\", \"url\": \"https://square-root.net/square-root-of-42\", \"content\": \"We are constantly trying to improve our site, and truly appreciate your feedback.\\\\n\\\\nAhead is the wrap-up of our information.\\\\n\\\\nSummary\\\\n-------\\\\n\\\\nTo sum up, the square roots of 42 are ±6.4807406984; the positive real value is the principal.\\\\n\\\\nFinding the second root of the number 42 is the inverse operation of rising the ²√42 to the power of 2. That is to say, (±6.4807406984)2 = 42.\\\\n\\\\nFurther information about the root of a number like ²√42 can be found on our page n-th Root. [...] Together, they are denominated as\\\\n\\\\nAlthough the principal square root of forty-two is only one of the two square roots, the term “square root of 42” usually refers to the positive number, that is the principal square root.\\\\n\\\\nIf you want to know how to find the value of this root, then read our article Square Root located in the header menu.\\\\n\\\\nThere, we also discuss the properties for index n = 2 by means of examples: multiplication, division, exponentiation etc.\", \"score\": 0.85567063}, {\"title\": \"How to Find the Square Root of 42? - Cuemath\", \"url\": \"https://www.cuemath.com/algebra/square-root-of-42/\", \"content\": \"Image 8: Square root of 42\\\\n\\\\nSo, we get the square root of √42 = 6.480 by the long division method.\\\\n\\\\nExplore square roots using illustrations and interactive examples.\\\\n\\\\n   Square root of 44\\\\n   Square root of 72\\\\n   Square root of 22\\\\n   Square root of 85\\\\n   Square root of 64\\\\n\\\\nImportant Notes:\\\\n\\\\n   The number 42 is not a perfect square.\\\\n   The square root of -42 is an imaginary number.\\\\n   The square root of 42 is an irrational number.\\\\n\\\\nRead More [...] Pricing\\\\n\\\\nAbout Us\\\\n\\\\nImage 4Image 5\\\\n\\\\nImage 6Image 7\\\\n\\\\nLearn Practice Download\\\\n\\\\nSquare Root of 42\\\\n=================\\\\n\\\\nThe number 42 is a number with three prime factors 2, 3, and 7. So, its prime factorization. The square root of a number is both positive and negative. We will now calculate the square root of 42 using various methods and learn a few interesting facts and questions as well.\\\\n\\\\n   Square root of 42: 6.48074\\\\n   Square of 42: 1764 [...] The square root of a number implies a number whose product with itself gives the initial number.\\\\n   The square root of 42 is 6.4807.\\\\n   The square root of 42 is written as √42 in radical form and it cannot be reduced further.\\\\n   The square root of 42 can be written as (42)1/2 in exponential form.\\\\n\\\\nIs Square Root of 42 Rational or Irrational?\\\\n--------------------------------------------\\\\n\\\\nA rational number is a number that can be expressed in the form of p/q where q ≠ 0.\", \"score\": 0.8412138}, {\"title\": \"[FREE] Express the square root of 42 in radical form. - brainly.com\", \"url\": \"https://brainly.com/question/24495266\", \"content\": \"Since there is no perfect square factor other than 1 in 42, the square root of 42 in radical form remains √42.\\\\n\\\\nThe process of simplifying square roots involves finding the prime factors and then simplifying them by extracting square roots of perfect squares if possible. For example, √49 can be broken down into √(7²) which simplifies to 7 because 7 is a perfect square. But in the case of 42, which is 2×3×7, there are no perfect squares to extract, so it remains as it is. [...] Final answer:\\\\n\\\\nThe square root of 42 remains in radical form as √42 since 42 is not a perfect square and does not have perfect square factors to simplify.\\\\n\\\\nExplanation:\\\\n\\\\nThe square root of 42 cannot be simplified to an integer or another simple square root because 42 is not a perfect square. However, we can attempt to simplify it by factoring out perfect square factors if any exist.\\\\n\\\\nTo do this, we look for the largest perfect square that divides 42.\", \"score\": 0.8358192}, {\"title\": \"What is the Square Root of 42? - BYJU\\'S\", \"url\": \"https://byjus.com/maths/square-root-of-42/\", \"content\": \"Table of Contents:\\\\n\\\\n## What is the Square Root of 42?\\\\n\\\\nIf a number is multiplied by itself and gives the result as 42, then the number is the square root 42. The square root of 42 is symbolically expressed as √42.\\\\n\\\\nHence, √42 = √(Number × Number)\\\\n\\\\nThus, if we multiply the number 6.4807 two times, we get the original value 42.\\\\n\\\\n(i.e) √42 = √(6.4807× 6.4807)\\\\n\\\\n√42 = √(6.4807)2\\\\n\\\\nNow, remove square and square root, we get\\\\n\\\\n√42 = ± 6.4807 (or)\\\\n\\\\n√42 = ± 6.481 (Rounded to three decimal places) [...] | Square Root of 42 in Radical Form: √42. |\\\\n| --- |\\\\n\\\\n## Square Root of 42 by Prime Factorization Method\\\\n\\\\nTo find the square root of 42 using the prime factorization method, we need to know the prime factors of 42. The prime factors of 42 are 2, 3 and 7 and the prime factorization of 42 is 2× 3×7.\\\\n\\\\nThus, √42 = √2. √3.√7\\\\n\\\\nWe know that,\\\\n\\\\n√2 = 1.414\\\\n\\\\n√3 = 1.732\\\\n\\\\n√7 = 2.646\\\\n\\\\nNow, substitute the values of √2, √3 and √7 in the above equation.\\\\n\\\\n√42 = 1.414 × 1.732 × 2.646\\\\n\\\\n√42 = 6.481 (approximately) [...] | Square Root of 42 in Decimal Form: 6.481. |\\\\n| --- |\\\\n\\\\n## Square Root of 42 in Radical Form\\\\n\\\\nWe can also represent the square root of 42 in the radical form. To express the square root of 42 in radical form, write the prime factors of 42. The number 42 has three prime factors, such as 2, 3 and 7. So, if we want to write √42 in radical form, it should be like √2. √3. √7, which is not in the simplest form. So, we can say the square root of 42 is radical form is √42\", \"score\": 0.82728493}]', name='tavily_search_results_json', id='ca35aca3-e9f6-4670-a789-fff191adcbac', tool_call_id='call_Yy69dLYpy4uhIRufoJObX6Bf', artifact={'query': 'csquare root of 42', 'follow_up_questions': None, 'answer': None, 'images': [], 'results': [{'title': 'Find Square Root of 42 by Prime Factorization & Long Division', 'url': 'https://testbook.com/maths/square-root-of-42', 'content': 'The square root of 42 42 is a quantity that when multiplied by itself will equal 42 42.\\n   The square root of 42 42 is 42−−√=6.48074 42=6.48074.\\n   The square root of 42 42 in exponential form is written as (42)1 2(42)1 2.\\n   The square root of 42 42 in radical form is written as 42−−√42.\\n   The square root of 42 42 can be found by using prime factorization method, long division method, approximation method, and Newton raphson method.\\n   The square root of 42 42 is an irrational number. [...] (Given number – Smaller perfect square) / (Greater perfect square – smaller perfect square) = =42−36 49−36=6 13=0.461=42−36 49−36=6 13=0.461.\\n\\nStep 3: So, the square root of 42 42 is 6.461 6.461.\\n\\nTherefore, the estimated square root of 42 42 by the approximation method is 6.461 6.461.\\n\\n### Square Root of 42 by Long Division Method [...] We know that the value of 2–√=1.41421 2=1.41421, 3–√=1.73205 3=1.73205 and 7–√=2.64575 7=2.64575.\\n\\nSimplify this further by substituting the value of 2–√2, 3–√3, and 7–√7, we get\\n\\n⇒⇒42−−√=1.41421×1.73205×2.64575 42=1.41421×1.73205×2.64575\\n\\n⇒⇒42−−√≈6.48074 42≈6.48074\\n\\nThe image given below shows the prime factorization method to find the square root of 42 42.\\n\\nImage 8: Square Root of 42 by Prime Factorization Method\\n\\nHence, the square root of 42−−√42 is approximately equal to 6.48074 6.48074.', 'score': 0.8747745, 'raw_content': None}, {'title': 'What is the Square Root of 42? Information and Calculator', 'url': 'https://square-root.net/square-root-of-42', 'content': 'We are constantly trying to improve our site, and truly appreciate your feedback.\\n\\nAhead is the wrap-up of our information.\\n\\nSummary\\n-------\\n\\nTo sum up, the square roots of 42 are ±6.4807406984; the positive real value is the principal.\\n\\nFinding the second root of the number 42 is the inverse operation of rising the ²√42 to the power of 2. That is to say, (±6.4807406984)2 = 42.\\n\\nFurther information about the root of a number like ²√42 can be found on our page n-th Root. [...] Together, they are denominated as\\n\\nAlthough the principal square root of forty-two is only one of the two square roots, the term “square root of 42” usually refers to the positive number, that is the principal square root.\\n\\nIf you want to know how to find the value of this root, then read our article Square Root located in the header menu.\\n\\nThere, we also discuss the properties for index n = 2 by means of examples: multiplication, division, exponentiation etc.', 'score': 0.85567063, 'raw_content': None}, {'url': 'https://www.cuemath.com/algebra/square-root-of-42/', 'title': 'How to Find the Square Root of 42? - Cuemath', 'content': 'Image 8: Square root of 42\\n\\nSo, we get the square root of √42 = 6.480 by the long division method.\\n\\nExplore square roots using illustrations and interactive examples.\\n\\n   Square root of 44\\n   Square root of 72\\n   Square root of 22\\n   Square root of 85\\n   Square root of 64\\n\\nImportant Notes:\\n\\n   The number 42 is not a perfect square.\\n   The square root of -42 is an imaginary number.\\n   The square root of 42 is an irrational number.\\n\\nRead More [...] Pricing\\n\\nAbout Us\\n\\nImage 4Image 5\\n\\nImage 6Image 7\\n\\nLearn Practice Download\\n\\nSquare Root of 42\\n=================\\n\\nThe number 42 is a number with three prime factors 2, 3, and 7. So, its prime factorization. The square root of a number is both positive and negative. We will now calculate the square root of 42 using various methods and learn a few interesting facts and questions as well.\\n\\n   Square root of 42: 6.48074\\n   Square of 42: 1764 [...] The square root of a number implies a number whose product with itself gives the initial number.\\n   The square root of 42 is 6.4807.\\n   The square root of 42 is written as √42 in radical form and it cannot be reduced further.\\n   The square root of 42 can be written as (42)1/2 in exponential form.\\n\\nIs Square Root of 42 Rational or Irrational?\\n--------------------------------------------\\n\\nA rational number is a number that can be expressed in the form of p/q where q ≠ 0.', 'score': 0.8412138, 'raw_content': None}, {'url': 'https://brainly.com/question/24495266', 'title': '[FREE] Express the square root of 42 in radical form. - brainly.com', 'content': 'Since there is no perfect square factor other than 1 in 42, the square root of 42 in radical form remains √42.\\n\\nThe process of simplifying square roots involves finding the prime factors and then simplifying them by extracting square roots of perfect squares if possible. For example, √49 can be broken down into √(7²) which simplifies to 7 because 7 is a perfect square. But in the case of 42, which is 2×3×7, there are no perfect squares to extract, so it remains as it is. [...] Final answer:\\n\\nThe square root of 42 remains in radical form as √42 since 42 is not a perfect square and does not have perfect square factors to simplify.\\n\\nExplanation:\\n\\nThe square root of 42 cannot be simplified to an integer or another simple square root because 42 is not a perfect square. However, we can attempt to simplify it by factoring out perfect square factors if any exist.\\n\\nTo do this, we look for the largest perfect square that divides 42.', 'score': 0.8358192, 'raw_content': None}, {'title': \"What is the Square Root of 42? - BYJU'S\", 'url': 'https://byjus.com/maths/square-root-of-42/', 'content': 'Table of Contents:\\n\\n## What is the Square Root of 42?\\n\\nIf a number is multiplied by itself and gives the result as 42, then the number is the square root 42. The square root of 42 is symbolically expressed as √42.\\n\\nHence, √42 = √(Number × Number)\\n\\nThus, if we multiply the number 6.4807 two times, we get the original value 42.\\n\\n(i.e) √42 = √(6.4807× 6.4807)\\n\\n√42 = √(6.4807)2\\n\\nNow, remove square and square root, we get\\n\\n√42 = ± 6.4807 (or)\\n\\n√42 = ± 6.481 (Rounded to three decimal places) [...] | Square Root of 42 in Radical Form: √42. |\\n| --- |\\n\\n## Square Root of 42 by Prime Factorization Method\\n\\nTo find the square root of 42 using the prime factorization method, we need to know the prime factors of 42. The prime factors of 42 are 2, 3 and 7 and the prime factorization of 42 is 2× 3×7.\\n\\nThus, √42 = √2. √3.√7\\n\\nWe know that,\\n\\n√2 = 1.414\\n\\n√3 = 1.732\\n\\n√7 = 2.646\\n\\nNow, substitute the values of √2, √3 and √7 in the above equation.\\n\\n√42 = 1.414 × 1.732 × 2.646\\n\\n√42 = 6.481 (approximately) [...] | Square Root of 42 in Decimal Form: 6.481. |\\n| --- |\\n\\n## Square Root of 42 in Radical Form\\n\\nWe can also represent the square root of 42 in the radical form. To express the square root of 42 in radical form, write the prime factors of 42. The number 42 has three prime factors, such as 2, 3 and 7. So, if we want to write √42 in radical form, it should be like √2. √3. √7, which is not in the simplest form. So, we can say the square root of 42 is radical form is √42', 'score': 0.82728493, 'raw_content': None}], 'response_time': 2.65})]}})\n",
      "(('researcher:7f690e03-1a2a-f81e-c3b9-6b4a4099ee4f',), {'agent': {'messages': [AIMessage(content='The square root of 42 is approximately 6.48074.', additional_kwargs={'refusal': None}, response_metadata={'token_usage': {'completion_tokens': 15, 'prompt_tokens': 2294, 'total_tokens': 2309, 'completion_tokens_details': {'accepted_prediction_tokens': 0, 'audio_tokens': 0, 'reasoning_tokens': 0, 'rejected_prediction_tokens': 0}, 'prompt_tokens_details': {'audio_tokens': 0, 'cached_tokens': 0}}, 'model_name': 'gpt-3.5-turbo-0125', 'system_fingerprint': None, 'id': 'chatcmpl-BoMJz2HoDs8rb18LvXkivx8SlQBzE', 'service_tier': 'default', 'finish_reason': 'stop', 'logprobs': None}, id='run--12e557aa-df24-48b5-adbe-6098fd392fc6-0', usage_metadata={'input_tokens': 2294, 'output_tokens': 15, 'total_tokens': 2309, 'input_token_details': {'audio': 0, 'cache_read': 0}, 'output_token_details': {'audio': 0, 'reasoning': 0}})]}})\n",
      "((), {'researcher': {'messages': [HumanMessage(content='The square root of 42 is approximately 6.48074.', additional_kwargs={}, response_metadata={}, name='researcher')]}})\n"
     ]
    },
    {
     "name": "stderr",
     "output_type": "stream",
     "text": [
      "/Users/rhy/Library/CloudStorage/OneDrive-ArizonaStateUniversity/SelfStudy/Agentic & Gen AI with Cloud/agenticai/lib/python3.13/site-packages/langchain_openai/chat_models/base.py:1669: UserWarning: Cannot use method='json_schema' with model gpt-3.5-turbo since it doesn't support OpenAI's Structured Output API. You can see supported models here: https://platform.openai.com/docs/guides/structured-outputs#supported-models. To fix this warning, set `method='function_calling'. Overriding to method='function_calling'.\n",
      "  warnings.warn(\n"
     ]
    },
    {
     "name": "stdout",
     "output_type": "stream",
     "text": [
      "**********BELOW IS MY GOTO***************\n",
      "FINISH\n",
      "((), {'supervisor': {'next': '__end__'}})\n"
     ]
    }
   ],
   "source": [
    "for s in app.stream({\"messages\": [(\"user\", \"What is the csquare root of 42\")]}, subgraphs = True):\n",
    "    print(s)"
   ]
  },
  {
   "cell_type": "code",
   "execution_count": null,
   "id": "7656dcc5",
   "metadata": {},
   "outputs": [],
   "source": []
  }
 ],
 "metadata": {
  "kernelspec": {
   "display_name": "Python 3",
   "language": "python",
   "name": "python3"
  },
  "language_info": {
   "codemirror_mode": {
    "name": "ipython",
    "version": 3
   },
   "file_extension": ".py",
   "mimetype": "text/x-python",
   "name": "python",
   "nbconvert_exporter": "python",
   "pygments_lexer": "ipython3",
   "version": "3.13.2"
  }
 },
 "nbformat": 4,
 "nbformat_minor": 5
}
