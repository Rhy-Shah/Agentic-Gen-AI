{
 "cells": [
  {
   "cell_type": "code",
   "execution_count": 1,
   "id": "998ade90",
   "metadata": {},
   "outputs": [
    {
     "name": "stderr",
     "output_type": "stream",
     "text": [
      "/var/folders/c4/kvf3th_j15lf5cq2pybvfgjm0000gn/T/ipykernel_74361/3590037574.py:3: LangChainDeprecationWarning: The class `HuggingFaceEmbeddings` was deprecated in LangChain 0.2.2 and will be removed in 1.0. An updated version of the class exists in the :class:`~langchain-huggingface package and should be used instead. To use it run `pip install -U :class:`~langchain-huggingface` and import as `from :class:`~langchain_huggingface import HuggingFaceEmbeddings``.\n",
      "  embeddings = HuggingFaceEmbeddings(model_name=\"all-MiniLM-L6-v2\")\n",
      "/Users/rhy/Library/CloudStorage/OneDrive-ArizonaStateUniversity/SelfStudy/Agentic & Gen AI with Cloud/agenticai/lib/python3.13/site-packages/tqdm/auto.py:21: TqdmWarning: IProgress not found. Please update jupyter and ipywidgets. See https://ipywidgets.readthedocs.io/en/stable/user_install.html\n",
      "  from .autonotebook import tqdm as notebook_tqdm\n"
     ]
    }
   ],
   "source": [
    "from langchain_community.embeddings import HuggingFaceEmbeddings\n",
    "\n",
    "embeddings = HuggingFaceEmbeddings(model_name=\"all-MiniLM-L6-v2\")"
   ]
  },
  {
   "cell_type": "code",
   "execution_count": 2,
   "id": "935cfb1b",
   "metadata": {},
   "outputs": [],
   "source": [
    "from dotenv import load_dotenv\n",
    "load_dotenv()\n",
    "import os\n",
    "os.environ['HF_TOKEN'] = os.getenv('HF_TOKEN')\n",
    "os.environ['GOOGLE_API_KEY'] = os.getenv('GOOGLE_API_KEY')"
   ]
  },
  {
   "cell_type": "code",
   "execution_count": 3,
   "id": "42c69710",
   "metadata": {},
   "outputs": [
    {
     "data": {
      "text/plain": [
       "384"
      ]
     },
     "execution_count": 3,
     "metadata": {},
     "output_type": "execute_result"
    }
   ],
   "source": [
    "len(embeddings.embed_query(\"Hello world\"))"
   ]
  },
  {
   "cell_type": "code",
   "execution_count": 4,
   "id": "86bae338",
   "metadata": {},
   "outputs": [],
   "source": [
    "from langchain_google_genai import GoogleGenerativeAIEmbeddings\n",
    "embeddings = GoogleGenerativeAIEmbeddings(model = \"models/embedding-001\")"
   ]
  },
  {
   "cell_type": "code",
   "execution_count": 5,
   "id": "9ead1d64",
   "metadata": {},
   "outputs": [
    {
     "data": {
      "text/plain": [
       "768"
      ]
     },
     "execution_count": 5,
     "metadata": {},
     "output_type": "execute_result"
    }
   ],
   "source": [
    "len(embeddings.embed_query(\"Hello world\"))"
   ]
  },
  {
   "cell_type": "code",
   "execution_count": 6,
   "id": "d0e15d0f",
   "metadata": {},
   "outputs": [],
   "source": [
    "from pinecone import Pinecone\n",
    "\n",
    "os.environ['PINECONE_API_KEY'] = os.getenv(\"PINECONE_API_KEY\")"
   ]
  },
  {
   "cell_type": "code",
   "execution_count": 7,
   "id": "51f9fc7f",
   "metadata": {},
   "outputs": [],
   "source": [
    "pc = Pinecone(api_key=os.getenv(\"PINECONE_API_KEY\"))"
   ]
  },
  {
   "cell_type": "code",
   "execution_count": 8,
   "id": "0c52b7ab",
   "metadata": {},
   "outputs": [],
   "source": [
    "from pinecone import ServerlessSpec"
   ]
  },
  {
   "cell_type": "markdown",
   "id": "57e97bbf",
   "metadata": {},
   "source": [
    "#### Servlerless means that the server will be managed by the cloud Provider"
   ]
  },
  {
   "cell_type": "code",
   "execution_count": 9,
   "id": "06e672ba",
   "metadata": {},
   "outputs": [],
   "source": [
    "index_name = \"rhy-genai\""
   ]
  },
  {
   "cell_type": "code",
   "execution_count": 10,
   "id": "3cddb03b",
   "metadata": {},
   "outputs": [
    {
     "data": {
      "text/plain": [
       "True"
      ]
     },
     "execution_count": 10,
     "metadata": {},
     "output_type": "execute_result"
    }
   ],
   "source": [
    "pc.has_index(index_name)"
   ]
  },
  {
   "cell_type": "markdown",
   "id": "e11fcb03",
   "metadata": {},
   "source": [
    "### Creating an Index"
   ]
  },
  {
   "cell_type": "code",
   "execution_count": 11,
   "id": "0bb29d86",
   "metadata": {},
   "outputs": [],
   "source": [
    "if not pc.has_index(index_name):\n",
    "    pc.create_index(name=index_name, dimension=768, metric=\"cosine\", spec=ServerlessSpec(cloud=\"aws\",region=\"us-east-1\"))"
   ]
  },
  {
   "cell_type": "markdown",
   "id": "517e4b0d",
   "metadata": {},
   "source": [
    "### Loading the index"
   ]
  },
  {
   "cell_type": "code",
   "execution_count": 12,
   "id": "a4b1ff05",
   "metadata": {},
   "outputs": [],
   "source": [
    "index = pc.Index(index_name)"
   ]
  },
  {
   "cell_type": "code",
   "execution_count": 13,
   "id": "f8470e39",
   "metadata": {},
   "outputs": [],
   "source": [
    "from langchain_pinecone import PineconeVectorStore"
   ]
  },
  {
   "cell_type": "code",
   "execution_count": 14,
   "id": "97517e7a",
   "metadata": {},
   "outputs": [],
   "source": [
    "vector_store = PineconeVectorStore(index=index, embedding=embeddings)"
   ]
  },
  {
   "cell_type": "code",
   "execution_count": 15,
   "id": "784d5868",
   "metadata": {},
   "outputs": [
    {
     "data": {
      "text/plain": [
       "[Document(id='fcc31f4e-b144-4b0d-a435-b56721dcdcad', metadata={'source': 'tweet'}, page_content='Building an exciting new project with LangChain - come check it out!'),\n",
       " Document(id='1fd7ead9-bea1-409c-bca6-0b3cd81a7b17', metadata={'source': 'tweet'}, page_content='Building an exciting new project with LangChain - come check it out!'),\n",
       " Document(id='7f4b9f85-8bc7-4180-a961-404cee9a45c0', metadata={'source': 'tweet'}, page_content='LangGraph is the best framework for building stateful, agentic applications!')]"
      ]
     },
     "execution_count": 15,
     "metadata": {},
     "output_type": "execute_result"
    }
   ],
   "source": [
    "vector_store.similarity_search(\"What is Langchain?\", k=3)"
   ]
  },
  {
   "cell_type": "code",
   "execution_count": 16,
   "id": "c628f0af",
   "metadata": {},
   "outputs": [],
   "source": [
    "from uuid import uuid4\n",
    "from langchain_core.documents import Document\n",
    "\n",
    "document_1 = Document(page_content=\"I had chocolate chip pancakes and scrambled eggs for breakfast this morning.\", metadata={\"source\": \"tweet\"})\n",
    "\n",
    "document_2 = Document(page_content=\"The weather forecast for tomorrow is cloudy and overcast, with a high of 62 degrees.\", metadata={\"source\": \"news\"})\n",
    "\n",
    "document_3 = Document(page_content=\"Building an exciting new project with LangChain - come check it out!\", metadata={\"source\": \"tweet\"})\n",
    "\n",
    "document_4 = Document(page_content=\"Robbers broke into the city bank and stole $1M in cash\", metadata={\"source\": \"news\"})\n",
    "\n",
    "document_5 = Document(page_content=\"wow! That was an amazing movie. I can't wait to see it again.\",metadata={\"source\": \"tweet\"})\n",
    "\n",
    "document_6 = Document(page_content=\"Is the new iPhone worth the price? Read this review to find out.\", metadata={\"source\":\"website\"})\n",
    "\n",
    "document_7 = Document(page_content=\"The top 10 soccer players in the world right now.\", metadata={\"source\": \"website\"})\n",
    "\n",
    "document_8 = Document(page_content=\"LangGraph is the best framework for building stateful, agentic applications!\", metadata={\"source\": \"tweet\"})\n",
    "\n",
    "document_9 = Document(page_content=\"The stock market is down 500 points today due to fears of a recession.\",metadata={\"source\": \"news\"})\n",
    "\n",
    "document_10 = Document(page_content=\"I have a bad feeling I am going to get deleted :(\", metadata={\"source\": \"tweet\"})\n",
    "\n",
    "documents = [document_1, document_2, document_3, document_4, document_5, document_6, document_7, document_8, document_9, document_10]"
   ]
  },
  {
   "cell_type": "code",
   "execution_count": 17,
   "id": "cfc86a33",
   "metadata": {},
   "outputs": [
    {
     "data": {
      "text/plain": [
       "['8225dbec-4d94-421c-9c7c-2d60d84ce024',\n",
       " '4d6c4070-4835-4551-98d2-7a4bc0719c2b',\n",
       " '3ff53cf4-7922-47a2-a004-6c0b2893635a',\n",
       " 'eadef95d-46b6-4ebd-a844-8d1276f481e5',\n",
       " '31507cf0-ccf6-4e2d-a210-13f10030dc29',\n",
       " '3ff8cdb2-d534-4648-8f8e-05913adbe269',\n",
       " '845f4220-0ef4-484c-8a3d-0186348270c4',\n",
       " '931da4b7-27bd-4cba-b3de-95b658040b23',\n",
       " '7bf58bad-c649-4747-9664-7bfb7a4f9d3d',\n",
       " '577fa96f-ba39-4187-ab2e-0a39074017bb']"
      ]
     },
     "execution_count": 17,
     "metadata": {},
     "output_type": "execute_result"
    }
   ],
   "source": [
    "uuids = [str(uuid4()) for _ in range(len(documents))]\n",
    "vector_store.add_documents(documents, ids=uuids)"
   ]
  },
  {
   "cell_type": "code",
   "execution_count": 18,
   "id": "184f41b6",
   "metadata": {},
   "outputs": [
    {
     "data": {
      "text/plain": [
       "[Document(id='fcc31f4e-b144-4b0d-a435-b56721dcdcad', metadata={'source': 'tweet'}, page_content='Building an exciting new project with LangChain - come check it out!'),\n",
       " Document(id='1fd7ead9-bea1-409c-bca6-0b3cd81a7b17', metadata={'source': 'tweet'}, page_content='Building an exciting new project with LangChain - come check it out!'),\n",
       " Document(id='3ff53cf4-7922-47a2-a004-6c0b2893635a', metadata={'source': 'tweet'}, page_content='Building an exciting new project with LangChain - come check it out!')]"
      ]
     },
     "execution_count": 18,
     "metadata": {},
     "output_type": "execute_result"
    }
   ],
   "source": [
    "vector_store.similarity_search(\"What is Langchain?\", k=3)"
   ]
  },
  {
   "cell_type": "code",
   "execution_count": 19,
   "id": "b8318e0c",
   "metadata": {},
   "outputs": [],
   "source": [
    "retriever = vector_store.as_retriever(search_kwargs={\"k\": 3})"
   ]
  },
  {
   "cell_type": "code",
   "execution_count": 20,
   "id": "dcd9cb4d",
   "metadata": {},
   "outputs": [
    {
     "data": {
      "text/plain": [
       "[Document(id='fcc31f4e-b144-4b0d-a435-b56721dcdcad', metadata={'source': 'tweet'}, page_content='Building an exciting new project with LangChain - come check it out!'),\n",
       " Document(id='1fd7ead9-bea1-409c-bca6-0b3cd81a7b17', metadata={'source': 'tweet'}, page_content='Building an exciting new project with LangChain - come check it out!'),\n",
       " Document(id='3ff53cf4-7922-47a2-a004-6c0b2893635a', metadata={'source': 'tweet'}, page_content='Building an exciting new project with LangChain - come check it out!')]"
      ]
     },
     "execution_count": 20,
     "metadata": {},
     "output_type": "execute_result"
    }
   ],
   "source": [
    "retriever.invoke(\"What is Langchain?\")"
   ]
  },
  {
   "cell_type": "code",
   "execution_count": 29,
   "id": "226d5c9b",
   "metadata": {},
   "outputs": [],
   "source": [
    "from  langchain import hub\n",
    "\n",
    "prompt = hub.pull(\"rlm/rag-prompt\")"
   ]
  },
  {
   "cell_type": "code",
   "execution_count": 30,
   "id": "3319fb24",
   "metadata": {},
   "outputs": [
    {
     "name": "stdout",
     "output_type": "stream",
     "text": [
      "[HumanMessagePromptTemplate(prompt=PromptTemplate(input_variables=['context', 'question'], input_types={}, partial_variables={}, template=\"You are an assistant for question-answering tasks. Use the following pieces of retrieved context to answer the question. If you don't know the answer, just say that you don't know. Use three sentences maximum and keep the answer concise.\\nQuestion: {question} \\nContext: {context} \\nAnswer:\"), additional_kwargs={})]\n"
     ]
    }
   ],
   "source": [
    "import pprint\n",
    "pprint.pprint(prompt.messages)"
   ]
  },
  {
   "cell_type": "code",
   "execution_count": 32,
   "id": "ba690647",
   "metadata": {},
   "outputs": [],
   "source": [
    "from langchain_core.output_parsers import StrOutputParser\n",
    "from langchain_core.runnables import RunnablePassthrough"
   ]
  },
  {
   "cell_type": "code",
   "execution_count": 33,
   "id": "cf35a5a2",
   "metadata": {},
   "outputs": [],
   "source": [
    "def format_docs(docs):\n",
    "    return \"\\n\\n\".join(doc.page_content for doc in docs)"
   ]
  },
  {
   "cell_type": "code",
   "execution_count": 36,
   "id": "ddfd82bf",
   "metadata": {},
   "outputs": [
    {
     "ename": "NameError",
     "evalue": "name 'model' is not defined",
     "output_type": "error",
     "traceback": [
      "\u001b[31m---------------------------------------------------------------------------\u001b[39m",
      "\u001b[31mNameError\u001b[39m                                 Traceback (most recent call last)",
      "\u001b[36mCell\u001b[39m\u001b[36m \u001b[39m\u001b[32mIn[36]\u001b[39m\u001b[32m, line 1\u001b[39m\n\u001b[32m----> \u001b[39m\u001b[32m1\u001b[39m rag_chain = ({\u001b[33m\"\u001b[39m\u001b[33mcontext\u001b[39m\u001b[33m\"\u001b[39m: retriever | format_docs, \u001b[33m\"\u001b[39m\u001b[33mquestion\u001b[39m\u001b[33m\"\u001b[39m: RunnablePassthrough()} | prompt | model | StrOutputParser())\n",
      "\u001b[31mNameError\u001b[39m: name 'model' is not defined"
     ]
    }
   ],
   "source": [
    "rag_chain = ({\"context\": retriever | format_docs, \"question\": RunnablePassthrough()} | prompt | model | StrOutputParser())"
   ]
  },
  {
   "cell_type": "code",
   "execution_count": 37,
   "id": "d64e012a",
   "metadata": {},
   "outputs": [
    {
     "ename": "NameError",
     "evalue": "name 'rag_chain' is not defined",
     "output_type": "error",
     "traceback": [
      "\u001b[31m---------------------------------------------------------------------------\u001b[39m",
      "\u001b[31mNameError\u001b[39m                                 Traceback (most recent call last)",
      "\u001b[36mCell\u001b[39m\u001b[36m \u001b[39m\u001b[32mIn[37]\u001b[39m\u001b[32m, line 1\u001b[39m\n\u001b[32m----> \u001b[39m\u001b[32m1\u001b[39m rag_chain.invoke(\u001b[33m\"\u001b[39m\u001b[33mWhat is Langchain?\u001b[39m\u001b[33m\"\u001b[39m)\n",
      "\u001b[31mNameError\u001b[39m: name 'rag_chain' is not defined"
     ]
    }
   ],
   "source": [
    "rag_chain.invoke(\"What is Langchain?\")"
   ]
  }
 ],
 "metadata": {
  "kernelspec": {
   "display_name": "Python 3",
   "language": "python",
   "name": "python3"
  },
  "language_info": {
   "codemirror_mode": {
    "name": "ipython",
    "version": 3
   },
   "file_extension": ".py",
   "mimetype": "text/x-python",
   "name": "python",
   "nbconvert_exporter": "python",
   "pygments_lexer": "ipython3",
   "version": "3.13.2"
  }
 },
 "nbformat": 4,
 "nbformat_minor": 5
}
