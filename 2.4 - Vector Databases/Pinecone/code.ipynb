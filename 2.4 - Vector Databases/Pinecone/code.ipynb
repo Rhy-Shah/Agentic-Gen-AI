{
 "cells": [
  {
   "cell_type": "code",
   "execution_count": 25,
   "id": "998ade90",
   "metadata": {},
   "outputs": [],
   "source": [
    "from langchain_community.embeddings import HuggingFaceEmbeddings\n",
    "\n",
    "embeddings = HuggingFaceEmbeddings(model_name=\"all-MiniLM-L6-v2\")"
   ]
  },
  {
   "cell_type": "code",
   "execution_count": 26,
   "id": "935cfb1b",
   "metadata": {},
   "outputs": [],
   "source": [
    "from dotenv import load_dotenv\n",
    "load_dotenv()\n",
    "import os\n",
    "os.environ['HF_TOKEN'] = os.getenv('HF_TOKEN')\n",
    "os.environ['GOOGLE_API_KEY'] = os.getenv('GOOGLE_API_KEY')"
   ]
  },
  {
   "cell_type": "code",
   "execution_count": 27,
   "id": "42c69710",
   "metadata": {},
   "outputs": [
    {
     "data": {
      "text/plain": [
       "384"
      ]
     },
     "execution_count": 27,
     "metadata": {},
     "output_type": "execute_result"
    }
   ],
   "source": [
    "len(embeddings.embed_query(\"Hello world\"))"
   ]
  },
  {
   "cell_type": "code",
   "execution_count": 28,
   "id": "86bae338",
   "metadata": {},
   "outputs": [],
   "source": [
    "from langchain_google_genai import GoogleGenerativeAIEmbeddings\n",
    "embeddings = GoogleGenerativeAIEmbeddings(model = \"models/embedding-001\")"
   ]
  },
  {
   "cell_type": "code",
   "execution_count": 29,
   "id": "9ead1d64",
   "metadata": {},
   "outputs": [
    {
     "data": {
      "text/plain": [
       "768"
      ]
     },
     "execution_count": 29,
     "metadata": {},
     "output_type": "execute_result"
    }
   ],
   "source": [
    "len(embeddings.embed_query(\"Hello world\"))"
   ]
  },
  {
   "cell_type": "code",
   "execution_count": 30,
   "id": "d0e15d0f",
   "metadata": {},
   "outputs": [],
   "source": [
    "from pinecone import Pinecone\n",
    "\n",
    "os.environ['PINECONE_API_KEY'] = os.getenv(\"PINECONE_API_KEY\")"
   ]
  },
  {
   "cell_type": "code",
   "execution_count": 31,
   "id": "51f9fc7f",
   "metadata": {},
   "outputs": [],
   "source": [
    "pc = Pinecone(api_key=os.getenv(\"PINECONE_API_KEY\"))"
   ]
  },
  {
   "cell_type": "code",
   "execution_count": 32,
   "id": "0c52b7ab",
   "metadata": {},
   "outputs": [],
   "source": [
    "from pinecone import ServerlessSpec"
   ]
  },
  {
   "cell_type": "markdown",
   "id": "57e97bbf",
   "metadata": {},
   "source": [
    "#### Servlerless means that the server will be managed by the cloud Provider"
   ]
  },
  {
   "cell_type": "code",
   "execution_count": 33,
   "id": "06e672ba",
   "metadata": {},
   "outputs": [],
   "source": [
    "index_name = \"rhy-genai\""
   ]
  },
  {
   "cell_type": "code",
   "execution_count": 34,
   "id": "3cddb03b",
   "metadata": {},
   "outputs": [
    {
     "data": {
      "text/plain": [
       "True"
      ]
     },
     "execution_count": 34,
     "metadata": {},
     "output_type": "execute_result"
    }
   ],
   "source": [
    "pc.has_index(index_name)"
   ]
  },
  {
   "cell_type": "markdown",
   "id": "e11fcb03",
   "metadata": {},
   "source": [
    "### Creating an Index"
   ]
  },
  {
   "cell_type": "code",
   "execution_count": 35,
   "id": "0bb29d86",
   "metadata": {},
   "outputs": [],
   "source": [
    "if not pc.has_index(index_name):\n",
    "    pc.create_index(name=index_name, dimension=768, metric=\"cosine\", spec=ServerlessSpec(cloud=\"aws\",region=\"us-east-1\"))"
   ]
  },
  {
   "cell_type": "markdown",
   "id": "517e4b0d",
   "metadata": {},
   "source": [
    "### Loading the index"
   ]
  },
  {
   "cell_type": "code",
   "execution_count": 36,
   "id": "a4b1ff05",
   "metadata": {},
   "outputs": [],
   "source": [
    "index = pc.Index(index_name)"
   ]
  },
  {
   "cell_type": "code",
   "execution_count": 37,
   "id": "f8470e39",
   "metadata": {},
   "outputs": [],
   "source": [
    "from langchain_pinecone import PineconeVectorStore"
   ]
  },
  {
   "cell_type": "code",
   "execution_count": 38,
   "id": "97517e7a",
   "metadata": {},
   "outputs": [],
   "source": [
    "vector_store = PineconeVectorStore(index=index, embedding=embeddings)"
   ]
  },
  {
   "cell_type": "code",
   "execution_count": 39,
   "id": "784d5868",
   "metadata": {},
   "outputs": [
    {
     "data": {
      "text/plain": [
       "[Document(id='fcc31f4e-b144-4b0d-a435-b56721dcdcad', metadata={'source': 'tweet'}, page_content='Building an exciting new project with LangChain - come check it out!'),\n",
       " Document(id='555aae72-fc9c-4d78-a35f-22527becdb7a', metadata={'source': 'tweet'}, page_content='LangGraph is the best framework for building stateful, agentic applications!'),\n",
       " Document(id='0a91c53f-9c1d-47ee-900b-21bc6aecd26c', metadata={'source': 'tweet'}, page_content='I have a bad feeling I am going to get deleted :(')]"
      ]
     },
     "execution_count": 39,
     "metadata": {},
     "output_type": "execute_result"
    }
   ],
   "source": [
    "vector_store.similarity_search(\"What is Langchain?\", k=3)"
   ]
  },
  {
   "cell_type": "code",
   "execution_count": 40,
   "id": "c628f0af",
   "metadata": {},
   "outputs": [],
   "source": [
    "from uuid import uuid4\n",
    "from langchain_core.documents import Document\n",
    "\n",
    "document_1 = Document(page_content=\"I had chocolate chip pancakes and scrambled eggs for breakfast this morning.\", metadata={\"source\": \"tweet\"})\n",
    "\n",
    "document_2 = Document(page_content=\"The weather forecast for tomorrow is cloudy and overcast, with a high of 62 degrees.\", metadata={\"source\": \"news\"})\n",
    "\n",
    "document_3 = Document(page_content=\"Building an exciting new project with LangChain - come check it out!\", metadata={\"source\": \"tweet\"})\n",
    "\n",
    "document_4 = Document(page_content=\"Robbers broke into the city bank and stole $1M in cash\", metadata={\"source\": \"news\"})\n",
    "\n",
    "document_5 = Document(page_content=\"wow! That was an amazing movie. I can't wait to see it again.\",metadata={\"source\": \"tweet\"})\n",
    "\n",
    "document_6 = Document(page_content=\"Is the new iPhone worth the price? Read this review to find out.\", metadata={\"source\":\"website\"})\n",
    "\n",
    "document_7 = Document(page_content=\"The top 10 soccer players in the world right now.\", metadata={\"source\": \"website\"})\n",
    "\n",
    "document_8 = Document(page_content=\"LangGraph is the best framework for building stateful, agentic applications!\", metadata={\"source\": \"tweet\"})\n",
    "\n",
    "document_9 = Document(page_content=\"The stock market is down 500 points today due to fears of a recession.\",metadata={\"source\": \"news\"})\n",
    "\n",
    "document_10 = Document(page_content=\"I have a bad feeling I am going to get deleted :(\", metadata={\"source\": \"tweet\"})\n",
    "\n",
    "documents = [document_1, document_2, document_3, document_4, document_5, document_6, document_7, document_8, document_9, document_10]"
   ]
  },
  {
   "cell_type": "code",
   "execution_count": 41,
   "id": "cfc86a33",
   "metadata": {},
   "outputs": [
    {
     "data": {
      "text/plain": [
       "['14cbc4aa-ee95-442e-8e3f-8d0bfab2c1a3',\n",
       " '73f1e0b6-9533-40ba-a87f-e0732e52d1a9',\n",
       " '1fd7ead9-bea1-409c-bca6-0b3cd81a7b17',\n",
       " 'c74fe61b-bf68-4520-b8e5-c166f9e0ddf0',\n",
       " 'dbe0752f-ed27-4277-bed9-1a78f80364a8',\n",
       " 'eedc0761-68ea-4124-9e19-b6d7a85202a7',\n",
       " '62c01a55-f453-485e-b51c-9c5ba70fe79d',\n",
       " '7f4b9f85-8bc7-4180-a961-404cee9a45c0',\n",
       " 'ea52a3e9-e3b7-4f67-ac1e-af7ee98d8ef7',\n",
       " 'db173d2d-916e-4e9a-a513-a01a200af247']"
      ]
     },
     "execution_count": 41,
     "metadata": {},
     "output_type": "execute_result"
    }
   ],
   "source": [
    "uuids = [str(uuid4()) for _ in range(len(documents))]\n",
    "vector_store.add_documents(documents, ids=uuids)"
   ]
  },
  {
   "cell_type": "code",
   "execution_count": 42,
   "id": "184f41b6",
   "metadata": {},
   "outputs": [
    {
     "data": {
      "text/plain": [
       "[Document(id='fcc31f4e-b144-4b0d-a435-b56721dcdcad', metadata={'source': 'tweet'}, page_content='Building an exciting new project with LangChain - come check it out!'),\n",
       " Document(id='1fd7ead9-bea1-409c-bca6-0b3cd81a7b17', metadata={'source': 'tweet'}, page_content='Building an exciting new project with LangChain - come check it out!'),\n",
       " Document(id='7f4b9f85-8bc7-4180-a961-404cee9a45c0', metadata={'source': 'tweet'}, page_content='LangGraph is the best framework for building stateful, agentic applications!')]"
      ]
     },
     "execution_count": 42,
     "metadata": {},
     "output_type": "execute_result"
    }
   ],
   "source": [
    "vector_store.similarity_search(\"What is Langchain?\", k=3)"
   ]
  },
  {
   "cell_type": "code",
   "execution_count": null,
   "id": "b8318e0c",
   "metadata": {},
   "outputs": [],
   "source": []
  }
 ],
 "metadata": {
  "kernelspec": {
   "display_name": "Python 3",
   "language": "python",
   "name": "python3"
  },
  "language_info": {
   "codemirror_mode": {
    "name": "ipython",
    "version": 3
   },
   "file_extension": ".py",
   "mimetype": "text/x-python",
   "name": "python",
   "nbconvert_exporter": "python",
   "pygments_lexer": "ipython3",
   "version": "3.13.2"
  }
 },
 "nbformat": 4,
 "nbformat_minor": 5
}
