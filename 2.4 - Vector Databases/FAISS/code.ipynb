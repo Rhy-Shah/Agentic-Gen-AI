{
 "cells": [
  {
   "cell_type": "code",
   "execution_count": 4,
   "id": "e7972123",
   "metadata": {},
   "outputs": [],
   "source": [
    "from dotenv import load_dotenv\n",
    "import faiss\n",
    "from langchain_community.vectorstores import FAISS\n",
    "from langchain_community.docstore.in_memory import InMemoryDocstore"
   ]
  },
  {
   "cell_type": "code",
   "execution_count": 5,
   "id": "f9c345de",
   "metadata": {},
   "outputs": [
    {
     "data": {
      "text/plain": [
       "True"
      ]
     },
     "execution_count": 5,
     "metadata": {},
     "output_type": "execute_result"
    }
   ],
   "source": [
    "load_dotenv(dotenv_path=\"/Users/rhy/Library/CloudStorage/OneDrive-ArizonaStateUniversity/SelfStudy/Agentic & Gen AI with Cloud/.env\")"
   ]
  },
  {
   "cell_type": "code",
   "execution_count": 6,
   "id": "e16e893e",
   "metadata": {},
   "outputs": [
    {
     "name": "stderr",
     "output_type": "stream",
     "text": [
      "/Users/rhy/Library/CloudStorage/OneDrive-ArizonaStateUniversity/SelfStudy/Agentic & Gen AI with Cloud/agenticai/lib/python3.13/site-packages/tqdm/auto.py:21: TqdmWarning: IProgress not found. Please update jupyter and ipywidgets. See https://ipywidgets.readthedocs.io/en/stable/user_install.html\n",
      "  from .autonotebook import tqdm as notebook_tqdm\n"
     ]
    }
   ],
   "source": [
    "from langchain_community.embeddings import HuggingFaceEmbeddings\n",
    "\n",
    "embeddings = HuggingFaceEmbeddings(model_name=\"all-MiniLM-L6-v2\")"
   ]
  },
  {
   "cell_type": "code",
   "execution_count": 7,
   "id": "644a164c",
   "metadata": {},
   "outputs": [],
   "source": [
    "index = faiss.IndexFlatL2(384)"
   ]
  },
  {
   "cell_type": "code",
   "execution_count": 8,
   "id": "63df49b5",
   "metadata": {},
   "outputs": [
    {
     "data": {
      "text/plain": [
       "<faiss.swigfaiss.IndexFlatL2; proxy of <Swig Object of type 'faiss::IndexFlatL2 *' at 0x13e73f7b0> >"
      ]
     },
     "execution_count": 8,
     "metadata": {},
     "output_type": "execute_result"
    }
   ],
   "source": [
    "index"
   ]
  },
  {
   "cell_type": "code",
   "execution_count": null,
   "id": "cd203c5d",
   "metadata": {},
   "outputs": [],
   "source": [
    "vector_score = FAISS(\n",
    "    embedding_function = embeddings,\n",
    "    index = index,\n",
    "    docstore = InMemoryDocstore(),\n",
    "    index_to_docstore_id = {})"
   ]
  },
  {
   "cell_type": "code",
   "execution_count": 10,
   "id": "2820c3ca",
   "metadata": {},
   "outputs": [
    {
     "data": {
      "text/plain": [
       "['f174b730-3f94-4478-87b4-45c1b85c84e1',\n",
       " '0743f914-fd7b-4e2b-b768-595439b246d9',\n",
       " 'b22f8485-542f-4594-939b-0ab7b9b7da6e']"
      ]
     },
     "execution_count": 10,
     "metadata": {},
     "output_type": "execute_result"
    }
   ],
   "source": [
    "vector_score.add_texts([\"Ai is the future\", \"AI is the present\", \"I like Dogs\"])"
   ]
  },
  {
   "cell_type": "code",
   "execution_count": 11,
   "id": "eedd10b2",
   "metadata": {},
   "outputs": [
    {
     "data": {
      "text/plain": [
       "{0: 'f174b730-3f94-4478-87b4-45c1b85c84e1',\n",
       " 1: '0743f914-fd7b-4e2b-b768-595439b246d9',\n",
       " 2: 'b22f8485-542f-4594-939b-0ab7b9b7da6e'}"
      ]
     },
     "execution_count": 11,
     "metadata": {},
     "output_type": "execute_result"
    }
   ],
   "source": [
    "vector_score.index_to_docstore_id"
   ]
  },
  {
   "cell_type": "code",
   "execution_count": 13,
   "id": "717c6e75",
   "metadata": {},
   "outputs": [
    {
     "data": {
      "text/plain": [
       "[Document(id='f174b730-3f94-4478-87b4-45c1b85c84e1', metadata={}, page_content='Ai is the future'),\n",
       " Document(id='0743f914-fd7b-4e2b-b768-595439b246d9', metadata={}, page_content='AI is the present')]"
      ]
     },
     "execution_count": 13,
     "metadata": {},
     "output_type": "execute_result"
    }
   ],
   "source": [
    "results = vector_score.similarity_search(\"Tell me about AI\", k=2)\n",
    "results"
   ]
  },
  {
   "cell_type": "code",
   "execution_count": 14,
   "id": "e13f5a66",
   "metadata": {},
   "outputs": [],
   "source": [
    "from langchain_core.documents import Document\n",
    "\n",
    "document_1 = Document(page_content=\"I had chocolate chip pancakes and scrambled eggs for breakfast this morning.\", metadata={\"source\": \"tweet\"})\n",
    "\n",
    "document_2 = Document(page_content=\"The weather forecast for tomorrow is cloudy and overcast, with a high of 62 degrees.\", metadata={\"source\": \"news\"})\n",
    "\n",
    "document_3 = Document(page_content=\"Building an exciting new project with LangChain - come check it out!\", metadata={\"source\": \"tweet\"})\n",
    "\n",
    "document_4 = Document(page_content=\"Robbers broke into the city bank and stole $1M in cash\", metadata={\"source\": \"news\"})\n",
    "\n",
    "document_5 = Document(page_content=\"wow! That was an amazing movie. I can't wait to see it again.\",metadata={\"source\": \"tweet\"})\n",
    "\n",
    "document_6 = Document(page_content=\"Is the new iPhone worth the price? Read this review to find out.\", metadata={\"source\":\"website\"})\n",
    "\n",
    "document_7 = Document(page_content=\"The top 10 soccer players in the world right now.\", metadata={\"source\": \"website\"})\n",
    "\n",
    "document_8 = Document(page_content=\"LangGraph is the best framework for building stateful, agentic applications!\", metadata={\"source\": \"tweet\"})\n",
    "\n",
    "document_9 = Document(page_content=\"The stock market is down 500 points today due to fears of a recession.\",metadata={\"source\": \"news\"})\n",
    "\n",
    "document_10 = Document(page_content=\"I have a bad feeling I am going to get deleted :(\", metadata={\"source\": \"tweet\"})\n",
    "\n",
    "documents = [document_1, document_2, document_3, document_4, document_5, document_6, document_7, document_8, document_9, document_10]"
   ]
  },
  {
   "cell_type": "code",
   "execution_count": 15,
   "id": "5dace6de",
   "metadata": {},
   "outputs": [],
   "source": [
    "index = faiss.IndexFlatIP(384)\n",
    "\n",
    "vector_score = FAISS(\n",
    "    embedding_function = embeddings,\n",
    "    index = index,\n",
    "    docstore = InMemoryDocstore(),\n",
    "    index_to_docstore_id = {})"
   ]
  },
  {
   "cell_type": "code",
   "execution_count": 16,
   "id": "f9da177c",
   "metadata": {},
   "outputs": [
    {
     "data": {
      "text/plain": [
       "['a963ef06-87d7-4ad0-9f9c-5e20cd50f338',\n",
       " '87b5ed7e-0889-4928-8b1b-94891d06223d',\n",
       " '291d83de-1787-4860-b3bc-a07685eb3d21',\n",
       " '3b9d1be3-7b4f-4cf2-9498-e4946859b9fb',\n",
       " 'bb8d2e45-c391-49de-8c26-e519e1fe58f3',\n",
       " '885b8a68-251b-4344-929b-420453197feb',\n",
       " 'ae13e59f-a0a6-4be0-9c39-e43dd0a6c75c',\n",
       " 'c4685234-e565-425a-a8ae-9fb83bf24b74',\n",
       " '32437050-e2bb-4448-8a65-83a2f2d30776',\n",
       " '25432dae-88eb-4461-967a-3f9167a707b4']"
      ]
     },
     "execution_count": 16,
     "metadata": {},
     "output_type": "execute_result"
    }
   ],
   "source": [
    "vector_score.add_documents(documents)"
   ]
  },
  {
   "cell_type": "code",
   "execution_count": null,
   "id": "6fc8574d",
   "metadata": {},
   "outputs": [
    {
     "data": {
      "text/plain": [
       "[Document(id='291d83de-1787-4860-b3bc-a07685eb3d21', metadata={'source': 'tweet'}, page_content='Building an exciting new project with LangChain - come check it out!'),\n",
       " Document(id='c4685234-e565-425a-a8ae-9fb83bf24b74', metadata={'source': 'tweet'}, page_content='LangGraph is the best framework for building stateful, agentic applications!'),\n",
       " Document(id='3b9d1be3-7b4f-4cf2-9498-e4946859b9fb', metadata={'source': 'news'}, page_content='Robbers broke into the city bank and stole $1M in cash'),\n",
       " Document(id='25432dae-88eb-4461-967a-3f9167a707b4', metadata={'source': 'tweet'}, page_content='I have a bad feeling I am going to get deleted :(')]"
      ]
     },
     "execution_count": 17,
     "metadata": {},
     "output_type": "execute_result"
    }
   ],
   "source": [
    "vector_score.similarity_search(\"LangChain provides abstractions to make working with LLMs easy\")"
   ]
  },
  {
   "cell_type": "code",
   "execution_count": 19,
   "id": "76aa5d5b",
   "metadata": {},
   "outputs": [
    {
     "data": {
      "text/plain": [
       "[Document(id='291d83de-1787-4860-b3bc-a07685eb3d21', metadata={'source': 'tweet'}, page_content='Building an exciting new project with LangChain - come check it out!'),\n",
       " Document(id='c4685234-e565-425a-a8ae-9fb83bf24b74', metadata={'source': 'tweet'}, page_content='LangGraph is the best framework for building stateful, agentic applications!')]"
      ]
     },
     "execution_count": 19,
     "metadata": {},
     "output_type": "execute_result"
    }
   ],
   "source": [
    "vector_score.similarity_search(\"LangChain provides abstractions to make working with LLMs easy\", k=2)"
   ]
  },
  {
   "cell_type": "code",
   "execution_count": 20,
   "id": "6ac7c634",
   "metadata": {},
   "outputs": [
    {
     "data": {
      "text/plain": [
       "[Document(id='291d83de-1787-4860-b3bc-a07685eb3d21', metadata={'source': 'tweet'}, page_content='Building an exciting new project with LangChain - come check it out!'),\n",
       " Document(id='c4685234-e565-425a-a8ae-9fb83bf24b74', metadata={'source': 'tweet'}, page_content='LangGraph is the best framework for building stateful, agentic applications!'),\n",
       " Document(id='25432dae-88eb-4461-967a-3f9167a707b4', metadata={'source': 'tweet'}, page_content='I have a bad feeling I am going to get deleted :('),\n",
       " Document(id='a963ef06-87d7-4ad0-9f9c-5e20cd50f338', metadata={'source': 'tweet'}, page_content='I had chocolate chip pancakes and scrambled eggs for breakfast this morning.')]"
      ]
     },
     "execution_count": 20,
     "metadata": {},
     "output_type": "execute_result"
    }
   ],
   "source": [
    "vector_score.similarity_search(\"LangChain provides abstractions to make working with LLMs easy\", filter={\"source\": \"tweet\"})"
   ]
  },
  {
   "cell_type": "code",
   "execution_count": 26,
   "id": "bc72d6e1",
   "metadata": {},
   "outputs": [
    {
     "data": {
      "text/plain": [
       "[Document(id='291d83de-1787-4860-b3bc-a07685eb3d21', metadata={'source': 'tweet'}, page_content='Building an exciting new project with LangChain - come check it out!'),\n",
       " Document(id='c4685234-e565-425a-a8ae-9fb83bf24b74', metadata={'source': 'tweet'}, page_content='LangGraph is the best framework for building stateful, agentic applications!')]"
      ]
     },
     "execution_count": 26,
     "metadata": {},
     "output_type": "execute_result"
    }
   ],
   "source": [
    "result = vector_score.similarity_search(\"LangChain provides abstractions to make working with LLMs easy\", k=2, filter={\"source\": \"tweet\"})\n",
    "result"
   ]
  },
  {
   "cell_type": "code",
   "execution_count": 24,
   "id": "0e342dff",
   "metadata": {},
   "outputs": [
    {
     "data": {
      "text/plain": [
       "{'source': 'tweet'}"
      ]
     },
     "execution_count": 24,
     "metadata": {},
     "output_type": "execute_result"
    }
   ],
   "source": [
    "result[0].metadata"
   ]
  },
  {
   "cell_type": "code",
   "execution_count": 25,
   "id": "c9cbe23f",
   "metadata": {},
   "outputs": [
    {
     "data": {
      "text/plain": [
       "'Building an exciting new project with LangChain - come check it out!'"
      ]
     },
     "execution_count": 25,
     "metadata": {},
     "output_type": "execute_result"
    }
   ],
   "source": [
    "result[0].page_content"
   ]
  },
  {
   "cell_type": "code",
   "execution_count": null,
   "id": "31adec5b",
   "metadata": {},
   "outputs": [],
   "source": []
  }
 ],
 "metadata": {
  "kernelspec": {
   "display_name": "Python 3",
   "language": "python",
   "name": "python3"
  },
  "language_info": {
   "codemirror_mode": {
    "name": "ipython",
    "version": 3
   },
   "file_extension": ".py",
   "mimetype": "text/x-python",
   "name": "python",
   "nbconvert_exporter": "python",
   "pygments_lexer": "ipython3",
   "version": "3.13.2"
  }
 },
 "nbformat": 4,
 "nbformat_minor": 5
}
