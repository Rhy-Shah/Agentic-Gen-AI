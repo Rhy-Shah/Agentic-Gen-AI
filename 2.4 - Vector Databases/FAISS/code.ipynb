{
 "cells": [
  {
   "cell_type": "code",
   "execution_count": 4,
   "id": "e7972123",
   "metadata": {},
   "outputs": [],
   "source": [
    "from dotenv import load_dotenv\n",
    "import faiss\n",
    "from langchain_community.vectorstores import FAISS\n",
    "from langchain_community.docstore.in_memory import InMemoryDocstore"
   ]
  },
  {
   "cell_type": "code",
   "execution_count": 5,
   "id": "f9c345de",
   "metadata": {},
   "outputs": [
    {
     "data": {
      "text/plain": [
       "True"
      ]
     },
     "execution_count": 5,
     "metadata": {},
     "output_type": "execute_result"
    }
   ],
   "source": [
    "load_dotenv(dotenv_path=\"/Users/rhy/Library/CloudStorage/OneDrive-ArizonaStateUniversity/SelfStudy/Agentic & Gen AI with Cloud/.env\")"
   ]
  },
  {
   "cell_type": "code",
   "execution_count": 6,
   "id": "e16e893e",
   "metadata": {},
   "outputs": [
    {
     "name": "stderr",
     "output_type": "stream",
     "text": [
      "/Users/rhy/Library/CloudStorage/OneDrive-ArizonaStateUniversity/SelfStudy/Agentic & Gen AI with Cloud/agenticai/lib/python3.13/site-packages/tqdm/auto.py:21: TqdmWarning: IProgress not found. Please update jupyter and ipywidgets. See https://ipywidgets.readthedocs.io/en/stable/user_install.html\n",
      "  from .autonotebook import tqdm as notebook_tqdm\n"
     ]
    }
   ],
   "source": [
    "from langchain_community.embeddings import HuggingFaceEmbeddings\n",
    "\n",
    "embeddings = HuggingFaceEmbeddings(model_name=\"all-MiniLM-L6-v2\")"
   ]
  },
  {
   "cell_type": "code",
   "execution_count": 7,
   "id": "644a164c",
   "metadata": {},
   "outputs": [],
   "source": [
    "index = faiss.IndexFlatL2(384)"
   ]
  },
  {
   "cell_type": "code",
   "execution_count": 8,
   "id": "63df49b5",
   "metadata": {},
   "outputs": [
    {
     "data": {
      "text/plain": [
       "<faiss.swigfaiss.IndexFlatL2; proxy of <Swig Object of type 'faiss::IndexFlatL2 *' at 0x13e73f7b0> >"
      ]
     },
     "execution_count": 8,
     "metadata": {},
     "output_type": "execute_result"
    }
   ],
   "source": [
    "index"
   ]
  },
  {
   "cell_type": "code",
   "execution_count": 9,
   "id": "cd203c5d",
   "metadata": {},
   "outputs": [],
   "source": [
    "vector_score = FAISS(\n",
    "    embedding_function = embeddings,\n",
    "    index = index,\n",
    "    docstore = InMemoryDocstore(),\n",
    "    index_to_docstore_id = {}\n",
    ")"
   ]
  },
  {
   "cell_type": "code",
   "execution_count": 10,
   "id": "2820c3ca",
   "metadata": {},
   "outputs": [
    {
     "data": {
      "text/plain": [
       "['f174b730-3f94-4478-87b4-45c1b85c84e1',\n",
       " '0743f914-fd7b-4e2b-b768-595439b246d9',\n",
       " 'b22f8485-542f-4594-939b-0ab7b9b7da6e']"
      ]
     },
     "execution_count": 10,
     "metadata": {},
     "output_type": "execute_result"
    }
   ],
   "source": [
    "vector_score.add_texts([\"Ai is the future\", \"AI is the present\", \"I like Dogs\"])"
   ]
  },
  {
   "cell_type": "code",
   "execution_count": 11,
   "id": "eedd10b2",
   "metadata": {},
   "outputs": [
    {
     "data": {
      "text/plain": [
       "{0: 'f174b730-3f94-4478-87b4-45c1b85c84e1',\n",
       " 1: '0743f914-fd7b-4e2b-b768-595439b246d9',\n",
       " 2: 'b22f8485-542f-4594-939b-0ab7b9b7da6e'}"
      ]
     },
     "execution_count": 11,
     "metadata": {},
     "output_type": "execute_result"
    }
   ],
   "source": [
    "vector_score.index_to_docstore_id"
   ]
  },
  {
   "cell_type": "code",
   "execution_count": 13,
   "id": "717c6e75",
   "metadata": {},
   "outputs": [
    {
     "data": {
      "text/plain": [
       "[Document(id='f174b730-3f94-4478-87b4-45c1b85c84e1', metadata={}, page_content='Ai is the future'),\n",
       " Document(id='0743f914-fd7b-4e2b-b768-595439b246d9', metadata={}, page_content='AI is the present')]"
      ]
     },
     "execution_count": 13,
     "metadata": {},
     "output_type": "execute_result"
    }
   ],
   "source": [
    "results = vector_score.similarity_search(\"Tell me about AI\", k=2)\n",
    "results"
   ]
  },
  {
   "cell_type": "code",
   "execution_count": null,
   "id": "e13f5a66",
   "metadata": {},
   "outputs": [],
   "source": []
  }
 ],
 "metadata": {
  "kernelspec": {
   "display_name": "Python 3",
   "language": "python",
   "name": "python3"
  },
  "language_info": {
   "codemirror_mode": {
    "name": "ipython",
    "version": 3
   },
   "file_extension": ".py",
   "mimetype": "text/x-python",
   "name": "python",
   "nbconvert_exporter": "python",
   "pygments_lexer": "ipython3",
   "version": "3.13.2"
  }
 },
 "nbformat": 4,
 "nbformat_minor": 5
}
