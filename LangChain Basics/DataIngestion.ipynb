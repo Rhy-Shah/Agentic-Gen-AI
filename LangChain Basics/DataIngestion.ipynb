{
 "cells": [
  {
   "cell_type": "markdown",
   "id": "a1aa908c",
   "metadata": {},
   "source": [
    "### Data Loader"
   ]
  },
  {
   "cell_type": "code",
   "execution_count": null,
   "id": "1b96e5c5",
   "metadata": {},
   "outputs": [],
   "source": []
  }
 ],
 "metadata": {
  "language_info": {
   "name": "python"
  }
 },
 "nbformat": 4,
 "nbformat_minor": 5
}
